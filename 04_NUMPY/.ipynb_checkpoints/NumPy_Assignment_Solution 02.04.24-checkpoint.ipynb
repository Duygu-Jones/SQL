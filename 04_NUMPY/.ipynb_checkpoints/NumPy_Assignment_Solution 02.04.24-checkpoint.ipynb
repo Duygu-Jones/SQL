{
 "cells": [
  {
   "cell_type": "markdown",
   "id": "1314207c",
   "metadata": {},
   "source": [
    "# <p style=\"background-color:green;font-family:newtimeroman;font-size:200%;color:white;text-align:center;border-radius:20px 20px;\"><b>NumPy Assignment Solution</b></p>\n",
    "![](https://www.techproeducation.com/logo/headerlogo.svg)\n",
    "\n",
    "<b>Yeniliklerden ilk siz haberdar olmak istiyorsanız lütfen bizi takip etmeyi unutmayın </b>[YouTube](https://www.youtube.com/c/techproeducation) | [Instagram](https://www.instagram.com/techproeducation) | [Facebook](https://www.facebook.com/techproeducation) | [Telegram](https://t.me/joinchat/HH2qRvA-ulh4OWbb) | [Whatsapp](https://api.whatsapp.com/send/?phone=%2B15853042959&text&type=phone_number&app_absent=0) | [LinkedIn](https://www.linkedin.com/company/techproeducation/mycompany/) |"
   ]
  },
  {
   "cell_type": "markdown",
   "id": "95f61b17-f2e4-41cb-9318-8154c4cfba00",
   "metadata": {},
   "source": [
    "# NumPy Assignment"
   ]
  },
  {
   "cell_type": "markdown",
   "id": "0b956e8b-c012-4b7d-9fe1-be68fe668606",
   "metadata": {},
   "source": [
    "## Import the numpy package under the name as np & print the numpy version"
   ]
  },
  {
   "cell_type": "code",
   "execution_count": 1,
   "id": "668e8221",
   "metadata": {
    "ExecuteTime": {
     "end_time": "2023-12-01T12:53:38.820452Z",
     "start_time": "2023-12-01T12:53:38.456951Z"
    }
   },
   "outputs": [],
   "source": [
    "import numpy as np"
   ]
  },
  {
   "cell_type": "code",
   "execution_count": 2,
   "id": "ee22615c",
   "metadata": {
    "ExecuteTime": {
     "end_time": "2023-12-01T12:53:38.842717Z",
     "start_time": "2023-12-01T12:53:38.826085Z"
    }
   },
   "outputs": [
    {
     "data": {
      "text/plain": [
       "'1.26.2'"
      ]
     },
     "execution_count": 2,
     "metadata": {},
     "output_type": "execute_result"
    }
   ],
   "source": [
    "np.__version__"
   ]
  },
  {
   "cell_type": "markdown",
   "id": "8c171220-e212-4057-ad4c-e809ba8961fd",
   "metadata": {},
   "source": [
    "## Create a null vector of size 10"
   ]
  },
  {
   "cell_type": "code",
   "execution_count": 3,
   "id": "107c7c3b",
   "metadata": {
    "ExecuteTime": {
     "end_time": "2023-12-01T12:53:38.866227Z",
     "start_time": "2023-12-01T12:53:38.848717Z"
    }
   },
   "outputs": [
    {
     "data": {
      "text/plain": [
       "array([0., 0., 0., 0., 0., 0., 0., 0., 0., 0.])"
      ]
     },
     "execution_count": 3,
     "metadata": {},
     "output_type": "execute_result"
    }
   ],
   "source": [
    "np.zeros(10)"
   ]
  },
  {
   "cell_type": "markdown",
   "id": "2891b252-a1db-4ab4-a164-47c9cce9a271",
   "metadata": {},
   "source": [
    "## Create a null vector of size 10 but the fifth value which is 1"
   ]
  },
  {
   "cell_type": "code",
   "execution_count": 4,
   "id": "51e58682",
   "metadata": {
    "ExecuteTime": {
     "end_time": "2023-12-01T12:53:38.889978Z",
     "start_time": "2023-12-01T12:53:38.871229Z"
    }
   },
   "outputs": [
    {
     "data": {
      "text/plain": [
       "array([0., 0., 0., 0., 0., 0., 0., 0., 0., 0.])"
      ]
     },
     "execution_count": 4,
     "metadata": {},
     "output_type": "execute_result"
    }
   ],
   "source": [
    "a = np.zeros(10)\n",
    "a"
   ]
  },
  {
   "cell_type": "code",
   "execution_count": 5,
   "id": "38b54776",
   "metadata": {
    "ExecuteTime": {
     "end_time": "2023-12-01T12:53:38.904133Z",
     "start_time": "2023-12-01T12:53:38.895979Z"
    }
   },
   "outputs": [],
   "source": [
    "a[4] = 1"
   ]
  },
  {
   "cell_type": "code",
   "execution_count": 6,
   "id": "834dca07",
   "metadata": {
    "ExecuteTime": {
     "end_time": "2023-12-01T12:53:38.917518Z",
     "start_time": "2023-12-01T12:53:38.910139Z"
    }
   },
   "outputs": [
    {
     "data": {
      "text/plain": [
       "array([0., 0., 0., 0., 1., 0., 0., 0., 0., 0.])"
      ]
     },
     "execution_count": 6,
     "metadata": {},
     "output_type": "execute_result"
    }
   ],
   "source": [
    "a"
   ]
  },
  {
   "cell_type": "markdown",
   "id": "491e5318-b216-48d8-8f35-82cd66594408",
   "metadata": {},
   "source": [
    "## Create a vector with values ranging from 10 to 50"
   ]
  },
  {
   "cell_type": "code",
   "execution_count": 7,
   "id": "36253df9",
   "metadata": {
    "ExecuteTime": {
     "end_time": "2023-12-01T12:53:38.933246Z",
     "start_time": "2023-12-01T12:53:38.920521Z"
    }
   },
   "outputs": [
    {
     "data": {
      "text/plain": [
       "array([10, 11, 12, 13, 14, 15, 16, 17, 18, 19, 20, 21, 22, 23, 24, 25, 26,\n",
       "       27, 28, 29, 30, 31, 32, 33, 34, 35, 36, 37, 38, 39, 40, 41, 42, 43,\n",
       "       44, 45, 46, 47, 48, 49])"
      ]
     },
     "execution_count": 7,
     "metadata": {},
     "output_type": "execute_result"
    }
   ],
   "source": [
    "a = np.arange(10, 50)\n",
    "a"
   ]
  },
  {
   "cell_type": "markdown",
   "id": "b7818669-03a5-4f61-b08f-b85b8dd94372",
   "metadata": {},
   "source": [
    "## Reverse a vector (first element becomes last)"
   ]
  },
  {
   "cell_type": "code",
   "execution_count": 8,
   "id": "027a4256",
   "metadata": {
    "ExecuteTime": {
     "end_time": "2023-12-01T12:53:38.951108Z",
     "start_time": "2023-12-01T12:53:38.936248Z"
    }
   },
   "outputs": [
    {
     "data": {
      "text/plain": [
       "array([49, 48, 47, 46, 45, 44, 43, 42, 41, 40, 39, 38, 37, 36, 35, 34, 33,\n",
       "       32, 31, 30, 29, 28, 27, 26, 25, 24, 23, 22, 21, 20, 19, 18, 17, 16,\n",
       "       15, 14, 13, 12, 11, 10])"
      ]
     },
     "execution_count": 8,
     "metadata": {},
     "output_type": "execute_result"
    }
   ],
   "source": [
    "a[::-1]"
   ]
  },
  {
   "cell_type": "markdown",
   "id": "5f4a94e4-596a-4c85-8356-7eb86d6cacbe",
   "metadata": {},
   "source": [
    "## Create a 3x3 matrix with values ranging from 0 to 9"
   ]
  },
  {
   "cell_type": "code",
   "execution_count": 9,
   "id": "6bc73f48",
   "metadata": {
    "ExecuteTime": {
     "end_time": "2023-12-01T12:53:38.965782Z",
     "start_time": "2023-12-01T12:53:38.955109Z"
    }
   },
   "outputs": [
    {
     "data": {
      "text/plain": [
       "array([[0, 1, 2],\n",
       "       [3, 4, 5],\n",
       "       [6, 7, 8]])"
      ]
     },
     "execution_count": 9,
     "metadata": {},
     "output_type": "execute_result"
    }
   ],
   "source": [
    "np.arange(0,9).reshape(3,3)"
   ]
  },
  {
   "cell_type": "markdown",
   "id": "0df95fd1-f316-4976-849b-756f927f382c",
   "metadata": {},
   "source": [
    "## Find indices of non­zero elements from [1,2,0,0,4,0]\n",
    "**Extra research is required**"
   ]
  },
  {
   "cell_type": "code",
   "execution_count": 10,
   "id": "95edf755",
   "metadata": {
    "ExecuteTime": {
     "end_time": "2023-12-01T12:53:38.980713Z",
     "start_time": "2023-12-01T12:53:38.968785Z"
    }
   },
   "outputs": [
    {
     "data": {
      "text/plain": [
       "array([1, 2, 0, 0, 4, 0])"
      ]
     },
     "execution_count": 10,
     "metadata": {},
     "output_type": "execute_result"
    }
   ],
   "source": [
    "a = np.array([1,2,0,0,4,0])\n",
    "a"
   ]
  },
  {
   "cell_type": "code",
   "execution_count": 11,
   "id": "2b4f9c9b",
   "metadata": {
    "ExecuteTime": {
     "end_time": "2023-12-01T12:53:38.998151Z",
     "start_time": "2023-12-01T12:53:38.985715Z"
    }
   },
   "outputs": [
    {
     "data": {
      "text/plain": [
       "(array([0, 1, 4], dtype=int64),)"
      ]
     },
     "execution_count": 11,
     "metadata": {},
     "output_type": "execute_result"
    }
   ],
   "source": [
    "np.where(a != 0)"
   ]
  },
  {
   "cell_type": "code",
   "execution_count": 12,
   "id": "d80328f8",
   "metadata": {
    "ExecuteTime": {
     "end_time": "2023-12-01T12:53:39.017103Z",
     "start_time": "2023-12-01T12:53:39.001154Z"
    }
   },
   "outputs": [
    {
     "data": {
      "text/plain": [
       "(array([0, 1, 4], dtype=int64),)"
      ]
     },
     "execution_count": 12,
     "metadata": {},
     "output_type": "execute_result"
    }
   ],
   "source": [
    "np.nonzero([1,2,0,0,4,0])"
   ]
  },
  {
   "cell_type": "markdown",
   "id": "efc45ac3-9297-4ea0-9fd8-8534c46935e4",
   "metadata": {},
   "source": [
    "## Create a 3x3 identity matrix\n",
    "Identity matrix, kare matrisler için özel bir türdür. Diagonalindeki tüm elemanlar 1, diğer elemanlar ise 0 olan kare matrisdir."
   ]
  },
  {
   "cell_type": "code",
   "execution_count": 13,
   "id": "bb3b3ade",
   "metadata": {
    "ExecuteTime": {
     "end_time": "2023-12-01T12:53:39.028204Z",
     "start_time": "2023-12-01T12:53:39.020105Z"
    }
   },
   "outputs": [
    {
     "data": {
      "text/plain": [
       "array([[1., 0., 0.],\n",
       "       [0., 1., 0.],\n",
       "       [0., 0., 1.]])"
      ]
     },
     "execution_count": 13,
     "metadata": {},
     "output_type": "execute_result"
    }
   ],
   "source": [
    "np.eye(3,3)"
   ]
  },
  {
   "cell_type": "code",
   "execution_count": 14,
   "id": "2c69ab9a",
   "metadata": {
    "ExecuteTime": {
     "end_time": "2023-12-01T12:53:39.045710Z",
     "start_time": "2023-12-01T12:53:39.037203Z"
    }
   },
   "outputs": [
    {
     "data": {
      "text/plain": [
       "array([[1., 0., 0.],\n",
       "       [0., 1., 0.],\n",
       "       [0., 0., 1.]])"
      ]
     },
     "execution_count": 14,
     "metadata": {},
     "output_type": "execute_result"
    }
   ],
   "source": [
    "np.eye(3)"
   ]
  },
  {
   "cell_type": "markdown",
   "id": "aa19488a-0613-48f3-8604-4499afe134e8",
   "metadata": {},
   "source": [
    "## Create a 3x3x3 array with random values"
   ]
  },
  {
   "cell_type": "code",
   "execution_count": 15,
   "id": "0465ead9",
   "metadata": {
    "ExecuteTime": {
     "end_time": "2023-12-01T12:53:39.062725Z",
     "start_time": "2023-12-01T12:53:39.049712Z"
    }
   },
   "outputs": [
    {
     "data": {
      "text/plain": [
       "array([[[55, 91, 34],\n",
       "        [ 0, 38, 41],\n",
       "        [79,  2,  2]],\n",
       "\n",
       "       [[81, 82, 81],\n",
       "        [27, 38, 85],\n",
       "        [90, 11, 55]],\n",
       "\n",
       "       [[94, 96, 35],\n",
       "        [78, 51, 90],\n",
       "        [65, 92, 24]]])"
      ]
     },
     "execution_count": 15,
     "metadata": {},
     "output_type": "execute_result"
    }
   ],
   "source": [
    "np.random.randint(0, 100, 27).reshape(3,3,3)"
   ]
  },
  {
   "cell_type": "markdown",
   "id": "456bd772-149a-410a-9c86-04f1b19c6ae1",
   "metadata": {},
   "source": [
    "## Create a 10x10 array with random values and find the minimum and maximum values"
   ]
  },
  {
   "cell_type": "code",
   "execution_count": 16,
   "id": "ec01322d",
   "metadata": {
    "ExecuteTime": {
     "end_time": "2023-12-01T12:53:39.082571Z",
     "start_time": "2023-12-01T12:53:39.067726Z"
    }
   },
   "outputs": [
    {
     "data": {
      "text/plain": [
       "array([[102, 435, 860, 270, 106,  71, 700,  20, 614, 121],\n",
       "       [466, 214, 330, 458,  87, 372,  99, 871, 663, 130],\n",
       "       [661, 308, 769, 343, 491, 413, 805, 385, 191, 955],\n",
       "       [276, 160, 459, 313,  21, 252, 747, 856, 560, 474],\n",
       "       [ 58, 510, 681, 475, 699, 975, 782, 189, 957, 686],\n",
       "       [957, 562, 875, 566, 243, 831, 504, 130, 484, 818],\n",
       "       [646,  20, 840, 166, 273, 387, 600, 315,  13, 241],\n",
       "       [776, 345, 564, 897, 339,  91, 366, 955, 454, 427],\n",
       "       [508, 775, 942,  34, 205,  80, 931, 561, 871, 387],\n",
       "       [  1, 389, 565, 105, 771, 821, 476, 702, 401, 729]])"
      ]
     },
     "execution_count": 16,
     "metadata": {},
     "output_type": "execute_result"
    }
   ],
   "source": [
    "np.random.seed(42)\n",
    "\n",
    "a = np.random.randint(0,1000,100).reshape(10,10)\n",
    "a"
   ]
  },
  {
   "cell_type": "code",
   "execution_count": 17,
   "id": "c39cc7d2",
   "metadata": {
    "ExecuteTime": {
     "end_time": "2023-12-01T12:53:39.095677Z",
     "start_time": "2023-12-01T12:53:39.085574Z"
    }
   },
   "outputs": [
    {
     "data": {
      "text/plain": [
       "1"
      ]
     },
     "execution_count": 17,
     "metadata": {},
     "output_type": "execute_result"
    }
   ],
   "source": [
    "a.min()"
   ]
  },
  {
   "cell_type": "code",
   "execution_count": 18,
   "id": "2aaf2f7c",
   "metadata": {
    "ExecuteTime": {
     "end_time": "2023-12-01T12:53:39.107999Z",
     "start_time": "2023-12-01T12:53:39.098679Z"
    }
   },
   "outputs": [
    {
     "data": {
      "text/plain": [
       "975"
      ]
     },
     "execution_count": 18,
     "metadata": {},
     "output_type": "execute_result"
    }
   ],
   "source": [
    "a.max()"
   ]
  },
  {
   "cell_type": "markdown",
   "id": "8cbf0c5f-e2dd-4418-b923-a52bbda70b7e",
   "metadata": {},
   "source": [
    "## Create a random vector of size 30 and find the mean value"
   ]
  },
  {
   "cell_type": "code",
   "execution_count": 19,
   "id": "625f82b7",
   "metadata": {
    "ExecuteTime": {
     "end_time": "2023-12-01T12:53:39.120705Z",
     "start_time": "2023-12-01T12:53:39.111002Z"
    }
   },
   "outputs": [
    {
     "data": {
      "text/plain": [
       "0.5565378709923972"
      ]
     },
     "execution_count": 19,
     "metadata": {},
     "output_type": "execute_result"
    }
   ],
   "source": [
    "np.random.random(30).mean()"
   ]
  },
  {
   "cell_type": "markdown",
   "id": "dcdb4e96",
   "metadata": {},
   "source": [
    "## How can I create an array with dimensions (6, 7, 8) using arange, and find its last element?"
   ]
  },
  {
   "cell_type": "code",
   "execution_count": 20,
   "id": "844deeaf",
   "metadata": {
    "ExecuteTime": {
     "end_time": "2023-12-01T12:53:39.137800Z",
     "start_time": "2023-12-01T12:53:39.124570Z"
    }
   },
   "outputs": [
    {
     "data": {
      "text/plain": [
       "335"
      ]
     },
     "execution_count": 20,
     "metadata": {},
     "output_type": "execute_result"
    }
   ],
   "source": [
    "a = np.arange(6*7*8).reshape((6,7,8))\n",
    "last_element = a[-1,-1,-1]\n",
    "last_element"
   ]
  },
  {
   "cell_type": "code",
   "execution_count": 21,
   "id": "85104808",
   "metadata": {
    "ExecuteTime": {
     "end_time": "2023-12-01T12:53:39.150317Z",
     "start_time": "2023-12-01T12:53:39.141415Z"
    }
   },
   "outputs": [
    {
     "data": {
      "text/plain": [
       "336"
      ]
     },
     "execution_count": 21,
     "metadata": {},
     "output_type": "execute_result"
    }
   ],
   "source": [
    "6*7*8"
   ]
  },
  {
   "cell_type": "markdown",
   "id": "afc74cce-1589-434f-929e-d4f809eac34d",
   "metadata": {},
   "source": [
    "## Create a 5x5 matrix with row values ranging from 0 to 5"
   ]
  },
  {
   "cell_type": "code",
   "execution_count": 22,
   "id": "522397f4",
   "metadata": {
    "ExecuteTime": {
     "end_time": "2023-12-01T12:53:39.164283Z",
     "start_time": "2023-12-01T12:53:39.154319Z"
    }
   },
   "outputs": [
    {
     "data": {
      "text/plain": [
       "array([[0, 1, 2, 3, 4],\n",
       "       [0, 1, 2, 3, 4],\n",
       "       [0, 1, 2, 3, 4],\n",
       "       [0, 1, 2, 3, 4],\n",
       "       [0, 1, 2, 3, 4]])"
      ]
     },
     "execution_count": 22,
     "metadata": {},
     "output_type": "execute_result"
    }
   ],
   "source": [
    "np.full((5,5), [0,1,2,3,4])"
   ]
  },
  {
   "cell_type": "markdown",
   "id": "cbea287c-b2ef-4c94-b4bc-e047ee69abd1",
   "metadata": {},
   "source": [
    "## Create a vector of size 12 with values ranging from 0 to 1 (excluding 0 and 1)"
   ]
  },
  {
   "cell_type": "code",
   "execution_count": 23,
   "id": "b6caf3c4",
   "metadata": {
    "ExecuteTime": {
     "end_time": "2023-12-01T12:53:39.180187Z",
     "start_time": "2023-12-01T12:53:39.167286Z"
    }
   },
   "outputs": [
    {
     "data": {
      "text/plain": [
       "array([0.07692308, 0.15384615, 0.23076923, 0.30769231, 0.38461538,\n",
       "       0.46153846, 0.53846154, 0.61538462, 0.69230769, 0.76923077,\n",
       "       0.84615385, 0.92307692])"
      ]
     },
     "execution_count": 23,
     "metadata": {},
     "output_type": "execute_result"
    }
   ],
   "source": [
    "np.linspace(0,1,13, endpoint=False)[1:]"
   ]
  },
  {
   "cell_type": "markdown",
   "id": "1dc7d714-45a5-4bc7-a52e-37abe31bfb1f",
   "metadata": {},
   "source": [
    "## Create a random vector of size 10 and sort it"
   ]
  },
  {
   "cell_type": "code",
   "execution_count": 24,
   "id": "c0a59fbf",
   "metadata": {
    "ExecuteTime": {
     "end_time": "2023-12-01T12:53:39.194393Z",
     "start_time": "2023-12-01T12:53:39.184189Z"
    }
   },
   "outputs": [
    {
     "data": {
      "text/plain": [
       "array([0.44945067, 0.09541012, 0.37081825, 0.66884125, 0.66592236,\n",
       "       0.59129779, 0.27472179, 0.56124343, 0.38292687, 0.9717121 ])"
      ]
     },
     "execution_count": 24,
     "metadata": {},
     "output_type": "execute_result"
    }
   ],
   "source": [
    "a = np.random.random(10)\n",
    "a"
   ]
  },
  {
   "cell_type": "code",
   "execution_count": 25,
   "id": "78201001",
   "metadata": {
    "ExecuteTime": {
     "end_time": "2023-12-01T12:53:39.208298Z",
     "start_time": "2023-12-01T12:53:39.199395Z"
    }
   },
   "outputs": [
    {
     "data": {
      "text/plain": [
       "array([0.09541012, 0.27472179, 0.37081825, 0.38292687, 0.44945067,\n",
       "       0.56124343, 0.59129779, 0.66592236, 0.66884125, 0.9717121 ])"
      ]
     },
     "execution_count": 25,
     "metadata": {},
     "output_type": "execute_result"
    }
   ],
   "source": [
    "a.sort()\n",
    "a"
   ]
  },
  {
   "cell_type": "markdown",
   "id": "0d58bab8-cab1-4318-9405-6e54a17ac346",
   "metadata": {},
   "source": [
    "## Consider two random array A anb B, check if they are equal\n",
    "**Extra research is required**"
   ]
  },
  {
   "cell_type": "code",
   "execution_count": 26,
   "id": "07d21f6d",
   "metadata": {
    "ExecuteTime": {
     "end_time": "2023-12-01T12:53:39.226082Z",
     "start_time": "2023-12-01T12:53:39.211300Z"
    }
   },
   "outputs": [
    {
     "data": {
      "text/plain": [
       "(array([1, 1]), array([1, 2]))"
      ]
     },
     "execution_count": 26,
     "metadata": {},
     "output_type": "execute_result"
    }
   ],
   "source": [
    "A=np.random.randint(1,3,2)\n",
    "B=np.random.randint(1,3,2)\n",
    "A,B"
   ]
  },
  {
   "cell_type": "code",
   "execution_count": 27,
   "id": "659b11de",
   "metadata": {
    "ExecuteTime": {
     "end_time": "2023-12-01T12:53:39.241571Z",
     "start_time": "2023-12-01T12:53:39.231084Z"
    }
   },
   "outputs": [
    {
     "name": "stdout",
     "output_type": "stream",
     "text": [
      "A dizisi: [1 1]\n",
      "B dizisi: [1 2]\n",
      "A ve B dizileri eşit mi: False\n"
     ]
    }
   ],
   "source": [
    "equal = np.array_equal(A,B)\n",
    "\n",
    "print(f\"A dizisi: {A}\")\n",
    "print(f\"B dizisi: {B}\")\n",
    "print(f\"A ve B dizileri eşit mi: {equal}\")"
   ]
  },
  {
   "cell_type": "markdown",
   "id": "add060d3-6cca-47eb-8a48-2b9f33227130",
   "metadata": {},
   "source": [
    "## Generate a random vector of size 10 and replace the maximum value with 0"
   ]
  },
  {
   "cell_type": "code",
   "execution_count": 28,
   "id": "6edc3993",
   "metadata": {
    "ExecuteTime": {
     "end_time": "2023-12-01T12:53:39.256089Z",
     "start_time": "2023-12-01T12:53:39.245573Z"
    }
   },
   "outputs": [
    {
     "data": {
      "text/plain": [
       "array([0.23598492, 0.25606832, 0.04043359, 0.71066289, 0.11089082,\n",
       "       0.4393365 , 0.2017192 , 0.8957636 , 0.47537022, 0.56327557])"
      ]
     },
     "execution_count": 28,
     "metadata": {},
     "output_type": "execute_result"
    }
   ],
   "source": [
    "a = np.random.random(10)\n",
    "a"
   ]
  },
  {
   "cell_type": "code",
   "execution_count": 29,
   "id": "28fa022c",
   "metadata": {
    "ExecuteTime": {
     "end_time": "2023-12-01T12:53:39.273782Z",
     "start_time": "2023-12-01T12:53:39.261089Z"
    }
   },
   "outputs": [
    {
     "data": {
      "text/plain": [
       "array([0.23598492, 0.25606832, 0.04043359, 0.71066289, 0.11089082,\n",
       "       0.4393365 , 0.2017192 , 0.        , 0.47537022, 0.56327557])"
      ]
     },
     "execution_count": 29,
     "metadata": {},
     "output_type": "execute_result"
    }
   ],
   "source": [
    "a[a.argmax()] = 0\n",
    "a"
   ]
  },
  {
   "cell_type": "markdown",
   "id": "3d99138b-91e6-4d19-9195-1f384a68063b",
   "metadata": {},
   "source": [
    "## How to find the most frequent value in an array?\n",
    "**Extra research is required**"
   ]
  },
  {
   "cell_type": "code",
   "execution_count": 30,
   "id": "19a6efab",
   "metadata": {
    "ExecuteTime": {
     "end_time": "2023-12-01T12:53:39.292646Z",
     "start_time": "2023-12-01T12:53:39.278779Z"
    }
   },
   "outputs": [
    {
     "data": {
      "text/plain": [
       "array([3, 4, 6, 6, 3, 6, 2, 5, 1, 9])"
      ]
     },
     "execution_count": 30,
     "metadata": {},
     "output_type": "execute_result"
    }
   ],
   "source": [
    "a = np.random.randint(0,10,10)\n",
    "a"
   ]
  },
  {
   "cell_type": "code",
   "execution_count": 31,
   "id": "a6feb00c",
   "metadata": {
    "ExecuteTime": {
     "end_time": "2023-12-01T12:53:39.317523Z",
     "start_time": "2023-12-01T12:53:39.304639Z"
    }
   },
   "outputs": [
    {
     "data": {
      "text/plain": [
       "array([0, 1, 1, 2, 1, 1, 3, 0, 0, 1], dtype=int64)"
      ]
     },
     "execution_count": 31,
     "metadata": {},
     "output_type": "execute_result"
    }
   ],
   "source": [
    "np.bincount(a)"
   ]
  },
  {
   "cell_type": "code",
   "execution_count": 32,
   "id": "85d69f12",
   "metadata": {
    "ExecuteTime": {
     "end_time": "2023-12-01T12:53:39.367874Z",
     "start_time": "2023-12-01T12:53:39.333515Z"
    }
   },
   "outputs": [
    {
     "data": {
      "text/plain": [
       "6"
      ]
     },
     "execution_count": 32,
     "metadata": {},
     "output_type": "execute_result"
    }
   ],
   "source": [
    "np.bincount(a).argmax()"
   ]
  },
  {
   "cell_type": "markdown",
   "id": "5d49cc29",
   "metadata": {},
   "source": [
    "## Create a 2d array with 1 on the border and 0 inside"
   ]
  },
  {
   "cell_type": "code",
   "execution_count": 33,
   "id": "9e3ef2c7",
   "metadata": {
    "ExecuteTime": {
     "end_time": "2023-12-01T12:53:39.395052Z",
     "start_time": "2023-12-01T12:53:39.377872Z"
    }
   },
   "outputs": [
    {
     "data": {
      "text/plain": [
       "array([[1., 1., 1., 1., 1.],\n",
       "       [1., 1., 1., 1., 1.],\n",
       "       [1., 1., 1., 1., 1.],\n",
       "       [1., 1., 1., 1., 1.],\n",
       "       [1., 1., 1., 1., 1.]])"
      ]
     },
     "execution_count": 33,
     "metadata": {},
     "output_type": "execute_result"
    }
   ],
   "source": [
    "a = np.ones((5,5))\n",
    "a"
   ]
  },
  {
   "cell_type": "code",
   "execution_count": 34,
   "id": "f6490bed",
   "metadata": {
    "ExecuteTime": {
     "end_time": "2023-12-01T12:53:39.446563Z",
     "start_time": "2023-12-01T12:53:39.402055Z"
    }
   },
   "outputs": [
    {
     "data": {
      "text/plain": [
       "array([[1., 1., 1., 1., 1.],\n",
       "       [1., 0., 0., 0., 1.],\n",
       "       [1., 0., 0., 0., 1.],\n",
       "       [1., 0., 0., 0., 1.],\n",
       "       [1., 1., 1., 1., 1.]])"
      ]
     },
     "execution_count": 34,
     "metadata": {},
     "output_type": "execute_result"
    }
   ],
   "source": [
    "a[1:-1, 1:-1] = 0\n",
    "a"
   ]
  },
  {
   "cell_type": "markdown",
   "id": "cbdcdd8e",
   "metadata": {},
   "source": [
    "## Create a 5x5 matrix with values 1,2,3,4 just below the diagonal\n",
    "**Extra research may be required**"
   ]
  },
  {
   "attachments": {
    "image.png": {
     "image/png": "[encoded data removed]"
    }
   },
   "cell_type": "markdown",
   "id": "952ed1bd",
   "metadata": {},
   "source": [
    "![image.png](attachment:image.png)"
   ]
  },
  {
   "cell_type": "code",
   "execution_count": 35,
   "id": "e0718c1a",
   "metadata": {
    "ExecuteTime": {
     "end_time": "2023-12-01T12:53:39.471526Z",
     "start_time": "2023-12-01T12:53:39.450565Z"
    }
   },
   "outputs": [
    {
     "data": {
      "text/plain": [
       "array([[0, 0, 0, 0, 0],\n",
       "       [1, 0, 0, 0, 0],\n",
       "       [0, 2, 0, 0, 0],\n",
       "       [0, 0, 3, 0, 0],\n",
       "       [0, 0, 0, 4, 0]])"
      ]
     },
     "execution_count": 35,
     "metadata": {},
     "output_type": "execute_result"
    }
   ],
   "source": [
    "a = np.diag([1,2,3,4], k= -1)\n",
    "a"
   ]
  },
  {
   "cell_type": "markdown",
   "id": "6556b785",
   "metadata": {},
   "source": [
    "## Create a 8x8 matrix and fill it with a checkerboard pattern"
   ]
  },
  {
   "attachments": {
    "image.png": {
     "image/png": "[encoded data removed]"
    }
   },
   "cell_type": "markdown",
   "id": "d9655022",
   "metadata": {},
   "source": [
    "![image.png](attachment:image.png)"
   ]
  },
  {
   "cell_type": "code",
   "execution_count": 36,
   "id": "74601422",
   "metadata": {
    "ExecuteTime": {
     "end_time": "2023-12-01T12:53:39.497021Z",
     "start_time": "2023-12-01T12:53:39.484518Z"
    }
   },
   "outputs": [
    {
     "data": {
      "text/plain": [
       "array([[0, 0, 0, 0, 0, 0, 0, 0],\n",
       "       [0, 0, 0, 0, 0, 0, 0, 0],\n",
       "       [0, 0, 0, 0, 0, 0, 0, 0],\n",
       "       [0, 0, 0, 0, 0, 0, 0, 0],\n",
       "       [0, 0, 0, 0, 0, 0, 0, 0],\n",
       "       [0, 0, 0, 0, 0, 0, 0, 0],\n",
       "       [0, 0, 0, 0, 0, 0, 0, 0],\n",
       "       [0, 0, 0, 0, 0, 0, 0, 0]])"
      ]
     },
     "execution_count": 36,
     "metadata": {},
     "output_type": "execute_result"
    }
   ],
   "source": [
    "a=np.zeros((8,8), dtype=int)\n",
    "a"
   ]
  },
  {
   "cell_type": "code",
   "execution_count": 37,
   "id": "69ba52bf",
   "metadata": {
    "ExecuteTime": {
     "end_time": "2023-12-01T12:53:39.531748Z",
     "start_time": "2023-12-01T12:53:39.502024Z"
    }
   },
   "outputs": [
    {
     "data": {
      "text/plain": [
       "array([[0, 0, 0, 0, 0, 0, 0, 0],\n",
       "       [1, 0, 1, 0, 1, 0, 1, 0],\n",
       "       [0, 0, 0, 0, 0, 0, 0, 0],\n",
       "       [1, 0, 1, 0, 1, 0, 1, 0],\n",
       "       [0, 0, 0, 0, 0, 0, 0, 0],\n",
       "       [1, 0, 1, 0, 1, 0, 1, 0],\n",
       "       [0, 0, 0, 0, 0, 0, 0, 0],\n",
       "       [1, 0, 1, 0, 1, 0, 1, 0]])"
      ]
     },
     "execution_count": 37,
     "metadata": {},
     "output_type": "execute_result"
    }
   ],
   "source": [
    "a[1::2, ::2] = 1\n",
    "a"
   ]
  },
  {
   "cell_type": "code",
   "execution_count": 38,
   "id": "74fc7361",
   "metadata": {
    "ExecuteTime": {
     "end_time": "2023-12-01T12:53:39.547597Z",
     "start_time": "2023-12-01T12:53:39.536749Z"
    }
   },
   "outputs": [
    {
     "data": {
      "text/plain": [
       "array([[0, 1, 0, 1, 0, 1, 0, 1],\n",
       "       [1, 0, 1, 0, 1, 0, 1, 0],\n",
       "       [0, 1, 0, 1, 0, 1, 0, 1],\n",
       "       [1, 0, 1, 0, 1, 0, 1, 0],\n",
       "       [0, 1, 0, 1, 0, 1, 0, 1],\n",
       "       [1, 0, 1, 0, 1, 0, 1, 0],\n",
       "       [0, 1, 0, 1, 0, 1, 0, 1],\n",
       "       [1, 0, 1, 0, 1, 0, 1, 0]])"
      ]
     },
     "execution_count": 38,
     "metadata": {},
     "output_type": "execute_result"
    }
   ],
   "source": [
    "a[::2, 1::2] = 1\n",
    "a"
   ]
  },
  {
   "cell_type": "markdown",
   "id": "a1680490",
   "metadata": {},
   "source": [
    "## Create a checkerboard 8x8 matrix using the tile function\n",
    "**Extra research is required**"
   ]
  },
  {
   "cell_type": "code",
   "execution_count": 39,
   "id": "ad818b5a",
   "metadata": {
    "ExecuteTime": {
     "end_time": "2023-12-01T12:53:39.562292Z",
     "start_time": "2023-12-01T12:53:39.552598Z"
    }
   },
   "outputs": [
    {
     "data": {
      "text/plain": [
       "array([[0, 1, 0, 1, 0, 1, 0, 1],\n",
       "       [1, 0, 1, 0, 1, 0, 1, 0],\n",
       "       [0, 1, 0, 1, 0, 1, 0, 1],\n",
       "       [1, 0, 1, 0, 1, 0, 1, 0],\n",
       "       [0, 1, 0, 1, 0, 1, 0, 1],\n",
       "       [1, 0, 1, 0, 1, 0, 1, 0],\n",
       "       [0, 1, 0, 1, 0, 1, 0, 1],\n",
       "       [1, 0, 1, 0, 1, 0, 1, 0]])"
      ]
     },
     "execution_count": 39,
     "metadata": {},
     "output_type": "execute_result"
    }
   ],
   "source": [
    "np.tile( np.array([[0,1],[1,0]]), (4,4))"
   ]
  },
  {
   "cell_type": "code",
   "execution_count": 40,
   "id": "2c6aad02",
   "metadata": {
    "ExecuteTime": {
     "end_time": "2023-12-01T12:53:39.570359Z",
     "start_time": "2023-12-01T12:53:39.565294Z"
    }
   },
   "outputs": [],
   "source": [
    "# np.tile( np.array([[0,1],[1,0]]))  çalışmaz"
   ]
  },
  {
   "cell_type": "markdown",
   "id": "8d979ea4",
   "metadata": {},
   "source": [
    "# <p style=\"background-color:green;font-family:newtimeroman;font-size:100%;color:white;text-align:center;border-radius:20px 20px;\"><b>Faydalı Olması Temennisiyle Teşekkürler</b></p>\n",
    "![](https://www.techproeducation.com/logo/headerlogo.svg)\n",
    "\n",
    "<b>Yeniliklerden ilk siz haberdar olmak istiyorsanız lütfen bizi takip etmeyi unutmayın </b>[YouTube](https://www.youtube.com/c/techproeducation) | [Instagram](https://www.instagram.com/techproeducation) | [Facebook](https://www.facebook.com/techproeducation) | [Telegram](https://t.me/joinchat/HH2qRvA-ulh4OWbb) | [Whatsapp](https://api.whatsapp.com/send/?phone=%2B15853042959&text&type=phone_number&app_absent=0) | [LinkedIn](https://www.linkedin.com/company/techproeducation/mycompany/) |"
   ]
  }
 ],
 "metadata": {
  "hide_input": false,
  "kernelspec": {
   "display_name": "Python 3 (ipykernel)",
   "language": "python",
   "name": "python3"
  },
  "language_info": {
   "codemirror_mode": {
    "name": "ipython",
    "version": 3
   },
   "file_extension": ".py",
   "mimetype": "text/x-python",
   "name": "python",
   "nbconvert_exporter": "python",
   "pygments_lexer": "ipython3",
   "version": "3.11.7"
  },
  "toc": {
   "base_numbering": 1,
   "nav_menu": {},
   "number_sections": true,
   "sideBar": true,
   "skip_h1_title": false,
   "title_cell": "Table of Contents",
   "title_sidebar": "Contents",
   "toc_cell": false,
   "toc_position": {
    "height": "calc(100% - 180px)",
    "left": "10px",
    "top": "150px",
    "width": "384px"
   },
   "toc_section_display": true,
   "toc_window_display": true
  },
  "varInspector": {
   "cols": {
    "lenName": 16,
    "lenType": 16,
    "lenVar": 40
   },
   "kernels_config": {
    "python": {
     "delete_cmd_postfix": "",
     "delete_cmd_prefix": "del ",
     "library": "var_list.py",
     "varRefreshCmd": "print(var_dic_list())"
    },
    "r": {
     "delete_cmd_postfix": ") ",
     "delete_cmd_prefix": "rm(",
     "library": "var_list.r",
     "varRefreshCmd": "cat(var_dic_list()) "
    }
   },
   "types_to_exclude": [
    "module",
    "function",
    "builtin_function_or_method",
    "instance",
    "_Feature"
   ],
   "window_display": false
  }
 },
 "nbformat": 4,
 "nbformat_minor": 5
}
