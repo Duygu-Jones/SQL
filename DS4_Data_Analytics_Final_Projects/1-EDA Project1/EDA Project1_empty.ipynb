{
 "cells": [
  {
   "cell_type": "markdown",
   "metadata": {},
   "source": [
    "# <p style=\"background-color:green;font-family:newtimeroman;font-size:200%;color:white;text-align:center;border-radius:20px 20px;\"><b>Bike Demand Project</b></p>\n",
    "![](https://www.techproeducation.com/logo/headerlogo.svg)\n",
    "\n",
    "<b>Yeniliklerden ilk siz haberdar olmak istiyorsanız lütfen bizi takip etmeyi unutmayın </b>[YouTube](https://www.youtube.com/c/techproeducation) | [Instagram](https://www.instagram.com/techproeducation) | [Facebook](https://www.facebook.com/techproeducation) | [Telegram](https://t.me/joinchat/HH2qRvA-ulh4OWbb) | [Whatsapp](https://api.whatsapp.com/send/?phone=%2B15853042959&text&type=phone_number&app_absent=0) | [LinkedIn](https://www.linkedin.com/company/techproeducation/mycompany/) |"
   ]
  },
  {
   "cell_type": "markdown",
   "metadata": {},
   "source": [
    "<div class=\"alert alert-block alert-info alert\">\n",
    "\n",
    "# <span style=\" color:red\">WELCOME!\n",
    "    \n",
    "Welcome to \"Bike Demand Visualization Project\" which is the capstone project of Data Visualization Lessons . As you know recently, free or affordable access to bicycles has been provided for short-distance trips in an urban area as an alternative to motorized public transport or private vehicles. Thus, it is aimed to reduce traffic congestion, noise and air pollution.\n",
    "\n",
    "The aim of this project is to reveal the current patterns in the data by showing the historical data of London bike shares with visualization tools.\n",
    "\n",
    "This will allow us to X-ray the data as part of the EDA process before setting up a machine learning model.</span>"
   ]
  },
  {
   "cell_type": "markdown",
   "metadata": {},
   "source": [
    "\n",
    "<div class=\"alert alert-block alert-success \">\n",
    "\n",
    "## <span style=\" color:red\">Determines \n",
    "    \n",
    "Features\n",
    "    \n",
    "- timestamp - timestamp field for grouping the data\n",
    "- cnt - the count of a new bike shares\n",
    "- t1 - real temperature in C\n",
    "- t2 - temperature in C “feels like”\n",
    "- hum - humidity in percentage\n",
    "- wind_speed - wind speed in km/h\n",
    "- weather_code - category of the weather\n",
    "- is_holiday - boolean field - 1 holiday / 0 non holiday\n",
    "- is_weekend - boolean field - 1 if the day is weekend\n",
    "- season - category field meteorological seasons: 0-spring ; 1-summer; 2-fall; 3-winter.\n",
    "    \n",
    "\"weather_code\" category description:\n",
    "\n",
    "- 1 = Clear ; mostly clear but have some values with haze/fog/patches of fog/ fog in vicinity\n",
    "- 2 = scattered clouds / few clouds\n",
    "- 3 = Broken clouds\n",
    "- 4 = Cloudy\n",
    "- 7 = Rain/ light Rain shower/ Light rain\n",
    "- 10 = rain with thunderstorm\n",
    "- 26 = snowfall\n",
    "- 94 = Freezing Fog\n",
    "    \n",
    "Initially, the task of discovering data will be waiting for you as always. Recognize features, detect missing values, outliers etc. Review the data from various angles in different time breakdowns. For example, visualize the distribution of bike shares by day of the week. With this graph, you will be able to easily observe and make inferences how people's behavior changes daily. Likewise, you can make hourly, monthly, seasonally etc. analyzes. In addition, you can analyze correlation of variables with a heatmap.\n",
    "    \n",
    "# <span style=\" color:red\">Tasks\n",
    "</span>\n",
    "\n",
    "\n",
    "\n"
   ]
  },
  {
   "cell_type": "markdown",
   "metadata": {},
   "source": [
    "<div class=\"alert alert-warning alert-info\">\n",
    "<span style=\" color:red\">1. Import Libraries\n",
    "</span>"
   ]
  },
  {
   "cell_type": "code",
   "execution_count": 6,
   "metadata": {},
   "outputs": [],
   "source": []
  },
  {
   "cell_type": "markdown",
   "metadata": {},
   "source": [
    "<div class=\"alert alert-warning alert-info\">\n",
    "<span style=\" color:red\">2. Read Dataset\n",
    "</span>"
   ]
  },
  {
   "cell_type": "code",
   "execution_count": null,
   "metadata": {},
   "outputs": [],
   "source": []
  },
  {
   "cell_type": "markdown",
   "metadata": {},
   "source": [
    "<div class=\"alert alert-warning alert-info\">\n",
    "<span style=\" color:red\">3. Check missing values and if there are any dublicate rows or not.\n",
    "</span>"
   ]
  },
  {
   "cell_type": "code",
   "execution_count": null,
   "metadata": {},
   "outputs": [],
   "source": []
  },
  {
   "cell_type": "markdown",
   "metadata": {},
   "source": [
    "<div class=\"alert alert-warning alert-info\">\n",
    "<span style=\" color:red\">4. Plot the distribution of various discrete features on (Season, haliday, weekend and weathercode)\n",
    "</span>\n"
   ]
  },
  {
   "cell_type": "code",
   "execution_count": null,
   "metadata": {},
   "outputs": [],
   "source": []
  },
  {
   "cell_type": "markdown",
   "metadata": {},
   "source": [
    "# weather_code\n",
    "sns.countplot(x='weather_code',data=df)\n",
    "\n",
    "1 = Clear ; mostly clear but have some values with haze/fog/patches of fog/ fog in vicinity\n",
    "2 = scattered clouds / few clouds\n",
    "3 = Broken clouds\n",
    "4 = Cloudy\n",
    "7 = Rain/ light Rain shower/ Light rain\n",
    "10 = rain with thunderstorm\n",
    "26 = snowfall\n",
    "94 = Freezing Fog"
   ]
  },
  {
   "cell_type": "markdown",
   "metadata": {},
   "source": [
    "<div class=\"alert alert-warning alert-info\">\n",
    "<span style=\" color:red\">5. Look at the data type of each variable, transform timestamp in type, and set it as index.\n",
    "</span>"
   ]
  },
  {
   "cell_type": "code",
   "execution_count": null,
   "metadata": {},
   "outputs": [],
   "source": []
  },
  {
   "cell_type": "markdown",
   "metadata": {},
   "source": [
    "<div class=\"alert alert-warning alert-info\">\n",
    "<span style=\" color:red\">6. Make feature engineering. Extract new columns (day of the week, day of the month, hour, month, season, year etc.)\n",
    "</span>"
   ]
  },
  {
   "attachments": {
    "Screenshot%202021-10-27%20164721.png": {
     "image/png": "[encoded data removed]"
    }
   },
   "cell_type": "markdown",
   "metadata": {},
   "source": [
    "![Screenshot%202021-10-27%20164721.png](attachment:Screenshot%202021-10-27%20164721.png)"
   ]
  },
  {
   "cell_type": "markdown",
   "metadata": {},
   "source": [
    "<div class=\"alert alert-warning alert-info\">\n",
    "<span style=\" color:red\">7. Visualize the correlation with a heatmap\n",
    "</span>"
   ]
  },
  {
   "cell_type": "code",
   "execution_count": null,
   "metadata": {},
   "outputs": [],
   "source": []
  },
  {
   "cell_type": "markdown",
   "metadata": {},
   "source": [
    "<div class=\"alert alert-warning alert-info\">\n",
    "<span style=\" color:red\">8. Visualize the correlation of the target variable and the other features with barplot\n",
    "</span>"
   ]
  },
  {
   "cell_type": "code",
   "execution_count": null,
   "metadata": {},
   "outputs": [],
   "source": []
  },
  {
   "cell_type": "markdown",
   "metadata": {},
   "source": [
    "<div class=\"alert alert-warning alert-info\">\n",
    "<span style=\" color:red\">9. Plot bike shares over time use lineplot.\n",
    "</span>"
   ]
  },
  {
   "cell_type": "code",
   "execution_count": null,
   "metadata": {},
   "outputs": [],
   "source": []
  },
  {
   "cell_type": "markdown",
   "metadata": {},
   "source": [
    "<div class=\"alert alert-warning alert-info\">\n",
    "<span style=\" color:red\">10. Plot bike shares by months and year_of_month (use lineplot, pointplot, barplot).\n",
    "</span>"
   ]
  },
  {
   "cell_type": "code",
   "execution_count": null,
   "metadata": {},
   "outputs": [],
   "source": []
  },
  {
   "cell_type": "markdown",
   "metadata": {},
   "source": [
    "<div class=\"alert alert-warning alert-info\">\n",
    "<span style=\" color:red\">11. Plot bike shares by hours on (holidays, weekend, season).\n",
    "</span>"
   ]
  },
  {
   "cell_type": "code",
   "execution_count": null,
   "metadata": {},
   "outputs": [],
   "source": []
  },
  {
   "cell_type": "markdown",
   "metadata": {},
   "source": [
    "<div class=\"alert alert-warning alert-info\">\n",
    "<span style=\" color:red\"> 12. Plot bike shares by day of week.\n",
    "\n",
    "- You may want to see whether it is a holiday or not\n",
    "</span>"
   ]
  },
  {
   "cell_type": "code",
   "execution_count": null,
   "metadata": {},
   "outputs": [],
   "source": []
  },
  {
   "cell_type": "markdown",
   "metadata": {},
   "source": [
    "<div class=\"alert alert-warning alert-info\">\n",
    "<span style=\" color:red\"> 13. Plot bike shares by day of month\n",
    "</span>"
   ]
  },
  {
   "cell_type": "code",
   "execution_count": null,
   "metadata": {},
   "outputs": [],
   "source": []
  },
  {
   "cell_type": "markdown",
   "metadata": {},
   "source": [
    "<div class=\"alert alert-warning alert-info\">\n",
    "<span style=\" color:red\"> 14. Plot bike shares by year\n",
    "\n",
    "- Plot bike shares on holidays by seasons\n",
    "</span>"
   ]
  },
  {
   "cell_type": "code",
   "execution_count": null,
   "metadata": {},
   "outputs": [],
   "source": []
  },
  {
   "cell_type": "markdown",
   "metadata": {},
   "source": [
    "<div class=\"alert alert-warning alert-info\">\n",
    "<span style=\" color:red\">15. Visualize the distribution of bike shares by weekday/weekend with piechart and barplot\n",
    "</span>"
   ]
  },
  {
   "cell_type": "code",
   "execution_count": null,
   "metadata": {},
   "outputs": [],
   "source": []
  },
  {
   "cell_type": "markdown",
   "metadata": {},
   "source": [
    "<div class=\"alert alert-warning alert-info\">\n",
    "<span style=\" color:red\">16. Plot the distribution of weather code by seasons\n",
    "</span>"
   ]
  },
  {
   "cell_type": "code",
   "execution_count": null,
   "metadata": {},
   "outputs": [],
   "source": []
  },
  {
   "cell_type": "markdown",
   "metadata": {},
   "source": [
    "<div class=\"alert alert-info alert-info \">\n",
    "\n",
    "# <span style=\" color:red\">Conclusions\n",
    "    \n",
    "\n",
    "    \n",
    "\n",
    "</span>"
   ]
  },
  {
   "cell_type": "code",
   "execution_count": null,
   "metadata": {},
   "outputs": [],
   "source": []
  },
  {
   "cell_type": "markdown",
   "metadata": {},
   "source": [
    "<div class=\"alert alert-block alert-info\">\n",
    "<span style=\" color:red\">Thanks for Attending!..\n",
    "    \n",
    "\n",
    "</span>"
   ]
  },
  {
   "cell_type": "markdown",
   "metadata": {},
   "source": [
    "# <p style=\"background-color:green;font-family:newtimeroman;font-size:200%;color:white;text-align:center;border-radius:20px 20px;\"><b>Bike Demand Project</b></p>\n",
    "![](https://www.techproeducation.com/logo/headerlogo.svg)\n",
    "\n",
    "<b>Yeniliklerden ilk siz haberdar olmak istiyorsanız lütfen bizi takip etmeyi unutmayın </b>[YouTube](https://www.youtube.com/c/techproeducation) | [Instagram](https://www.instagram.com/techproeducation) | [Facebook](https://www.facebook.com/techproeducation) | [Telegram](https://t.me/joinchat/HH2qRvA-ulh4OWbb) | [Whatsapp](https://api.whatsapp.com/send/?phone=%2B15853042959&text&type=phone_number&app_absent=0) | [LinkedIn](https://www.linkedin.com/company/techproeducation/mycompany/) |"
   ]
  }
 ],
 "metadata": {
  "hide_input": false,
  "kernelspec": {
   "display_name": "Python 3 (ipykernel)",
   "language": "python",
   "name": "python3"
  },
  "language_info": {
   "codemirror_mode": {
    "name": "ipython",
    "version": 3
   },
   "file_extension": ".py",
   "mimetype": "text/x-python",
   "name": "python",
   "nbconvert_exporter": "python",
   "pygments_lexer": "ipython3",
   "version": "3.11.7"
  },
  "toc": {
   "base_numbering": 1,
   "nav_menu": {},
   "number_sections": true,
   "sideBar": true,
   "skip_h1_title": false,
   "title_cell": "Table of Contents",
   "title_sidebar": "Contents",
   "toc_cell": false,
   "toc_position": {},
   "toc_section_display": true,
   "toc_window_display": false
  }
 },
 "nbformat": 4,
 "nbformat_minor": 4
}
