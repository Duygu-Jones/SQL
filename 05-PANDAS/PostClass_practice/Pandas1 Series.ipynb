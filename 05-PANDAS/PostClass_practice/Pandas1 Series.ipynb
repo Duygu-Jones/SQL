{
 "cells": [
  {
   "cell_type": "markdown",
   "id": "987caa2f",
   "metadata": {},
   "source": [
    "# Pandas Series\n",
    "A one-dimensional labeled array capable of holding any data type in Python\n",
    "<br><b>Basic Syntax</b>: x = pd.Series(data, index)"
   ]
  },
  {
   "cell_type": "markdown",
   "id": "1f54a014",
   "metadata": {},
   "source": [
    "## <u>Libraries</u>"
   ]
  },
  {
   "cell_type": "code",
   "execution_count": 1,
   "id": "504b1616",
   "metadata": {},
   "outputs": [],
   "source": [
    "import pandas as pd"
   ]
  },
  {
   "cell_type": "markdown",
   "id": "f9379393",
   "metadata": {},
   "source": [
    "## <u>How to Make a Pandas Series"
   ]
  },
  {
   "cell_type": "markdown",
   "id": "708aef97",
   "metadata": {},
   "source": [
    "### List"
   ]
  },
  {
   "cell_type": "code",
   "execution_count": 3,
   "id": "96fcd184",
   "metadata": {},
   "outputs": [],
   "source": [
    "days = ['Monday', 'Tuesday', 'Wednesday', 'Thursday']"
   ]
  },
  {
   "cell_type": "code",
   "execution_count": 5,
   "id": "cf94c2f6",
   "metadata": {},
   "outputs": [
    {
     "data": {
      "text/plain": [
       "0       Monday\n",
       "1      Tuesday\n",
       "2    Wednesday\n",
       "3     Thursday\n",
       "dtype: object"
      ]
     },
     "execution_count": 5,
     "metadata": {},
     "output_type": "execute_result"
    }
   ],
   "source": [
    "days_series= pd.Series(data = days)\n",
    "days_series"
   ]
  },
  {
   "cell_type": "code",
   "execution_count": 6,
   "id": "623042ca",
   "metadata": {},
   "outputs": [],
   "source": [
    "index_labels ={4,6,2,7}"
   ]
  },
  {
   "cell_type": "code",
   "execution_count": 8,
   "id": "dc9a015a",
   "metadata": {},
   "outputs": [
    {
     "data": {
      "text/plain": [
       "2       Monday\n",
       "4      Tuesday\n",
       "6    Wednesday\n",
       "7     Thursday\n",
       "dtype: object"
      ]
     },
     "execution_count": 8,
     "metadata": {},
     "output_type": "execute_result"
    }
   ],
   "source": [
    "days_series2 = pd.Series(data= days, index= index_labels)\n",
    "days_series2"
   ]
  },
  {
   "cell_type": "code",
   "execution_count": 9,
   "id": "e9014455",
   "metadata": {},
   "outputs": [
    {
     "data": {
      "text/plain": [
       "2       Monday\n",
       "4      Tuesday\n",
       "6    Wednesday\n",
       "7     Thursday\n",
       "dtype: object"
      ]
     },
     "execution_count": 9,
     "metadata": {},
     "output_type": "execute_result"
    }
   ],
   "source": [
    "days_series3 = pd.Series(days, index_labels)    # assign edilemse de birinciyi data, ikinciyi index label olarak gorur. \n",
    "days_series3"
   ]
  },
  {
   "cell_type": "code",
   "execution_count": 13,
   "id": "31a4af30",
   "metadata": {},
   "outputs": [
    {
     "ename": "TypeError",
     "evalue": "'set' type is unordered",
     "output_type": "error",
     "traceback": [
      "\u001b[1;31m---------------------------------------------------------------------------\u001b[0m",
      "\u001b[1;31mTypeError\u001b[0m                                 Traceback (most recent call last)",
      "Cell \u001b[1;32mIn[13], line 1\u001b[0m\n\u001b[1;32m----> 1\u001b[0m days_series4 \u001b[38;5;241m=\u001b[39m pd\u001b[38;5;241m.\u001b[39mSeries(index_labels,days)    \u001b[38;5;66;03m# assign edilemse de birinciyi data, ikinciyi index label olarak gorur. \u001b[39;00m\n\u001b[0;32m      2\u001b[0m days_series4\n",
      "File \u001b[1;32mc:\\Users\\Duygu Jones\\anaconda3\\Lib\\site-packages\\pandas\\core\\series.py:512\u001b[0m, in \u001b[0;36mSeries.__init__\u001b[1;34m(self, data, index, dtype, name, copy, fastpath)\u001b[0m\n\u001b[0;32m    510\u001b[0m         data \u001b[38;5;241m=\u001b[39m data\u001b[38;5;241m.\u001b[39mcopy()\n\u001b[0;32m    511\u001b[0m \u001b[38;5;28;01melse\u001b[39;00m:\n\u001b[1;32m--> 512\u001b[0m     data \u001b[38;5;241m=\u001b[39m sanitize_array(data, index, dtype, copy)\n\u001b[0;32m    514\u001b[0m     manager \u001b[38;5;241m=\u001b[39m get_option(\u001b[38;5;124m\"\u001b[39m\u001b[38;5;124mmode.data_manager\u001b[39m\u001b[38;5;124m\"\u001b[39m)\n\u001b[0;32m    515\u001b[0m     \u001b[38;5;28;01mif\u001b[39;00m manager \u001b[38;5;241m==\u001b[39m \u001b[38;5;124m\"\u001b[39m\u001b[38;5;124mblock\u001b[39m\u001b[38;5;124m\"\u001b[39m:\n",
      "File \u001b[1;32mc:\\Users\\Duygu Jones\\anaconda3\\Lib\\site-packages\\pandas\\core\\construction.py:641\u001b[0m, in \u001b[0;36msanitize_array\u001b[1;34m(data, index, dtype, copy, allow_2d)\u001b[0m\n\u001b[0;32m    632\u001b[0m     \u001b[38;5;28;01mreturn\u001b[39;00m sanitize_array(\n\u001b[0;32m    633\u001b[0m         data,\n\u001b[0;32m    634\u001b[0m         index\u001b[38;5;241m=\u001b[39mindex,\n\u001b[1;32m   (...)\u001b[0m\n\u001b[0;32m    637\u001b[0m         allow_2d\u001b[38;5;241m=\u001b[39mallow_2d,\n\u001b[0;32m    638\u001b[0m     )\n\u001b[0;32m    640\u001b[0m \u001b[38;5;28;01melse\u001b[39;00m:\n\u001b[1;32m--> 641\u001b[0m     _sanitize_non_ordered(data)\n\u001b[0;32m    642\u001b[0m     \u001b[38;5;66;03m# materialize e.g. generators, convert e.g. tuples, abc.ValueView\u001b[39;00m\n\u001b[0;32m    643\u001b[0m     data \u001b[38;5;241m=\u001b[39m \u001b[38;5;28mlist\u001b[39m(data)\n",
      "File \u001b[1;32mc:\\Users\\Duygu Jones\\anaconda3\\Lib\\site-packages\\pandas\\core\\construction.py:692\u001b[0m, in \u001b[0;36m_sanitize_non_ordered\u001b[1;34m(data)\u001b[0m\n\u001b[0;32m    688\u001b[0m \u001b[38;5;250m\u001b[39m\u001b[38;5;124;03m\"\"\"\u001b[39;00m\n\u001b[0;32m    689\u001b[0m \u001b[38;5;124;03mRaise only for unordered sets, e.g., not for dict_keys\u001b[39;00m\n\u001b[0;32m    690\u001b[0m \u001b[38;5;124;03m\"\"\"\u001b[39;00m\n\u001b[0;32m    691\u001b[0m \u001b[38;5;28;01mif\u001b[39;00m \u001b[38;5;28misinstance\u001b[39m(data, (\u001b[38;5;28mset\u001b[39m, \u001b[38;5;28mfrozenset\u001b[39m)):\n\u001b[1;32m--> 692\u001b[0m     \u001b[38;5;28;01mraise\u001b[39;00m \u001b[38;5;167;01mTypeError\u001b[39;00m(\u001b[38;5;124mf\u001b[39m\u001b[38;5;124m\"\u001b[39m\u001b[38;5;124m'\u001b[39m\u001b[38;5;132;01m{\u001b[39;00m\u001b[38;5;28mtype\u001b[39m(data)\u001b[38;5;241m.\u001b[39m\u001b[38;5;18m__name__\u001b[39m\u001b[38;5;132;01m}\u001b[39;00m\u001b[38;5;124m'\u001b[39m\u001b[38;5;124m type is unordered\u001b[39m\u001b[38;5;124m\"\u001b[39m)\n",
      "\u001b[1;31mTypeError\u001b[0m: 'set' type is unordered"
     ]
    }
   ],
   "source": [
    "days_series4 = pd.Series(index_labels,days)    # yerleri degistirilemiyor gorduk \n",
    "days_series4"
   ]
  },
  {
   "cell_type": "code",
   "execution_count": null,
   "id": "ad337ff8",
   "metadata": {
    "scrolled": true
   },
   "outputs": [],
   "source": []
  },
  {
   "cell_type": "markdown",
   "id": "97f300ff",
   "metadata": {},
   "source": [
    "### Dictonary"
   ]
  },
  {
   "cell_type": "code",
   "execution_count": 14,
   "id": "fd0fe376",
   "metadata": {},
   "outputs": [
    {
     "data": {
      "text/plain": [
       "{'bananas': 3, 'oranges': 2, 'apples': 5}"
      ]
     },
     "execution_count": 14,
     "metadata": {},
     "output_type": "execute_result"
    }
   ],
   "source": [
    "groceries ={'bananas': 3, 'oranges': 2, 'apples': 5}\n",
    "groceries"
   ]
  },
  {
   "cell_type": "code",
   "execution_count": 15,
   "id": "916b319d",
   "metadata": {},
   "outputs": [
    {
     "data": {
      "text/plain": [
       "bananas    3\n",
       "oranges    2\n",
       "apples     5\n",
       "dtype: int64"
      ]
     },
     "execution_count": 15,
     "metadata": {},
     "output_type": "execute_result"
    }
   ],
   "source": [
    "groceries_series =pd.Series(groceries)\n",
    "groceries_series"
   ]
  },
  {
   "cell_type": "markdown",
   "id": "72f25362",
   "metadata": {},
   "source": [
    "## <u>Accessing Values"
   ]
  },
  {
   "cell_type": "code",
   "execution_count": 16,
   "id": "f890f13f",
   "metadata": {},
   "outputs": [
    {
     "data": {
      "text/plain": [
       "2"
      ]
     },
     "execution_count": 16,
     "metadata": {},
     "output_type": "execute_result"
    }
   ],
   "source": [
    "groceries_series['oranges'] # key gorunumlu index label kullanilir  "
   ]
  },
  {
   "cell_type": "code",
   "execution_count": 18,
   "id": "25aab6c7",
   "metadata": {},
   "outputs": [
    {
     "data": {
      "text/plain": [
       "0       Monday\n",
       "1      Tuesday\n",
       "2    Wednesday\n",
       "3     Thursday\n",
       "dtype: object"
      ]
     },
     "execution_count": 18,
     "metadata": {},
     "output_type": "execute_result"
    }
   ],
   "source": [
    "days_series"
   ]
  },
  {
   "cell_type": "code",
   "execution_count": 17,
   "id": "e29d6c4f",
   "metadata": {},
   "outputs": [
    {
     "data": {
      "text/plain": [
       "'Tuesday'"
      ]
     },
     "execution_count": 17,
     "metadata": {},
     "output_type": "execute_result"
    }
   ],
   "source": [
    "days_series[1]"
   ]
  },
  {
   "cell_type": "code",
   "execution_count": null,
   "id": "35da7a70",
   "metadata": {},
   "outputs": [],
   "source": []
  },
  {
   "cell_type": "markdown",
   "id": "9fe5f783",
   "metadata": {},
   "source": [
    "## <u>Slicing a Series"
   ]
  },
  {
   "cell_type": "code",
   "execution_count": 19,
   "id": "c0bb0462",
   "metadata": {},
   "outputs": [
    {
     "data": {
      "text/plain": [
       "0       Monday\n",
       "1      Tuesday\n",
       "2    Wednesday\n",
       "3     Thursday\n",
       "dtype: object"
      ]
     },
     "execution_count": 19,
     "metadata": {},
     "output_type": "execute_result"
    }
   ],
   "source": [
    "days_series"
   ]
  },
  {
   "cell_type": "code",
   "execution_count": 24,
   "id": "8b86c3a6",
   "metadata": {},
   "outputs": [
    {
     "data": {
      "text/plain": [
       "1      Tuesday\n",
       "2    Wednesday\n",
       "dtype: object"
      ]
     },
     "execution_count": 24,
     "metadata": {},
     "output_type": "execute_result"
    }
   ],
   "source": [
    "days_series[1:3]    # stop point haric"
   ]
  },
  {
   "cell_type": "code",
   "execution_count": 22,
   "id": "45b54472",
   "metadata": {},
   "outputs": [
    {
     "data": {
      "text/plain": [
       "bananas    3\n",
       "oranges    2\n",
       "apples     5\n",
       "dtype: int64"
      ]
     },
     "execution_count": 22,
     "metadata": {},
     "output_type": "execute_result"
    }
   ],
   "source": [
    "groceries_series"
   ]
  },
  {
   "cell_type": "code",
   "execution_count": 23,
   "id": "e179625e",
   "metadata": {},
   "outputs": [
    {
     "data": {
      "text/plain": [
       "bananas    3\n",
       "oranges    2\n",
       "apples     5\n",
       "dtype: int64"
      ]
     },
     "execution_count": 23,
     "metadata": {},
     "output_type": "execute_result"
    }
   ],
   "source": [
    "groceries_series['bananas':'apples'] # labelindexlerde ise start-stop dahildir"
   ]
  },
  {
   "cell_type": "markdown",
   "id": "578b3aba",
   "metadata": {},
   "source": [
    "## <u>Adding Series Together"
   ]
  },
  {
   "cell_type": "code",
   "execution_count": 25,
   "id": "4551b66c",
   "metadata": {},
   "outputs": [
    {
     "data": {
      "text/plain": [
       "bananas    2\n",
       "oranges    4\n",
       "apples     5\n",
       "Mango      3\n",
       "dtype: int64"
      ]
     },
     "execution_count": 25,
     "metadata": {},
     "output_type": "execute_result"
    }
   ],
   "source": [
    "groceries_series2= pd.Series([2,4,5,3], ['bananas', 'oranges', 'apples', 'Mango'])\n",
    "groceries_series2"
   ]
  },
  {
   "cell_type": "code",
   "execution_count": 27,
   "id": "7bcad16e",
   "metadata": {},
   "outputs": [
    {
     "data": {
      "text/plain": [
       "Mango       NaN\n",
       "apples     10.0\n",
       "bananas     5.0\n",
       "oranges     6.0\n",
       "dtype: float64"
      ]
     },
     "execution_count": 27,
     "metadata": {},
     "output_type": "execute_result"
    }
   ],
   "source": [
    "all_groceries = groceries_series + groceries_series2\n",
    "all_groceries"
   ]
  },
  {
   "cell_type": "code",
   "execution_count": 28,
   "id": "1d0e40eb",
   "metadata": {},
   "outputs": [
    {
     "data": {
      "text/plain": [
       "Mango       NaN\n",
       "apples     10.0\n",
       "bananas     5.0\n",
       "oranges     6.0\n",
       "veggies    15.0\n",
       "dtype: float64"
      ]
     },
     "execution_count": 28,
     "metadata": {},
     "output_type": "execute_result"
    }
   ],
   "source": [
    "all_groceries['veggies'] = 15\n",
    "all_groceries"
   ]
  },
  {
   "cell_type": "code",
   "execution_count": null,
   "id": "d1707701",
   "metadata": {},
   "outputs": [],
   "source": []
  },
  {
   "cell_type": "markdown",
   "id": "0c55a413",
   "metadata": {},
   "source": [
    "## <u>Applying Functions"
   ]
  },
  {
   "cell_type": "code",
   "execution_count": 29,
   "id": "680cbe09",
   "metadata": {},
   "outputs": [
    {
     "data": {
      "text/plain": [
       "bananas    3\n",
       "oranges    2\n",
       "apples     5\n",
       "dtype: int64"
      ]
     },
     "execution_count": 29,
     "metadata": {},
     "output_type": "execute_result"
    }
   ],
   "source": [
    "groceries_series"
   ]
  },
  {
   "cell_type": "code",
   "execution_count": 30,
   "id": "f2338947",
   "metadata": {},
   "outputs": [
    {
     "data": {
      "text/plain": [
       "bananas     8\n",
       "oranges     7\n",
       "apples     10\n",
       "dtype: int64"
      ]
     },
     "execution_count": 30,
     "metadata": {},
     "output_type": "execute_result"
    }
   ],
   "source": [
    "groceries_series.add(5) # hepsine 5 ekledi , kayit etmez"
   ]
  },
  {
   "cell_type": "code",
   "execution_count": 33,
   "id": "920286f6",
   "metadata": {},
   "outputs": [
    {
     "data": {
      "text/plain": [
       "bananas     8\n",
       "oranges     7\n",
       "apples     10\n",
       "dtype: int64"
      ]
     },
     "execution_count": 33,
     "metadata": {},
     "output_type": "execute_result"
    }
   ],
   "source": [
    "gsPlus5 =groceries_series.add(5) \n",
    "gsPlus5"
   ]
  },
  {
   "cell_type": "code",
   "execution_count": 34,
   "id": "9ca22ffb",
   "metadata": {},
   "outputs": [
    {
     "data": {
      "text/plain": [
       "2"
      ]
     },
     "execution_count": 34,
     "metadata": {},
     "output_type": "execute_result"
    }
   ],
   "source": [
    "groceries_series.min()"
   ]
  },
  {
   "cell_type": "code",
   "execution_count": 35,
   "id": "3ad7725b",
   "metadata": {},
   "outputs": [
    {
     "data": {
      "text/plain": [
       "5"
      ]
     },
     "execution_count": 35,
     "metadata": {},
     "output_type": "execute_result"
    }
   ],
   "source": [
    "groceries_series.max()"
   ]
  },
  {
   "cell_type": "code",
   "execution_count": 36,
   "id": "e556556a",
   "metadata": {},
   "outputs": [
    {
     "data": {
      "text/plain": [
       "10"
      ]
     },
     "execution_count": 36,
     "metadata": {},
     "output_type": "execute_result"
    }
   ],
   "source": [
    "groceries_series.sum()"
   ]
  },
  {
   "cell_type": "code",
   "execution_count": 37,
   "id": "706c02e4",
   "metadata": {},
   "outputs": [
    {
     "data": {
      "text/plain": [
       "array([3, 2, 5], dtype=int64)"
      ]
     },
     "execution_count": 37,
     "metadata": {},
     "output_type": "execute_result"
    }
   ],
   "source": [
    "groceries_series.unique()"
   ]
  },
  {
   "cell_type": "code",
   "execution_count": 38,
   "id": "fe4320e0",
   "metadata": {},
   "outputs": [
    {
     "data": {
      "text/plain": [
       "apples     5\n",
       "bananas    3\n",
       "oranges    2\n",
       "dtype: int64"
      ]
     },
     "execution_count": 38,
     "metadata": {},
     "output_type": "execute_result"
    }
   ],
   "source": [
    "groceries_series.sort_index()"
   ]
  },
  {
   "cell_type": "code",
   "execution_count": 40,
   "id": "7f75dac8",
   "metadata": {},
   "outputs": [
    {
     "data": {
      "text/plain": [
       "oranges    2\n",
       "bananas    3\n",
       "apples     5\n",
       "dtype: int64"
      ]
     },
     "execution_count": 40,
     "metadata": {},
     "output_type": "execute_result"
    }
   ],
   "source": [
    "groceries_series.sort_values()"
   ]
  },
  {
   "cell_type": "markdown",
   "id": "2e774983",
   "metadata": {},
   "source": [
    "## <u>Missing Values"
   ]
  },
  {
   "cell_type": "code",
   "execution_count": 41,
   "id": "cdcd6692",
   "metadata": {},
   "outputs": [
    {
     "data": {
      "text/plain": [
       "Mango       NaN\n",
       "apples     10.0\n",
       "bananas     5.0\n",
       "oranges     6.0\n",
       "veggies    15.0\n",
       "dtype: float64"
      ]
     },
     "execution_count": 41,
     "metadata": {},
     "output_type": "execute_result"
    }
   ],
   "source": [
    "all_groceries"
   ]
  },
  {
   "cell_type": "code",
   "execution_count": 42,
   "id": "c1090c7a",
   "metadata": {},
   "outputs": [
    {
     "data": {
      "text/plain": [
       "Mango       True\n",
       "apples     False\n",
       "bananas    False\n",
       "oranges    False\n",
       "veggies    False\n",
       "dtype: bool"
      ]
     },
     "execution_count": 42,
     "metadata": {},
     "output_type": "execute_result"
    }
   ],
   "source": [
    "all_groceries.isnull()"
   ]
  },
  {
   "cell_type": "code",
   "execution_count": 43,
   "id": "08d406d5",
   "metadata": {},
   "outputs": [
    {
     "data": {
      "text/plain": [
       "Mango      False\n",
       "apples      True\n",
       "bananas     True\n",
       "oranges     True\n",
       "veggies     True\n",
       "dtype: bool"
      ]
     },
     "execution_count": 43,
     "metadata": {},
     "output_type": "execute_result"
    }
   ],
   "source": [
    "all_groceries.notnull()"
   ]
  },
  {
   "cell_type": "code",
   "execution_count": 45,
   "id": "110eec85",
   "metadata": {},
   "outputs": [
    {
     "data": {
      "text/plain": [
       "Mango      999.0\n",
       "apples      10.0\n",
       "bananas      5.0\n",
       "oranges      6.0\n",
       "veggies     15.0\n",
       "dtype: float64"
      ]
     },
     "execution_count": 45,
     "metadata": {},
     "output_type": "execute_result"
    }
   ],
   "source": [
    "all_groceries.fillna(999)"
   ]
  },
  {
   "cell_type": "code",
   "execution_count": 49,
   "id": "64f164ca",
   "metadata": {},
   "outputs": [
    {
     "data": {
      "text/plain": [
       "Mango          NaN\n",
       "apples        10.0\n",
       "bananas        5.0\n",
       "oranges        6.0\n",
       "veggies    15555.0\n",
       "dtype: float64"
      ]
     },
     "execution_count": 49,
     "metadata": {},
     "output_type": "execute_result"
    }
   ],
   "source": [
    "all_groceries.replace(15, 15555)"
   ]
  },
  {
   "cell_type": "markdown",
   "id": "8a4eb0f0",
   "metadata": {},
   "source": [
    "## <u>Convert to Other Types"
   ]
  },
  {
   "cell_type": "code",
   "execution_count": 50,
   "id": "4511ff57",
   "metadata": {},
   "outputs": [
    {
     "data": {
      "text/plain": [
       "{'Mango': nan, 'apples': 10.0, 'bananas': 5.0, 'oranges': 6.0, 'veggies': 15.0}"
      ]
     },
     "execution_count": 50,
     "metadata": {},
     "output_type": "execute_result"
    }
   ],
   "source": [
    "all_groceries.to_dict()"
   ]
  },
  {
   "cell_type": "code",
   "execution_count": 52,
   "id": "80c854ce",
   "metadata": {},
   "outputs": [
    {
     "data": {
      "text/plain": [
       "[nan, 10.0, 5.0, 6.0, 15.0]"
      ]
     },
     "execution_count": 52,
     "metadata": {},
     "output_type": "execute_result"
    }
   ],
   "source": [
    "all_groceries.to_list()"
   ]
  },
  {
   "cell_type": "code",
   "execution_count": 54,
   "id": "85cf8893",
   "metadata": {},
   "outputs": [
    {
     "data": {
      "text/html": [
       "<div>\n",
       "<style scoped>\n",
       "    .dataframe tbody tr th:only-of-type {\n",
       "        vertical-align: middle;\n",
       "    }\n",
       "\n",
       "    .dataframe tbody tr th {\n",
       "        vertical-align: top;\n",
       "    }\n",
       "\n",
       "    .dataframe thead th {\n",
       "        text-align: right;\n",
       "    }\n",
       "</style>\n",
       "<table border=\"1\" class=\"dataframe\">\n",
       "  <thead>\n",
       "    <tr style=\"text-align: right;\">\n",
       "      <th></th>\n",
       "      <th>amount</th>\n",
       "    </tr>\n",
       "  </thead>\n",
       "  <tbody>\n",
       "    <tr>\n",
       "      <th>Mango</th>\n",
       "      <td>NaN</td>\n",
       "    </tr>\n",
       "    <tr>\n",
       "      <th>apples</th>\n",
       "      <td>10.0</td>\n",
       "    </tr>\n",
       "    <tr>\n",
       "      <th>bananas</th>\n",
       "      <td>5.0</td>\n",
       "    </tr>\n",
       "    <tr>\n",
       "      <th>oranges</th>\n",
       "      <td>6.0</td>\n",
       "    </tr>\n",
       "    <tr>\n",
       "      <th>veggies</th>\n",
       "      <td>15.0</td>\n",
       "    </tr>\n",
       "  </tbody>\n",
       "</table>\n",
       "</div>"
      ],
      "text/plain": [
       "         amount\n",
       "Mango       NaN\n",
       "apples     10.0\n",
       "bananas     5.0\n",
       "oranges     6.0\n",
       "veggies    15.0"
      ]
     },
     "execution_count": 54,
     "metadata": {},
     "output_type": "execute_result"
    }
   ],
   "source": [
    "all_groceries.to_frame(name= 'amount')"
   ]
  },
  {
   "cell_type": "code",
   "execution_count": 56,
   "id": "5d4cf308",
   "metadata": {},
   "outputs": [],
   "source": [
    "all_groceries.to_excel('1Exported_groceriesList_toExcel.xlsx')"
   ]
  },
  {
   "cell_type": "code",
   "execution_count": null,
   "id": "fd261b7d",
   "metadata": {},
   "outputs": [],
   "source": []
  }
 ],
 "metadata": {
  "kernelspec": {
   "display_name": "Python 3 (ipykernel)",
   "language": "python",
   "name": "python3"
  },
  "language_info": {
   "codemirror_mode": {
    "name": "ipython",
    "version": 3
   },
   "file_extension": ".py",
   "mimetype": "text/x-python",
   "name": "python",
   "nbconvert_exporter": "python",
   "pygments_lexer": "ipython3",
   "version": "3.11.7"
  }
 },
 "nbformat": 4,
 "nbformat_minor": 5
}
