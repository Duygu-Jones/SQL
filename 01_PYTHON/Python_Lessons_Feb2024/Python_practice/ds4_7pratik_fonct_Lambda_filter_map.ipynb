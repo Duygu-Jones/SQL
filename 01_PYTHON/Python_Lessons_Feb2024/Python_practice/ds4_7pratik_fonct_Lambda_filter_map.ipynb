{
 "cells": [
  {
   "cell_type": "markdown",
   "metadata": {},
   "source": [
    "#Questions-1"
   ]
  },
  {
   "cell_type": "code",
   "execution_count": null,
   "metadata": {},
   "outputs": [],
   "source": [
    "#1 Bir sayının faktöriyelini hesaplayan bir fonksiyon yazın."
   ]
  },
  {
   "cell_type": "code",
   "execution_count": null,
   "metadata": {},
   "outputs": [],
   "source": [
    "#2 Bir listenin içindeki en büyük sayıyı bulan bir fonksiyon yazın."
   ]
  },
  {
   "cell_type": "code",
   "execution_count": null,
   "metadata": {},
   "outputs": [],
   "source": [
    "#3 Bir stringin içindeki sesli harfleri sayan bir fonksiyon yazın."
   ]
  },
  {
   "cell_type": "code",
   "execution_count": null,
   "metadata": {},
   "outputs": [],
   "source": [
    "#4 Bir sayının asal olup olmadığını kontrol eden bir fonksiyon yazın."
   ]
  },
  {
   "cell_type": "code",
   "execution_count": null,
   "metadata": {},
   "outputs": [],
   "source": [
    "#5 Verilen bir listenin elemanlarını ters çeviren bir fonksiyon yazın"
   ]
  },
  {
   "cell_type": "markdown",
   "metadata": {},
   "source": [
    "#Answers-1"
   ]
  },
  {
   "cell_type": "code",
   "execution_count": 2,
   "metadata": {},
   "outputs": [
    {
     "name": "stdout",
     "output_type": "stream",
     "text": [
      "6'nin faktoriyeli: 720\n"
     ]
    }
   ],
   "source": [
    "#1 Bir sayının faktöriyelini hesaplayan bir fonksiyon:\n",
    "def faktoriyel(sayi):\n",
    "    faktoriyel = 1\n",
    "    for i in range(1, sayi + 1):\n",
    "        faktoriyel *= i\n",
    "        \n",
    "    return faktoriyel\n",
    "\n",
    "sayi = int(input(\"Bir sayi giriniz\"))\n",
    "print(f\"{sayi}'nin faktoriyeli:\", faktoriyel(sayi))\n"
   ]
  },
  {
   "cell_type": "code",
   "execution_count": 5,
   "metadata": {},
   "outputs": [
    {
     "data": {
      "text/plain": [
       "dict"
      ]
     },
     "execution_count": 5,
     "metadata": {},
     "output_type": "execute_result"
    }
   ],
   "source": [
    "b= {\"a\":\"python\"}\n",
    "type(b)"
   ]
  },
  {
   "cell_type": "code",
   "execution_count": null,
   "metadata": {},
   "outputs": [],
   "source": [
    "dict()\n",
    "list()"
   ]
  },
  {
   "cell_type": "code",
   "execution_count": 4,
   "metadata": {},
   "outputs": [
    {
     "ename": "TypeError",
     "evalue": "faktoriyel() missing 1 required positional argument: 'sayi'",
     "output_type": "error",
     "traceback": [
      "\u001b[1;31m---------------------------------------------------------------------------\u001b[0m",
      "\u001b[1;31mTypeError\u001b[0m                                 Traceback (most recent call last)",
      "Cell \u001b[1;32mIn[4], line 1\u001b[0m\n\u001b[1;32m----> 1\u001b[0m \u001b[43mfaktoriyel\u001b[49m\u001b[43m(\u001b[49m\u001b[43m)\u001b[49m\n",
      "\u001b[1;31mTypeError\u001b[0m: faktoriyel() missing 1 required positional argument: 'sayi'"
     ]
    }
   ],
   "source": [
    "faktoriyel()"
   ]
  },
  {
   "cell_type": "code",
   "execution_count": 4,
   "metadata": {},
   "outputs": [
    {
     "name": "stdout",
     "output_type": "stream",
     "text": [
      "Listedeki en büyük sayı: 9\n"
     ]
    }
   ],
   "source": [
    "# 2 Bir listenin içindeki en büyük sayıyı bulan bir fonksiyon:\n",
    "def en_buyuk_sayi(liste):\n",
    "    return max(liste)\n",
    "\n",
    "liste = [3, 7, 2, 9, 5]\n",
    "print(\"Listedeki en büyük sayı:\", en_buyuk_sayi(liste))\n"
   ]
  },
  {
   "cell_type": "code",
   "execution_count": 6,
   "metadata": {},
   "outputs": [
    {
     "name": "stdout",
     "output_type": "stream",
     "text": [
      "Stringdeki sesli harf sayısı: 5\n"
     ]
    }
   ],
   "source": [
    "#3 Bir stringin içindeki sesli harfleri sayan bir fonksiyon:\n",
    "def sesli_harf_say(string):\n",
    "    sesli_harfler = \"aeiouAEIOU\"\n",
    "    sayac = 0\n",
    "    \n",
    "    for harf in string:\n",
    "        if harf in sesli_harfler:\n",
    "            sayac += 1\n",
    "            \n",
    "    return sayac\n",
    "\n",
    "string = \"Merhaba Dunya\"\n",
    "print(\"Stringdeki sesli harf sayısı:\", sesli_harf_say(string))\n"
   ]
  },
  {
   "cell_type": "code",
   "execution_count": 7,
   "metadata": {},
   "outputs": [
    {
     "data": {
      "text/plain": [
       "6"
      ]
     },
     "execution_count": 7,
     "metadata": {},
     "output_type": "execute_result"
    }
   ],
   "source": [
    "sesli_harf_say(\"Appa,Mocha,Arwen\")"
   ]
  },
  {
   "cell_type": "code",
   "execution_count": 9,
   "metadata": {},
   "outputs": [
    {
     "name": "stdout",
     "output_type": "stream",
     "text": [
      "5 sayısı asaldır.\n"
     ]
    }
   ],
   "source": [
    "#4 Bir sayının asal olup olmadığını kontrol eden bir fonksiyon:\n",
    "def asal_mi(sayi):\n",
    "    if sayi <= 1:\n",
    "        return False\n",
    "    \n",
    "    for i in range(2, sayi):\n",
    "        if sayi % i == 0:\n",
    "            return False\n",
    "    return True\n",
    "\n",
    "sayi = int(input(\"Bir sayi giriniz\"))\n",
    "\n",
    "if asal_mi(sayi):\n",
    "    print(sayi, \"sayısı asaldır.\")\n",
    "else:\n",
    "    print(sayi, \"sayısı asal değildir.\")\n"
   ]
  },
  {
   "cell_type": "code",
   "execution_count": 22,
   "metadata": {},
   "outputs": [
    {
     "name": "stdout",
     "output_type": "stream",
     "text": [
      "['Arwen', 'Mocha', 'Appa']\n"
     ]
    }
   ],
   "source": [
    "listeee=[\"Appa\",\"Mocha\",\"Arwen\"]\n",
    "#list.reverse()\n",
    "listeee.reverse()\n",
    "print(listeee)\n",
    "\n"
   ]
  },
  {
   "cell_type": "code",
   "execution_count": 14,
   "metadata": {},
   "outputs": [
    {
     "name": "stdout",
     "output_type": "stream",
     "text": [
      "Liste: [1, 2, 3, 4, 5]\n",
      "Listenin ters hali: [5, 4, 3, 2, 1]\n"
     ]
    }
   ],
   "source": [
    "#5 Verilen bir listenin elemanlarını ters çeviren bir fonksiyon:\n",
    "def ters_cevir(liste):\n",
    "    return liste[::-1]\n",
    "\n",
    "liste = [1, 2, 3, 4, 5]\n",
    "print(\"Liste:\", liste)\n",
    "print(\"Listenin ters hali:\", ters_cevir(liste))\n"
   ]
  },
  {
   "cell_type": "markdown",
   "metadata": {},
   "source": [
    "#Questions-part2"
   ]
  },
  {
   "cell_type": "code",
   "execution_count": 28,
   "metadata": {},
   "outputs": [],
   "source": [
    "del list"
   ]
  },
  {
   "cell_type": "code",
   "execution_count": 29,
   "metadata": {},
   "outputs": [
    {
     "data": {
      "text/plain": [
       "[-1, 5, 7]"
      ]
     },
     "execution_count": 29,
     "metadata": {},
     "output_type": "execute_result"
    }
   ],
   "source": [
    "# Soru 1: Verilen bir listedeki tek sayıları filtreleyen bir lambda ifadesi nasıl oluşturulur?\n",
    "\n",
    "list1= [-1,-4,5,7,10,56,-8]\n",
    "list(filter(lambda x: x%2!=0, list1))\n"
   ]
  },
  {
   "cell_type": "code",
   "execution_count": 31,
   "metadata": {},
   "outputs": [
    {
     "data": {
      "text/plain": [
       "[5, 7, 10, 56]"
      ]
     },
     "execution_count": 31,
     "metadata": {},
     "output_type": "execute_result"
    }
   ],
   "source": [
    "# Soru 2: Verilen bir listedeki pozitif sayıları filtreleyen bir lambda ifadesi nasıl oluşturulur?\n",
    "list(filter(lambda x: x>0, list1))\n"
   ]
  },
  {
   "cell_type": "code",
   "execution_count": 32,
   "metadata": {},
   "outputs": [
    {
     "data": {
      "text/plain": [
       "['karpuz', 'portakal']"
      ]
     },
     "execution_count": 32,
     "metadata": {},
     "output_type": "execute_result"
    }
   ],
   "source": [
    "# Soru 3: Verilen bir listedeki string uzunluğu 5 karakterden fazla olan kelimeleri filtreleyen bir lambda ifadesi nasıl oluşturulur?\n",
    "liste2 = [\"elma\", \"armut\", \"kiraz\", \"karpuz\", \"çilek\", \"portakal\"]\n",
    "list(filter(lambda x: len(x)>5, liste2))\n"
   ]
  },
  {
   "cell_type": "code",
   "execution_count": 33,
   "metadata": {},
   "outputs": [
    {
     "data": {
      "text/plain": [
       "[1, 16, 25, 49, 100, 3136, 64]"
      ]
     },
     "execution_count": 33,
     "metadata": {},
     "output_type": "execute_result"
    }
   ],
   "source": [
    "# Soru 4: Verilen bir liste içindeki sayıların karesini alan bir lambda ifadesi nasıl oluşturulur?\n",
    "list1= [-1,-4,5,7,10,56,-8]\n",
    "list(map(lambda x: x**2, list1))"
   ]
  },
  {
   "cell_type": "code",
   "execution_count": 35,
   "metadata": {},
   "outputs": [
    {
     "data": {
      "text/plain": [
       "[1, 16, 64]"
      ]
     },
     "execution_count": 35,
     "metadata": {},
     "output_type": "execute_result"
    }
   ],
   "source": [
    "# Soru 5: Verilen bir liste içindeki negatif sayıları filtreleyen ve karelerini alarak yeni bir liste oluşturan bir lambda ifadesi nasıl oluşturulur?\n",
    "\n",
    "list(map(lambda x: x**2, filter(lambda x: x<0, list1)))"
   ]
  },
  {
   "cell_type": "code",
   "execution_count": 37,
   "metadata": {},
   "outputs": [
    {
     "data": {
      "text/plain": [
       "[16, 25, 49, 100, 3136, 64]"
      ]
     },
     "execution_count": 37,
     "metadata": {},
     "output_type": "execute_result"
    }
   ],
   "source": [
    "list(filter(lambda x: x>10, map(lambda x: x**2, list1)))"
   ]
  },
  {
   "cell_type": "markdown",
   "metadata": {},
   "source": [
    "#Part-2 Answers"
   ]
  },
  {
   "cell_type": "code",
   "execution_count": null,
   "metadata": {},
   "outputs": [],
   "source": [
    "# Soru 1: Verilen bir listedeki tek sayıları filtreleyen bir lambda ifadesi nasıl oluşturulur?\n",
    "# Cevap 1:\n",
    "liste = [1, 2, 3, 4, 5, 6, 7, 8, 9, 10]\n",
    "tek_sayilar = list(filter(lambda x: x % 2 != 0, liste))\n",
    "print(tek_sayilar)  # Çıktı: [1, 3, 5, 7, 9]"
   ]
  },
  {
   "cell_type": "code",
   "execution_count": null,
   "metadata": {},
   "outputs": [],
   "source": [
    "# Soru 2: Verilen bir listedeki pozitif sayıları filtreleyen bir lambda ifadesi nasıl oluşturulur?\n",
    "# Cevap 2:\n",
    "liste = [-2, -1, 0, 1, 2, 3, 4, 5]\n",
    "pozitif_sayilar = list(filter(lambda x: x > 0, liste))\n",
    "print(pozitif_sayilar)  # Çıktı: [1, 2, 3, 4, 5]"
   ]
  },
  {
   "cell_type": "code",
   "execution_count": 2,
   "metadata": {},
   "outputs": [
    {
     "name": "stdout",
     "output_type": "stream",
     "text": [
      "['karpuz', 'portakal']\n"
     ]
    }
   ],
   "source": [
    "# Soru 3: Verilen bir listedeki string uzunluğu 5 karakterden fazla olan kelimeleri filtreleyen bir lambda ifadesi nasıl oluşturulur?\n",
    "# Cevap 3:\n",
    "liste = [\"elma\", \"armut\", \"kiraz\", \"karpuz\", \"çilek\", \"portakal\"]\n",
    "uzun_kelimeler = list(filter(lambda x: len(x) > 5, liste))\n",
    "print(uzun_kelimeler)  # Çıktı: ['portakal']"
   ]
  },
  {
   "cell_type": "code",
   "execution_count": null,
   "metadata": {},
   "outputs": [],
   "source": [
    "# Soru 4: Verilen bir liste içindeki sayıların karesini alan bir lambda ifadesi nasıl oluşturulur?\n",
    "# Cevap 4:\n",
    "liste = [1, 2, 3, 4, 5]\n",
    "kareler = list(map(lambda x: x**2, liste))\n",
    "print(kareler)  # Çıktı: [1, 4, 9, 16, 25]\n"
   ]
  },
  {
   "cell_type": "code",
   "execution_count": 1,
   "metadata": {},
   "outputs": [
    {
     "name": "stdout",
     "output_type": "stream",
     "text": [
      "[4, 1]\n"
     ]
    }
   ],
   "source": [
    "# Soru 5: Verilen bir liste içindeki negatif sayıları filtreleyen ve karelerini alarak yeni bir liste oluşturan bir lambda ifadesi nasıl oluşturulur?\n",
    "# Cevap 5:\n",
    "liste = [-2, -1, 0, 1, 2, 3, 4, 5]\n",
    "negatif_kareler = list(map(lambda x: x**2, filter(lambda x: x < 0, liste)))\n",
    "print(negatif_kareler)  # Çıktı: [4, 1]"
   ]
  }
 ],
 "metadata": {
  "kernelspec": {
   "display_name": "Python 3",
   "language": "python",
   "name": "python3"
  },
  "language_info": {
   "codemirror_mode": {
    "name": "ipython",
    "version": 3
   },
   "file_extension": ".py",
   "mimetype": "text/x-python",
   "name": "python",
   "nbconvert_exporter": "python",
   "pygments_lexer": "ipython3",
   "version": "3.11.4"
  }
 },
 "nbformat": 4,
 "nbformat_minor": 2
}
