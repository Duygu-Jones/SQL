{
 "cells": [
  {
   "cell_type": "markdown",
   "id": "11bdf0d7",
   "metadata": {},
   "source": [
    "\n",
    "Python'da set metodları üzerinde uygulama yapabilmek için aşağıdaki Türkçe kelimelerden oluşan iki set kullanacağız:\n",
    "\n",
    "- İlk küme (`kume1`): `{\"elma\", \"armut\", \"çilek\", \"kiraz\", \"muz\"}`\n",
    "- İkinci küme (`kume2`): `{\"muz\", \"portakal\", \"elma\", \"üzüm\", \"kavun\"}`\n",
    "\n",
    "Bu veri setleri üzerinde aşağıdaki soruları çözeceğiz:\n",
    "\n",
    "1. `kume1`'e \"ananas\" ekleyin.\n",
    "2. `kume1`'den \"çilek\" öğesini kaldırın.\n",
    "3. `kume1` ve `kume2`'nin farkını bulun.\n",
    "4. `kume1` ve `kume2`'nin kesişimini bulun.\n",
    "5. `kume1`'in `kume2`'ye göre simetrik farkını bulun.\n",
    "6. `kume1`'in `kume2` içinde bir alt küme olup olmadığını kontrol edin.\n",
    "7. `kume2`'nin `kume1` içinde bir üst küme olup olmadığını kontrol edin.\n",
    "8. `kume1`'e `kume2`'den farklı olan öğeleri ekleyin.\n",
    "9. `kume1` ve `kume2`'nin birleşimini bulun.\n",
    "10. `kume1`'den rastgele bir öğe kaldırın ve hangi öğenin kaldırıldığını yazdırın.\n"
   ]
  },
  {
   "cell_type": "code",
   "execution_count": null,
   "id": "aa9ade6b",
   "metadata": {},
   "outputs": [],
   "source": [
    "\n",
    "# Örnek Python kodları buraya yazılacak. Yukarıdaki sorulara göre metodları kullanın.\n",
    "kume1 = {\"elma\", \"armut\", \"çilek\", \"kiraz\", \"muz\"}\n",
    "kume2 = {\"muz\", \"portakal\", \"elma\", \"üzüm\", \"kavun\"}\n",
    "\n",
    "# Soru 1 için örnek:\n",
    "# kume1.add(\"ananas\")\n",
    "\n",
    "# Devamını siz ekleyin...\n"
   ]
  },
  {
   "cell_type": "code",
   "execution_count": null,
   "id": "8eab82ca",
   "metadata": {},
   "outputs": [],
   "source": [
    "# Soru 7\n",
    "print(\"kume1, kume2'yi içeriyor mu?:\", kume1.issuperset(kume2))\n",
    "print(\"kume1, kume2'nin alt kümesi mi?:\", kume1.issubset(kume2))"
   ]
  },
  {
   "cell_type": "code",
   "execution_count": null,
   "id": "e4a0ee63",
   "metadata": {},
   "outputs": [],
   "source": [
    "# Soru 8\n",
    "removed_item = kume1.pop()\n",
    "print(\"Kaldırılan öğe:\", removed_item)\n",
    "print(\"kume1:\", kume1)"
   ]
  },
  {
   "cell_type": "code",
   "execution_count": null,
   "id": "ae27e709",
   "metadata": {},
   "outputs": [],
   "source": [
    "# Soru 9\n",
    "kume2.discard(\"portakal\")\n",
    "print(\"Portakal kaldırıldıktan sonra kume2:\", kume2)"
   ]
  },
  {
   "cell_type": "code",
   "execution_count": null,
   "id": "b393daaa",
   "metadata": {},
   "outputs": [],
   "source": [
    "# Soru 10\n",
    "kume1_original = kume1.copy()\n",
    "print(\"Kopyalamadan önce kume1:\", kume1_original)\n",
    "# Kopya üzerinde değişiklik yapılıyor\n",
    "kume1.add(\"mango\")\n",
    "print(\"Kopyalamadan sonra kume1:\", kume1)"
   ]
  },
  {
   "cell_type": "code",
   "execution_count": null,
   "id": "ce4f0663",
   "metadata": {},
   "outputs": [],
   "source": [
    "# Soru 1: Verilen iki küme arasındaki farkı bulun\n",
    "kume1 = {'elma', 'muz', 'kiraz'}\n",
    "kume2 = {'muz', 'portakal', 'elma'}\n",
    "\n",
    "# Farkı bulma\n",
    "fark = kume1.difference(kume2)\n",
    "fark"
   ]
  },
  {
   "cell_type": "code",
   "execution_count": null,
   "id": "a8573908",
   "metadata": {},
   "outputs": [],
   "source": [
    "# Soru 2: Bir kümeden belirli bir öğeyi güvenli bir şekilde kaldırın\n",
    "kume = {'elma', 'muz', 'kiraz'}\n",
    "\n",
    "# 'kiraz' öğesini güvenli bir şekilde kaldırma\n",
    "kume.discard('kiraz')\n",
    "kume"
   ]
  },
  {
   "cell_type": "code",
   "execution_count": null,
   "id": "d37cf8fe",
   "metadata": {},
   "outputs": [],
   "source": [
    "# Soru 3: İki küme arasındaki ortak öğeleri bulun\n",
    "kume1 = {'elma', 'muz', 'kiraz'}\n",
    "kume2 = {'muz', 'portakal', 'elma'}\n",
    "\n",
    "# Ortak öğeleri bulma\n",
    "kesisim = kume1.intersection(kume2)\n",
    "kesisim"
   ]
  },
  {
   "cell_type": "code",
   "execution_count": null,
   "id": "2c1b21ae",
   "metadata": {},
   "outputs": [],
   "source": [
    "# Soru 4: Bir kümenin başka bir kümenin alt kümesi olup olmadığını kontrol edin\n",
    "alt_kume = {'elma', 'muz'}\n",
    "kume = {'elma', 'muz', 'kiraz'}\n",
    "\n",
    "# Alt küme kontrolü\n",
    "alt_kume.issubset(kume)"
   ]
  },
  {
   "cell_type": "code",
   "execution_count": null,
   "id": "d39f20c1",
   "metadata": {},
   "outputs": [],
   "source": [
    "# Soru 5: İki kümenin birleşimini bulun\n",
    "kume1 = {'elma', 'muz', 'kiraz'}\n",
    "kume2 = {'muz', 'portakal', 'elma'}\n",
    "\n",
    "# Birleşimini bulma\n",
    "birlesim = kume1.union(kume2)\n",
    "birlesim"
   ]
  },
  {
   "cell_type": "code",
   "execution_count": null,
   "id": "50bd4593",
   "metadata": {},
   "outputs": [],
   "source": [
    "# Soru 6: Bir kümedeki öğeleri, başka bir yinelenebilir nesne ile güncelleyin\n",
    "kume = {'elma', 'muz', 'kiraz'}\n",
    "yeni_ogeler = ['avokado', 'muz', 'portakal']\n",
    "\n",
    "# Küme güncelleme\n",
    "kume.update(yeni_ogeler)\n",
    "kume"
   ]
  },
  {
   "cell_type": "code",
   "execution_count": null,
   "id": "64957c89",
   "metadata": {},
   "outputs": [],
   "source": [
    "# Soru 7: Bir kümeden rastgele bir öğeyi kaldırın ve hangi öğenin kaldırıldığını gösterin\n",
    "kume = {'elma', 'muz', 'kiraz'}\n",
    "\n",
    "# Rastgele bir öğe kaldırma\n",
    "kaldırılan = kume.pop()\n",
    "kaldırılan, kume"
   ]
  },
  {
   "cell_type": "code",
   "execution_count": null,
   "id": "88b66e36",
   "metadata": {},
   "outputs": [],
   "source": [
    "# Soru 8: İki kümenin simetrik farkını bulun\n",
    "kume1 = {'elma', 'muz', 'kiraz'}\n",
    "kume2 = {'muz', 'portakal', 'elma'}\n",
    "\n",
    "# Simetrik farkı bulma\n",
    "simetrik_fark = kume1.symmetric_difference(kume2)\n",
    "simetrik_fark"
   ]
  },
  {
   "cell_type": "code",
   "execution_count": null,
   "id": "c8a52dba",
   "metadata": {},
   "outputs": [],
   "source": [
    "# Soru 9: Bir kümeden tüm öğeleri kaldırın ve sonucu kontrol edin\n",
    "kume = {'elma', 'muz', 'kiraz'}\n",
    "\n",
    "# Tüm öğeleri kaldırma\n",
    "kume.clear()\n",
    "kume"
   ]
  },
  {
   "cell_type": "code",
   "execution_count": null,
   "id": "b59b406b",
   "metadata": {},
   "outputs": [],
   "source": [
    "# Soru 10: İki küme arasındaki farkı güncelleyin\n",
    "kume1 = {'elma', 'muz', 'kiraz'}\n",
    "kume2 = {'muz', 'portakal', 'elma'}\n",
    "\n",
    "# Farkı güncelleme\n",
    "kume1.difference_update(kume2)\n",
    "kume1"
   ]
  }
 ],
 "metadata": {},
 "nbformat": 4,
 "nbformat_minor": 5
}
