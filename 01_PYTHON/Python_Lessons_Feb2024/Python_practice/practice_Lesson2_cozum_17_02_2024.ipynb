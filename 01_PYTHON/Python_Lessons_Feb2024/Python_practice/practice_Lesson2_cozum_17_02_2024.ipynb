{
 "cells": [
  {
   "cell_type": "markdown",
   "metadata": {},
   "source": [
    "***Çarpım Tablosu:***\n",
    "- Kullanıcıdan bir sayı alır ve bu sayının çarpım tablosunu 1'den 10'a kadar ekrana yazdırır."
   ]
  },
  {
   "cell_type": "code",
   "execution_count": 1,
   "metadata": {},
   "outputs": [
    {
     "name": "stdout",
     "output_type": "stream",
     "text": [
      "---------- 5 Çarpım Tablosu-----------\n",
      "5 x 1 = 5\n",
      "5 x 2 = 10\n",
      "5 x 3 = 15\n",
      "5 x 4 = 20\n",
      "5 x 5 = 25\n",
      "5 x 6 = 30\n",
      "5 x 7 = 35\n",
      "5 x 8 = 40\n",
      "5 x 9 = 45\n",
      "5 x 10 = 50\n"
     ]
    }
   ],
   "source": [
    "num = int(input(\"Çarpım tablosunu görmek istediğiniz sayıyı girin: \"))\n",
    "\n",
    "print(\"----------\", num, \"Çarpım Tablosu-----------\")\n",
    "\n",
    "for i in range(1, 11):\n",
    "    print(f\"{num} x {i} = {num * i}\")"
   ]
  },
  {
   "cell_type": "markdown",
   "metadata": {},
   "source": [
    "***Sayı Tahmin Oyunu:***\n",
    "- Bilgisayar rastgele bir sayı seçsin (örneğin 1 ile 100 arasında).\n",
    "- Kullanıcıdan sayı tahminleri alın ve bilgisayarın seçtiği sayı ile karşılaştırın.\n",
    "- Kullanıcıya sayıyı doğru tahmin edip etmediğini söyleyin.\n",
    "- Tahminler arasında döngü kullanın."
   ]
  },
  {
   "cell_type": "code",
   "execution_count": 2,
   "metadata": {},
   "outputs": [
    {
     "name": "stdout",
     "output_type": "stream",
     "text": [
      "Daha yüksek bir sayı deneyin.\n",
      "Daha yüksek bir sayı deneyin.\n",
      "Daha yüksek bir sayı deneyin.\n",
      "Tebrikler, doğru tahmin ettiniz!\n"
     ]
    }
   ],
   "source": [
    "import random\n",
    "\n",
    "hedef_sayi = random.randint(1, 100)\n",
    "\n",
    "while True:\n",
    "    tahmin = int(input(\"1 ile 100 arasında bir tam sayı tahmin ediniz:\"))\n",
    "    \n",
    "    if tahmin == hedef_sayi:\n",
    "        print(\"Tebrikler, doğru tahmin ettiniz!\")\n",
    "        break\n",
    "    elif tahmin < hedef_sayi:\n",
    "        print(\"Daha yüksek bir sayı deneyin.\")\n",
    "    else:\n",
    "        print(\"Daha düşük bir sayı deneyin\")"
   ]
  },
  {
   "cell_type": "markdown",
   "metadata": {},
   "source": [
    "***Mükemmel Sayılar:***\n",
    "\n",
    "- Belirli bir aralıkta mükemmel sayıları bulun.\n",
    "- Mükemmel sayı, kendisi hariç pozitif bölenlerinin toplamı kendisine eşit olan sayıdır."
   ]
  },
  {
   "cell_type": "code",
   "execution_count": 9,
   "metadata": {},
   "outputs": [
    {
     "name": "stdout",
     "output_type": "stream",
     "text": [
      "1 ile 1000 sayıları arasındaki mükemmel sayılar: [6, 28, 496]\n"
     ]
    }
   ],
   "source": [
    "baslangic = int(input(\"Başlangıç sayısını giriniz: \"))\n",
    "bitis = int(input(\"Bitiş sayısını giriniz: \"))\n",
    "\n",
    "mukemmel_sayilar = []\n",
    "\n",
    "\n",
    "for sayi in range(baslangic, bitis + 1):\n",
    "    bolenler = []\n",
    "    for i in range(1, sayi):\n",
    "        if sayi % i == 0:\n",
    "            bolenler.append(i)\n",
    "    if sum(bolenler) == sayi:\n",
    "        mukemmel_sayilar.append(sayi)\n",
    "            \n",
    "print(f\"{baslangic} ile {bitis} sayıları arasındaki mükemmel sayılar: {mukemmel_sayilar}\")\n"
   ]
  },
  {
   "cell_type": "markdown",
   "metadata": {},
   "source": [
    "***Asal Sayı Bulucu:***\n",
    "- Kullanıcıdan bir sayı alır ve bu sayının asal olup olmadığını kontrol eder."
   ]
  },
  {
   "cell_type": "code",
   "execution_count": 15,
   "metadata": {},
   "outputs": [
    {
     "name": "stdout",
     "output_type": "stream",
     "text": [
      "2, asal bir sayıdır.\n"
     ]
    }
   ],
   "source": [
    "sayi = int(input(\"Lütfen sıfırdan büyük bir tamsayı giriniz:\"))\n",
    "\n",
    "if sayi <= 1:\n",
    "    print(f\"{sayi}, asal bir sayı değildir.\")\n",
    "\n",
    "else:\n",
    "    for i in range(2, sayi):\n",
    "        if sayi % i == 0:\n",
    "            print(f\"{sayi}, asal bir sayı değildir.\")\n",
    "            break\n",
    "    \n",
    "    else:\n",
    "        print(f\"{sayi}, asal bir sayıdır.\")"
   ]
  },
  {
   "cell_type": "markdown",
   "metadata": {},
   "source": [
    "***Palindrom Kontrolü:***\n",
    "- Kullanıcıdan bir kelime veya cümle alır ve bu kelimenin palindrom olup olmadığını kontrol eder."
   ]
  },
  {
   "cell_type": "code",
   "execution_count": 17,
   "metadata": {},
   "outputs": [
    {
     "name": "stdout",
     "output_type": "stream",
     "text": [
      "deneme kelimesi/cümlesi bir palindrom değildir.\n"
     ]
    }
   ],
   "source": [
    "kelime = input(\"Palindrom kontrolü yapmak için bir kelime veya cümle giriniz (noktalama işareti koymayınız)\").lower()\n",
    "\n",
    "ters_kelime = kelime[::-1]\n",
    "\n",
    "if kelime == ters_kelime:\n",
    "    print(f\"{kelime} kelimesi/cümlesi bir palindromdur.\")\n",
    "\n",
    "else:\n",
    "    print(f\"{kelime} kelimesi/cümlesi bir palindrom değildir.\")\n"
   ]
  },
  {
   "cell_type": "markdown",
   "metadata": {},
   "source": [
    "***Müşteri Sipariş Takip Sistemi:***\n",
    "- Kullanıcıdan bir ürün adı, miktarı ve birim fiyatı alarak toplam sipariş tutarını hesaplar. \n",
    "- Ardından kullanıcıya indirim uygulanıp uygulanmayacağını sormaktadır."
   ]
  },
  {
   "cell_type": "code",
   "execution_count": 19,
   "metadata": {},
   "outputs": [
    {
     "name": "stdout",
     "output_type": "stream",
     "text": [
      "Tost makinesi adlı ürüne indirim uygulandı! İndirim miktarı: 1200.0 TL\n",
      "Toplam Tutar: 10800.0 TL\n"
     ]
    }
   ],
   "source": [
    "urun_adi = input(\"Ürün adını giriniz: \")\n",
    "miktar = int(input(\"Ürün miktarnı giriniz: \"))\n",
    "birim_fiyat = float(input(\"Birim fiyatını giriniz: \"))\n",
    "\n",
    "toplam_tutar = miktar * birim_fiyat\n",
    "\n",
    "if toplam_tutar > 10000:\n",
    "    indirim_miktari = toplam_tutar * 0.1\n",
    "    toplam_tutar -= indirim_miktari # toplam_tutar = toplam_tutar - indirim_miktari\n",
    "    \n",
    "    print(f\"{urun_adi} adlı ürüne indirim uygulandı! İndirim miktarı: {indirim_miktari} TL\")\n",
    "    print(f\"Toplam Tutar: {toplam_tutar} TL\")\n",
    "\n",
    "else:\n",
    "    print(f\"{urun_adi} adlı ürüne indirim uygulanmadı\")\n",
    "    print(f\"Toplam Tutar: {toplam_tutar} TL\")"
   ]
  },
  {
   "cell_type": "markdown",
   "metadata": {},
   "source": [
    "***Giriş Kontrol Sistemi:***\n",
    "- Kullanıcının adını ve yaşını kontrol ederek belirli bir yaşın altındaysa belirli bir bölüme giriş izni verir."
   ]
  },
  {
   "cell_type": "code",
   "execution_count": 21,
   "metadata": {},
   "outputs": [
    {
     "name": "stdout",
     "output_type": "stream",
     "text": [
      "Merhaba 20! Bu bölüme hoş geldiniz.\n"
     ]
    }
   ],
   "source": [
    "ad = input(\"Lütfen adınızı giriniz: \")\n",
    "yas = int(input(\"Lütfen yaşınızı giriniz: \"))\n",
    "\n",
    "if yas < 18:\n",
    "    print(f\"Üzgünüm {ad}, bu bölüme giriş izniniz yoktur!\")\n",
    "\n",
    "else:\n",
    "    print(f\"Merhaba {ad}! Bu bölüme hoş geldiniz.\")"
   ]
  },
  {
   "cell_type": "markdown",
   "metadata": {},
   "source": [
    "***Sıcaklık Uyarı Sistemi:***\n",
    "- Kullanıcıdan bir sıcaklık değeri alır ve belirli bir sıcaklık aralığındaysa uygun bir mesaj gösterir."
   ]
  },
  {
   "cell_type": "code",
   "execution_count": 25,
   "metadata": {},
   "outputs": [
    {
     "name": "stdout",
     "output_type": "stream",
     "text": [
      "Hava serin. Gerekirse bir hırka alabilirsiniz.\n"
     ]
    }
   ],
   "source": [
    "sicaklik = float(input(\"Bugünkü sıcaklık değerini giriniz:\"))\n",
    "\n",
    "if sicaklik > 30:\n",
    "    print(\"Dışarısı çok sıcak! Lütfen serin kalmaya çalışın.\")\n",
    "\n",
    "elif 20 <= sicaklik <= 30:\n",
    "    print(\"Hava sıcaklığı normal. Günü değerlendir!\")\n",
    "    \n",
    "else:\n",
    "    print(\"Hava serin. Gerekirse bir hırka alabilirsiniz.\")"
   ]
  },
  {
   "cell_type": "markdown",
   "metadata": {},
   "source": [
    "***Alışveriş Sepeti Hesaplayıcı:***\n",
    "- Kullanıcıdan bir dizi ürün, miktar ve fiyat alır. Ardından bu ürünleri sepete ekler ve toplam tutarı hesaplar."
   ]
  },
  {
   "cell_type": "code",
   "execution_count": 27,
   "metadata": {},
   "outputs": [
    {
     "name": "stdout",
     "output_type": "stream",
     "text": [
      "Toplam tutar: 5500.0\n"
     ]
    }
   ],
   "source": [
    "toplam_tutar = 0\n",
    "\n",
    "while True:\n",
    "    \n",
    "    urun_adi = input(\"Ürün adını giriniz (Çıkmak için 'q' tuşuna basın):\")\n",
    "    \n",
    "    if urun_adi.lower() == \"q\":\n",
    "        break\n",
    "    \n",
    "    miktar = int(input(\"Ürün miktarını giriniz: \"))\n",
    "    birim_fiyat = float(input(\"Ürün birim fiyatını giriniz: \"))\n",
    "    \n",
    "    toplam_tutar += miktar * birim_fiyat\n",
    "    \n",
    "print(\"Toplam tutar:\", toplam_tutar)"
   ]
  },
  {
   "cell_type": "markdown",
   "metadata": {},
   "source": [
    "***Toplam Harcama Hesaplayıcı:***\n",
    "- Kullanıcıdan bir ay boyunca günlük harcamalarını alır ve bu harcamaların toplamını gösterir."
   ]
  },
  {
   "cell_type": "code",
   "execution_count": 28,
   "metadata": {},
   "outputs": [
    {
     "name": "stdout",
     "output_type": "stream",
     "text": [
      "Toplam Harcama: 85000.0\n"
     ]
    }
   ],
   "source": [
    "toplam_harcama = 0\n",
    "\n",
    "for gun in range(1, 31):\n",
    "    harcama = float(input(f\"{gun}. gün harcamanızı giriniz:\"))\n",
    "    toplam_harcama += harcama\n",
    "    \n",
    "print(\"Toplam Harcama:\", toplam_harcama)"
   ]
  },
  {
   "cell_type": "markdown",
   "metadata": {},
   "source": [
    "***Kullanıcı Girişi ve Yetkilendirme:***\n",
    "* Kullanıcıdan bir kullanıcı adı ve şifre alır, ardından yetkilendirme yapar."
   ]
  },
  {
   "cell_type": "code",
   "execution_count": 30,
   "metadata": {},
   "outputs": [
    {
     "name": "stdout",
     "output_type": "stream",
     "text": [
      "Giriş başarılı!\n"
     ]
    }
   ],
   "source": [
    "kullanici_adi = input(\"Kullanıcı adınızı giriniz: \")\n",
    "sifre = input(\"Şifrenizi giriniz: \")\n",
    "\n",
    "\n",
    "if kullanici_adi == \"admin\" and sifre == \"1234\":\n",
    "    print(\"Giriş başarılı!\")\n",
    "    \n",
    "else:\n",
    "    print(\"Hatalı kullanıcı adı veya şifre.\")"
   ]
  },
  {
   "cell_type": "markdown",
   "metadata": {},
   "source": [
    "***Yemek Siparişi Hesaplayıcı:***\n",
    "* Kullanıcıdan sipariş edilen yemeklerin fiyatlarını ve miktarlarını alarak toplam sipariş tutarını hesaplar."
   ]
  },
  {
   "cell_type": "code",
   "execution_count": 31,
   "metadata": {},
   "outputs": [
    {
     "name": "stdout",
     "output_type": "stream",
     "text": [
      "Toplam Tutar: 1500.0\n"
     ]
    }
   ],
   "source": [
    "toplam_tutar = 0\n",
    "\n",
    "while True:\n",
    "    yemek = input(\"Sipariş etmek istediğiniz yemeği giriniz (Çıkmak için \\\"q\\\" tuşuna basınız.):\")\n",
    "    \n",
    "    if yemek == \"q\":\n",
    "        break\n",
    "    \n",
    "    miktar = int(input(\"Kaç porsiyon istiyorsunuz?: \"))\n",
    "    fiyat = float(input(\"Birim fiyatı girin: \"))\n",
    "    \n",
    "    toplam_tutar += miktar * fiyat\n",
    "    \n",
    "print(f\"Toplam Tutar: {toplam_tutar}\")\n",
    "    \n",
    "    "
   ]
  },
  {
   "cell_type": "markdown",
   "metadata": {},
   "source": [
    "***Günlük Adımlar Sayacı:***\n",
    "* Kullanıcıdan bir hafta boyunca günlük adımlarını alır ve haftanın sonunda toplam adım sayısını gösterir."
   ]
  },
  {
   "cell_type": "code",
   "execution_count": 32,
   "metadata": {},
   "outputs": [
    {
     "name": "stdout",
     "output_type": "stream",
     "text": [
      "Haftalık Toplam Adım Sayısı: 25600\n"
     ]
    }
   ],
   "source": [
    "toplam_adim = 0\n",
    "\n",
    "for gun in range(1, 8):\n",
    "    adim_sayisi = int(input(f\"{gun}. gün adım sayısını giriniz:\"))\n",
    "    toplam_adim += adim_sayisi\n",
    "    \n",
    "print(f\"Haftalık Toplam Adım Sayısı: {toplam_adim}\")"
   ]
  },
  {
   "cell_type": "markdown",
   "metadata": {},
   "source": [
    "***Gelir ve Gider Hesaplayıcı:***\n",
    "* Kullanıcıdan bir ay boyunca gelir ve giderleri alır ve bakiyeyi hesaplar."
   ]
  },
  {
   "cell_type": "code",
   "execution_count": 34,
   "metadata": {},
   "outputs": [
    {
     "name": "stdout",
     "output_type": "stream",
     "text": [
      "Bakiyeniz pozitif. Harcamalara dikkat edin.\n"
     ]
    }
   ],
   "source": [
    "gelir = float(input(\"Aylık gelirinizi giriniz: \"))\n",
    "gider = float(input(\"Aylık giderinizi giriniz: \"))\n",
    "\n",
    "bakiye = gelir - gider\n",
    "\n",
    "if bakiye > 0:\n",
    "    print(\"Bakiyeniz pozitif. Harcamalara dikkat edin.\")\n",
    "elif bakiye < 0:\n",
    "    print(\"Bakiyeniz negatif. Harcamalarınızı gözden geçirin.\")\n",
    "else:\n",
    "    print(\"Bakiyeniz sıfır. Dikkatli harcama yapın.\")"
   ]
  },
  {
   "cell_type": "markdown",
   "metadata": {},
   "source": [
    "***Fatura Hesaplayıcı:***\n",
    "* Kullanıcıdan ürün miktarı ve birim fiyatı alarak toplam tutarı hesaplar ve KDV ekler."
   ]
  },
  {
   "cell_type": "code",
   "execution_count": 36,
   "metadata": {},
   "outputs": [
    {
     "name": "stdout",
     "output_type": "stream",
     "text": [
      "Toplam Tutar: 100000.0\n",
      "KDV Tutarı: 18000.0\n",
      "Toplam Tutar (KDV dahil): 118000.0\n"
     ]
    }
   ],
   "source": [
    "urun_miktari = int(input(\"Ürün miktarını giriniz: \"))\n",
    "birim_fiyat = float(input(\"Ürün birim fiyatı giriniz: \"))\n",
    "\n",
    "toplam_tutar = urun_miktari * birim_fiyat\n",
    "kdv = 0.18\n",
    "kdv_tutari = toplam_tutar * kdv\n",
    "toplam_tutar_kdvli = toplam_tutar + kdv_tutari\n",
    "\n",
    "print(f\"Toplam Tutar: {toplam_tutar}\")\n",
    "print(f\"KDV Tutarı: {kdv_tutari}\")\n",
    "print(f\"Toplam Tutar (KDV dahil): {toplam_tutar_kdvli}\")"
   ]
  },
  {
   "cell_type": "markdown",
   "metadata": {},
   "source": [
    "***Fibonacci Sayıları:***\n",
    "* Kullanıcıdan bir sınır değeri alarak, Fibonacci sayılarını bu sınır dahilinde ekrana yazdırır."
   ]
  },
  {
   "cell_type": "code",
   "execution_count": 39,
   "metadata": {},
   "outputs": [
    {
     "name": "stdout",
     "output_type": "stream",
     "text": [
      "0 1 1 2 3 5 8 13 21 34 55 89 "
     ]
    }
   ],
   "source": [
    "sinir = int(input(\"Fibonacci sayılarını kaça kada görmek istiyorsunuz:\"))\n",
    "a, b = 0, 1\n",
    "\n",
    "while a <= sinir:\n",
    "    print(a, end=\" \")\n",
    "    \n",
    "    a, b = b, a + b"
   ]
  },
  {
   "cell_type": "markdown",
   "metadata": {},
   "source": [
    "***Döviz Dönüştürücü:***\n",
    "* Kullanıcıdan döviz türü ve miktarını alarak, belirli bir döviz kuru üzerinden TL'ye çevirir."
   ]
  },
  {
   "cell_type": "code",
   "execution_count": 1,
   "metadata": {},
   "outputs": [
    {
     "name": "stdout",
     "output_type": "stream",
     "text": [
      "1000.0 USD = 31010.0 TL\n"
     ]
    }
   ],
   "source": [
    "doviz_turu = input(\"Döviz türünü giriniz (USD veya EUR):\").upper()\n",
    "\n",
    "miktar = float(input(f\"{doviz_turu} miktarını giriniz: \"))\n",
    "\n",
    "if doviz_turu == \"USD\":\n",
    "    kur = 31.01\n",
    "elif doviz_turu == \"EUR\":\n",
    "    kur = 33.40\n",
    "    \n",
    "else:\n",
    "    print(\"Geçersiz döviz türü!\")\n",
    "    \n",
    "tl_miktar = miktar * kur\n",
    "\n",
    "print(f\"{miktar} {doviz_turu} = {tl_miktar} TL\")"
   ]
  },
  {
   "cell_type": "markdown",
   "metadata": {},
   "source": [
    "***Enerji Tüketimi Hesaplayıcı:***\n",
    "* Kullanıcıdan cihazın güç tüketimi (watt) ve kullanım süresini alarak enerji tüketimini hesaplar."
   ]
  },
  {
   "cell_type": "code",
   "execution_count": null,
   "metadata": {},
   "outputs": [],
   "source": [
    "guc_tuketim = float(input(\"Cihazın güç tüketimini (watt) giriniz: \"))\n",
    "kullanim_suresi = float(input(\"Cihazın kullanım süresini (saat) giriniz: \"))\n",
    "\n",
    "enerji_tuketim = guc_tuketim * kullanim_suresi\n",
    "\n",
    "print(f\"Cihazın toplam enerji tüketimi: {enerji_tuketim} watt-saat\")"
   ]
  },
  {
   "cell_type": "markdown",
   "metadata": {},
   "source": [
    "***Kredi Hesaplayıcı:***\n",
    "* Kullanıcıdan kredi miktarı, faiz oranı ve vade süresini alarak aylık taksit tutarını hesaplar."
   ]
  },
  {
   "cell_type": "code",
   "execution_count": 5,
   "metadata": {},
   "outputs": [
    {
     "name": "stdout",
     "output_type": "stream",
     "text": [
      "Aylık taksit tutarı: 10053.377991840478\n"
     ]
    }
   ],
   "source": [
    "kredi_miktari = float(input(\"Kredi miktarını giriniz: \"))\n",
    "faiz_orani = float(input(\"Faiz oranını giriniz: \"))\n",
    "vade_suresi = int(input(\"Vade süresini (ay) olarak giriniz: \"))\n",
    "\n",
    "aylik_faiz_orani = faiz_orani / 12 / 100\n",
    "\n",
    "aylik_taksit = (kredi_miktari * aylik_faiz_orani) / (1 - (1 + aylik_faiz_orani)**-vade_suresi)\n",
    "\n",
    "print(f\"Aylık taksit tutarı: {aylik_taksit}\")"
   ]
  },
  {
   "cell_type": "markdown",
   "metadata": {},
   "source": [
    "***Not Hesaplayıcı:***\n",
    "* Kullanıcıdan bir öğrencinin sınav notlarını alarak, ortalamayı hesaplar ve belirli bir sınıfa göre notunu bildirir."
   ]
  },
  {
   "cell_type": "code",
   "execution_count": 6,
   "metadata": {},
   "outputs": [
    {
     "name": "stdout",
     "output_type": "stream",
     "text": [
      "Not Ortalaması: 85.83333333333333\n",
      "Durumunuz: BA\n"
     ]
    }
   ],
   "source": [
    "sinav1 = float(input(\"Birinci sınav notunu girin: \"))\n",
    "sinav2 = float(input(\"İkinci sınav notunu girin: \"))\n",
    "proje_notu = float(input(\"Proje notunu girin: \"))\n",
    "\n",
    "ortalama = (sinav1 + sinav2 + proje_notu) / 3\n",
    "\n",
    "if ortalama >= 90:\n",
    "    durum = \"AA\"\n",
    "elif ortalama >= 80:\n",
    "    durum = \"BA\"\n",
    "elif ortalama >= 70:\n",
    "    durum = \"BB\"\n",
    "elif ortalama >= 60:\n",
    "    durum = \"CB\"\n",
    "elif ortalama >= 50:\n",
    "    durum = \"CC\"\n",
    "else:\n",
    "    durum = \"FF\"\n",
    "    \n",
    "    \n",
    "print(f\"Not Ortalaması: {ortalama}\")\n",
    "print(f\"Durumunuz: {durum}\")"
   ]
  },
  {
   "cell_type": "markdown",
   "metadata": {},
   "source": [
    "***Alışveriş Listesi:***\n",
    "* Kullanıcıdan alışveriş yapmak istediği ürünleri bir listeye ekleyerek, alışveriş listesini oluşturur."
   ]
  },
  {
   "cell_type": "code",
   "execution_count": 8,
   "metadata": {},
   "outputs": [
    {
     "name": "stdout",
     "output_type": "stream",
     "text": [
      "Alışveriş Listeniz: \n",
      "elma\n",
      "- armut\n",
      "- kiraz\n"
     ]
    }
   ],
   "source": [
    "alisveris_listesi = []\n",
    "\n",
    "while True:\n",
    "    urun = input(\"Alışveriş listesine eklemek istediğiniz ürünü giriniz (çıkmak için 'q' tuşuna basınız):\")\n",
    "    \n",
    "    if urun.lower() == \"q\":\n",
    "        break\n",
    "    \n",
    "    alisveris_listesi.append(urun)\n",
    "    \n",
    "print(\"Alışveriş Listeniz: \")\n",
    "\n",
    "for urun in alisveris_listesi:\n",
    "    print(\"- \" + urun)\n",
    "\n",
    "# print(*alisveris_listesi, sep=\"\\n- \")"
   ]
  },
  {
   "cell_type": "markdown",
   "metadata": {},
   "source": [
    "***Haftanın Günleri:***\n",
    "* Tuple kullanarak haftanın günlerini bir liste içinde saklar ve kullanıcıdan bir gün seçmesini ister."
   ]
  },
  {
   "cell_type": "code",
   "execution_count": 10,
   "metadata": {},
   "outputs": [
    {
     "name": "stdout",
     "output_type": "stream",
     "text": [
      "Geçersiz gün\n"
     ]
    }
   ],
   "source": [
    "haftanin_gunleri = (\"Pazartesi\", \"Salı\", \"Çarşamba\", \"Perşembe\", \"Cuma\", \"Cumartesi\", \"Pazar\")\n",
    "\n",
    "secilen_gun = input(\"Haftanın hangi gününü görmek istesiniz?: \")\n",
    "\n",
    "if secilen_gun.capitalize() in haftanin_gunleri:\n",
    "    print(f\"{secilen_gun.capitalize()} günü seçildi.\")\n",
    "    \n",
    "else:\n",
    "    print(\"Geçersiz gün\")"
   ]
  },
  {
   "cell_type": "markdown",
   "metadata": {},
   "source": [
    "***Meyve Sepeti:***\n",
    "* Kullanıcıdan meyve ve miktarını alarak, bir set içinde benzersiz meyveleri saklar."
   ]
  },
  {
   "cell_type": "code",
   "execution_count": 12,
   "metadata": {},
   "outputs": [
    {
     "name": "stdout",
     "output_type": "stream",
     "text": [
      "Meyve Sepeti:\n",
      "- elma: 3 kg\n",
      "- kiraz: 2 kg\n"
     ]
    }
   ],
   "source": [
    "meyve_sepeti = set()\n",
    "\n",
    "while True:\n",
    "    meyve = input(\"Sepete eklemek istediğiniz meyveyi giriniz (Çıkmak için 'q' tuşuna basınız):\")\n",
    "    \n",
    "    if meyve.lower() == \"q\":\n",
    "        break\n",
    "    \n",
    "    miktar = int(input(f\"{meyve} mitarını giriniz: \"))\n",
    "    meyve_sepeti.add((meyve, miktar))\n",
    "    \n",
    "print(\"Meyve Sepeti:\")\n",
    "\n",
    "for meyve, miktar in meyve_sepeti:\n",
    "    print(f\"- {meyve}: {miktar} kg\")"
   ]
  },
  {
   "cell_type": "markdown",
   "metadata": {},
   "source": [
    "***Öğrenci Bilgi Sistemi:***\n",
    "* Dictionary kullanarak öğrencilerin not bilgilerini saklar ve kullanıcıdan bir öğrenci numarası alarak notları gösterir."
   ]
  },
  {
   "cell_type": "code",
   "execution_count": 15,
   "metadata": {},
   "outputs": [
    {
     "name": "stdout",
     "output_type": "stream",
     "text": [
      "789 numaralı öğrencinin notları: [75, 80, 70]\n",
      "Ortalaması: 75.00\n"
     ]
    }
   ],
   "source": [
    "ogrenci_bilgileri = {\n",
    "    132: {\"ad\": \"Ali\", \"soyad\": \"Demir\", \"notlar\": [80, 85, 90]},\n",
    "    456: {\"ad\": \"Ayşe\", \"soyad\": \"Veli\", \"notlar\": [90, 95, 85]},\n",
    "    789: {\"ad\": \"Ahmet\", \"soyad\": \"Kaya\", \"notlar\": [75, 80, 70]},\n",
    "}\n",
    "\n",
    "ogrenci_no = int(input(\"Notlarını görmek istediğiniz öğrenci numarasını giriniz: \"))\n",
    "\n",
    "if ogrenci_no in ogrenci_bilgileri:\n",
    "    notlar = ogrenci_bilgileri[ogrenci_no][\"notlar\"]\n",
    "    ortalama = sum(notlar) / len(notlar)\n",
    "    \n",
    "    print(f\"{ogrenci_no} numaralı öğrencinin notları: {notlar}\")\n",
    "    print(f\"Ortalaması: {ortalama:.2f}\")\n",
    "else:\n",
    "    print(\"Geçersiz öğrenci numarası\")\n",
    "    "
   ]
  }
 ],
 "metadata": {
  "kernelspec": {
   "display_name": "Python 3",
   "language": "python",
   "name": "python3"
  },
  "language_info": {
   "codemirror_mode": {
    "name": "ipython",
    "version": 3
   },
   "file_extension": ".py",
   "mimetype": "text/x-python",
   "name": "python",
   "nbconvert_exporter": "python",
   "pygments_lexer": "ipython3",
   "version": "3.11.4"
  }
 },
 "nbformat": 4,
 "nbformat_minor": 2
}
