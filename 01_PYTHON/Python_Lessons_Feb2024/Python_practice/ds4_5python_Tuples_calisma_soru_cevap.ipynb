{
 "cells": [
  {
   "cell_type": "code",
   "execution_count": 1,
   "metadata": {},
   "outputs": [],
   "source": [
    "veri_seti_1 = (\"elma\", \"armut\", \"muz\", \"çilek\", \"karpuz\", \"üzüm\", \"portakal\", \"kiraz\", \"erik\", \"şeftali\")"
   ]
  },
  {
   "cell_type": "markdown",
   "metadata": {},
   "source": [
    "1.Veri setinde kaç öğe var?"
   ]
  },
  {
   "cell_type": "code",
   "execution_count": null,
   "metadata": {},
   "outputs": [],
   "source": [
    "len(veri_seti_1)"
   ]
  },
  {
   "cell_type": "markdown",
   "metadata": {},
   "source": [
    "2.\"muz\" öğesi veri setinde kaçıncı sırada?"
   ]
  },
  {
   "cell_type": "code",
   "execution_count": 2,
   "metadata": {},
   "outputs": [
    {
     "data": {
      "text/plain": [
       "3"
      ]
     },
     "execution_count": 2,
     "metadata": {},
     "output_type": "execute_result"
    }
   ],
   "source": [
    "veri_seti_1.index(\"muz\") +1"
   ]
  },
  {
   "cell_type": "markdown",
   "metadata": {},
   "source": [
    "3.Veri setinin ilk üç öğesini nasıl alırsınız?"
   ]
  },
  {
   "cell_type": "code",
   "execution_count": 3,
   "metadata": {},
   "outputs": [
    {
     "data": {
      "text/plain": [
       "('elma', 'armut', 'muz')"
      ]
     },
     "execution_count": 3,
     "metadata": {},
     "output_type": "execute_result"
    }
   ],
   "source": [
    "veri_seti_1[0:3]"
   ]
  },
  {
   "cell_type": "markdown",
   "metadata": {},
   "source": [
    "4.\"karpuz\" öğesi veri setinde var mı?"
   ]
  },
  {
   "cell_type": "code",
   "execution_count": 4,
   "metadata": {},
   "outputs": [
    {
     "name": "stdout",
     "output_type": "stream",
     "text": [
      "karpuz, veri setinde vardir\n"
     ]
    }
   ],
   "source": [
    "if \"karpuz\" in veri_seti_1:\n",
    "    print(\"karpuz, veri setinde vardir\")\n",
    "else:\n",
    "    print(\"Karpuz, veri setinde yoktur\")"
   ]
  },
  {
   "cell_type": "markdown",
   "metadata": {},
   "source": [
    "5.Veri setindeki son öğe nedir?"
   ]
  },
  {
   "cell_type": "code",
   "execution_count": 5,
   "metadata": {},
   "outputs": [
    {
     "data": {
      "text/plain": [
       "'şeftali'"
      ]
     },
     "execution_count": 5,
     "metadata": {},
     "output_type": "execute_result"
    }
   ],
   "source": [
    "veri_seti_1[-1]"
   ]
  },
  {
   "cell_type": "code",
   "execution_count": 6,
   "metadata": {},
   "outputs": [],
   "source": [
    "veri_seti_2 = [\n",
    "    (\"Ali\", 25, \"Erkek\"),\n",
    "    (\"Ayşe\", 30, \"Kadın\"),\n",
    "    (\"Mehmet\", 35, \"Erkek\"),\n",
    "    (\"Fatma\", 28, \"Kadın\"),\n",
    "    (\"Ahmet\", 40, \"Erkek\"),\n",
    "    (\"Zeynep\", 33, \"Kadın\"),\n",
    "    (\"Mustafa\", 29, \"Erkek\"),\n",
    "    (\"Elif\", 27, \"Kadın\"),\n",
    "    (\"Can\", 32, \"Erkek\"),\n",
    "    (\"Esra\", 31, \"Kadın\")]"
   ]
  },
  {
   "cell_type": "markdown",
   "metadata": {},
   "source": [
    "6. Veri setinde kaç tane kişi var?"
   ]
  },
  {
   "cell_type": "code",
   "execution_count": 7,
   "metadata": {},
   "outputs": [
    {
     "data": {
      "text/plain": [
       "10"
      ]
     },
     "execution_count": 7,
     "metadata": {},
     "output_type": "execute_result"
    }
   ],
   "source": [
    "len(veri_seti_2)"
   ]
  },
  {
   "cell_type": "markdown",
   "metadata": {},
   "source": [
    "7. Veri setindeki en yaşlı kişi kimdir?"
   ]
  },
  {
   "cell_type": "code",
   "execution_count": 10,
   "metadata": {},
   "outputs": [
    {
     "name": "stdout",
     "output_type": "stream",
     "text": [
      "40 yasinda olan Ahmet, grubun en yasli kisisidir\n"
     ]
    }
   ],
   "source": [
    "#1.yol\n",
    "ages= []\n",
    "\n",
    "for x,y,z in veri_seti_2:\n",
    "    ages.append(y)\n",
    "ages\n",
    "max(ages)\n",
    "\n",
    "for x,y,z in veri_seti_2:\n",
    "    if y == max(ages):\n",
    "        print(f\"{y} yasinda olan {x}, grubun en yasli kisisidir\")"
   ]
  },
  {
   "cell_type": "code",
   "execution_count": 9,
   "metadata": {},
   "outputs": [
    {
     "data": {
      "text/plain": [
       "40"
      ]
     },
     "execution_count": 9,
     "metadata": {},
     "output_type": "execute_result"
    }
   ],
   "source": [
    "#2.yol:\n",
    "max([age[1] for age in veri_seti_2])\n",
    "oldest_person = [kisi[0] for kisi in veri_seti_2 if kisi[1] == max(age)]\n"
   ]
  },
  {
   "cell_type": "code",
   "execution_count": 11,
   "metadata": {},
   "outputs": [
    {
     "name": "stdout",
     "output_type": "stream",
     "text": [
      "Ahmet 40\n"
     ]
    }
   ],
   "source": [
    "#3.yol\n",
    "max_age=0\n",
    "name= \"\"\n",
    "for i in veri_seti_2:\n",
    "    if i[1] > max_age:\n",
    "        max_age = i[1]\n",
    "        name = i[0]\n",
    "print(name, max_age)"
   ]
  },
  {
   "cell_type": "markdown",
   "metadata": {},
   "source": [
    "8. Veri setindeki en genç kişi kimdir?"
   ]
  },
  {
   "cell_type": "code",
   "execution_count": 12,
   "metadata": {},
   "outputs": [
    {
     "name": "stdout",
     "output_type": "stream",
     "text": [
      "Ali 25\n"
     ]
    }
   ],
   "source": [
    "min_age = 200\n",
    "name = \"\"\n",
    "\n",
    "for i in veri_seti_2:\n",
    "    if i[1] < min_age:\n",
    "        min_age = i[1]\n",
    "        name = i[0]\n",
    "print(name, min_age)"
   ]
  },
  {
   "cell_type": "code",
   "execution_count": null,
   "metadata": {},
   "outputs": [],
   "source": [
    "ages= []\n",
    "\n",
    "for x,y,z in veri_seti_2:\n",
    "    ages.append(y)\n",
    "ages\n",
    "min(ages)\n",
    "\n",
    "for x,y,z in veri_seti_2:\n",
    "    if y == min(ages):\n",
    "        print(f\"{y} yasinda olan {x}, grubun en yasli kisisidir\")"
   ]
  },
  {
   "cell_type": "markdown",
   "metadata": {},
   "source": [
    "9. Ortalama yaş kaçtır?"
   ]
  },
  {
   "cell_type": "code",
   "execution_count": 13,
   "metadata": {},
   "outputs": [
    {
     "data": {
      "text/plain": [
       "[25, 30, 35, 28, 40, 33, 29, 27, 32, 31]"
      ]
     },
     "execution_count": 13,
     "metadata": {},
     "output_type": "execute_result"
    }
   ],
   "source": [
    "ages = [i[1] for i in veri_seti_2]\n",
    "ages"
   ]
  },
  {
   "cell_type": "code",
   "execution_count": 17,
   "metadata": {},
   "outputs": [
    {
     "name": "stdout",
     "output_type": "stream",
     "text": [
      "grubun ort yasi 31'dir\n"
     ]
    }
   ],
   "source": [
    "ort_age =  sum(ages) // len(ages)\n",
    "print(f\"grubun ort yasi {ort_age}'dir\")"
   ]
  },
  {
   "cell_type": "markdown",
   "metadata": {},
   "source": [
    "10. Erkeklerin yaş ortalaması nedir?"
   ]
  },
  {
   "cell_type": "code",
   "execution_count": 20,
   "metadata": {},
   "outputs": [
    {
     "name": "stdout",
     "output_type": "stream",
     "text": [
      "grubun ort yasi 32'dir\n"
     ]
    }
   ],
   "source": [
    "man_ages = [i[1] for i in veri_seti_2 if i[2]== \"Erkek\"]\n",
    "\n",
    "woman_ort_age = sum(man_ages) // len(man_ages)\n",
    "\n",
    "print(f\"erkek grubun ort yasi {woman_ort_age}'dir\")"
   ]
  },
  {
   "cell_type": "markdown",
   "metadata": {},
   "source": [
    "11. Kadınların yaş ortalaması nedir?"
   ]
  },
  {
   "cell_type": "code",
   "execution_count": 21,
   "metadata": {},
   "outputs": [
    {
     "name": "stdout",
     "output_type": "stream",
     "text": [
      "grubun ort yasi 29'dir\n"
     ]
    }
   ],
   "source": [
    "woman_ages = [i[1] for i in veri_seti_2 if i[2]== \"Kadın\"]\n",
    "\n",
    "woman_ort_age = sum(woman_ages) // len(woman_ages)\n",
    "\n",
    "print(f\"kadin grubun ort yasi {woman_ort_age}'dir\")"
   ]
  },
  {
   "cell_type": "markdown",
   "metadata": {},
   "source": [
    "12. En yaşlı erkek kaç yaşındadır?"
   ]
  },
  {
   "cell_type": "code",
   "execution_count": 28,
   "metadata": {},
   "outputs": [],
   "source": [
    "man_max_age = max([i[1] for i in veri_seti_2 if i[2] == \"Erkek\"])"
   ]
  },
  {
   "cell_type": "code",
   "execution_count": 29,
   "metadata": {},
   "outputs": [
    {
     "data": {
      "text/plain": [
       "[('Ahmet', 40, 'Erkek')]"
      ]
     },
     "execution_count": 29,
     "metadata": {},
     "output_type": "execute_result"
    }
   ],
   "source": [
    "[i for i in veri_seti_2 if i[1] == man_max_age if i[2] == \"Erkek\"]"
   ]
  },
  {
   "cell_type": "markdown",
   "metadata": {},
   "source": [
    "13. En genç kadın kaç yaşındadır?"
   ]
  },
  {
   "cell_type": "code",
   "execution_count": 30,
   "metadata": {},
   "outputs": [
    {
     "name": "stdout",
     "output_type": "stream",
     "text": [
      "En genc kadin 27 yasindadir\n"
     ]
    }
   ],
   "source": [
    "en_genc_kadin = min([i[1] for i in veri_seti_2 if i[2] == \"Kadın\"])\n",
    "print(f\"En genc kadin {en_genc_kadin} yasindadir\")"
   ]
  },
  {
   "cell_type": "markdown",
   "metadata": {},
   "source": [
    "14. Yaşı 30'dan büyük olan kişilerin isimleri nelerdir?"
   ]
  },
  {
   "cell_type": "code",
   "execution_count": 32,
   "metadata": {},
   "outputs": [
    {
     "data": {
      "text/plain": [
       "['Mehmet', 'Ahmet', 'Zeynep', 'Can', 'Esra']"
      ]
     },
     "execution_count": 32,
     "metadata": {},
     "output_type": "execute_result"
    }
   ],
   "source": [
    "over_30 = [i[0] for i in veri_seti_2 if i[1] > 30]\n",
    "over_30"
   ]
  },
  {
   "cell_type": "markdown",
   "metadata": {},
   "source": [
    "15. Yaşı 25 ile 35 arasında olan kadınların sayısı kaçtır?"
   ]
  },
  {
   "cell_type": "code",
   "execution_count": 36,
   "metadata": {},
   "outputs": [
    {
     "data": {
      "text/plain": [
       "5"
      ]
     },
     "execution_count": 36,
     "metadata": {},
     "output_type": "execute_result"
    }
   ],
   "source": [
    "len([i for i in veri_seti_2 if i[1]>25 and i[1]<35 and i[2] == \"Kadın\"])"
   ]
  },
  {
   "cell_type": "markdown",
   "metadata": {},
   "source": [
    "16. 'Ali' adında bir kişi var mı? Varsa hangi cinsiyettedir?"
   ]
  },
  {
   "cell_type": "code",
   "execution_count": 58,
   "metadata": {},
   "outputs": [
    {
     "data": {
      "text/plain": [
       "['Erkek', None, None, None, None, None, None, None, None, None]"
      ]
     },
     "execution_count": 58,
     "metadata": {},
     "output_type": "execute_result"
    }
   ],
   "source": [
    "[i[2] if i[0] == \"Ali\" else None for i in veri_seti_2 ]\n",
    "\n"
   ]
  },
  {
   "cell_type": "code",
   "execution_count": 54,
   "metadata": {},
   "outputs": [
    {
     "data": {
      "text/plain": [
       "['', '', '', 'Fatma', '', '', 'Mustafa', 'Elif', '', '']"
      ]
     },
     "execution_count": 54,
     "metadata": {},
     "output_type": "execute_result"
    }
   ],
   "source": [
    "#map-lambda deneme ?????\n",
    "list(map(lambda x: x[0] if 30 > x[1] > 25 else \"\", veri_seti_2))"
   ]
  },
  {
   "cell_type": "code",
   "execution_count": 59,
   "metadata": {},
   "outputs": [
    {
     "name": "stdout",
     "output_type": "stream",
     "text": [
      "Soru 11 Cevap: Evet, Ali adında bir kişi var ve cinsiyeti Erkek\n"
     ]
    }
   ],
   "source": [
    "ali_var_mi = any(kisi for kisi in veri_seti_2 if kisi[0] == \"Ali\")\n",
    "if ali_var_mi:\n",
    "    cinsiyet = [kisi[2] for kisi in veri_seti_2 if kisi[0] == \"Ali\"][0]\n",
    "    print(\"Soru 11 Cevap: Evet, Ali adında bir kişi var ve cinsiyeti\", cinsiyet)\n",
    "else:\n",
    "    print(\"Soru 11 Cevap: Hayır, Ali adında bir kişi yok.\")"
   ]
  },
  {
   "cell_type": "markdown",
   "metadata": {},
   "source": [
    "CEVAPLAR"
   ]
  },
  {
   "cell_type": "code",
   "execution_count": 15,
   "metadata": {},
   "outputs": [
    {
     "name": "stdout",
     "output_type": "stream",
     "text": [
      "1. Soru - Veri setindeki öğe sayısı: 10\n"
     ]
    }
   ],
   "source": [
    "# 1. Veri setinde kaç öğe var?\n",
    "print(\"1. Soru - Veri setindeki öğe sayısı:\", len(veri_seti_1))"
   ]
  },
  {
   "cell_type": "code",
   "execution_count": 16,
   "metadata": {},
   "outputs": [
    {
     "name": "stdout",
     "output_type": "stream",
     "text": [
      "2. Soru - 'muz' öğesi veri setinde 3 . sırada bulunuyor.\n"
     ]
    }
   ],
   "source": [
    "# 2. \"muz\" öğesi veri setinde kaçıncı sırada?\n",
    "print(\"2. Soru - 'muz' öğesi veri setinde\", veri_seti_1.index(\"muz\") + 1, \". sırada bulunuyor.\")"
   ]
  },
  {
   "cell_type": "code",
   "execution_count": 17,
   "metadata": {},
   "outputs": [
    {
     "name": "stdout",
     "output_type": "stream",
     "text": [
      "3. Soru - Veri setinin ilk üç öğesi: ('elma', 'armut', 'muz')\n"
     ]
    }
   ],
   "source": [
    "# 3. Veri setinin ilk üç öğesini nasıl alırsınız?\n",
    "print(\"3. Soru - Veri setinin ilk üç öğesi:\", veri_seti_1[:3])"
   ]
  },
  {
   "cell_type": "code",
   "execution_count": 12,
   "metadata": {},
   "outputs": [
    {
     "name": "stdout",
     "output_type": "stream",
     "text": [
      "4. Soru - 'karpuz' öğesi veri setinde bulunuyor.\n"
     ]
    }
   ],
   "source": [
    "# 4. \"karpuz\" öğesi veri setinde var mı?\n",
    "if \"karpuz\" in veri_seti_1:\n",
    "    print(\"4. Soru - 'karpuz' öğesi veri setinde bulunuyor.\")\n",
    "else:\n",
    "    print(\"4. Soru - 'karpuz' öğesi veri setinde bulunmuyor.\")"
   ]
  },
  {
   "cell_type": "code",
   "execution_count": 4,
   "metadata": {},
   "outputs": [
    {
     "name": "stdout",
     "output_type": "stream",
     "text": [
      "5. Soru - Veri setindeki son öğe: şeftali\n"
     ]
    }
   ],
   "source": [
    "# 5. Veri setindeki son öğe nedir?\n",
    "print(\"5. Soru - Veri setindeki son öğe:\", veri_seti_1[-1])"
   ]
  },
  {
   "cell_type": "code",
   "execution_count": 19,
   "metadata": {},
   "outputs": [
    {
     "name": "stdout",
     "output_type": "stream",
     "text": [
      "Soru 1 Cevap: 10\n"
     ]
    }
   ],
   "source": [
    "# 6. Veri setinde kaç tane kişi var?\n",
    "print(\"Soru 6 Cevap:\", len(veri_seti_2))"
   ]
  },
  {
   "cell_type": "code",
   "execution_count": 21,
   "metadata": {},
   "outputs": [
    {
     "name": "stdout",
     "output_type": "stream",
     "text": [
      "Soru 2 Cevap: ('Ahmet', 40, 'Erkek')\n"
     ]
    }
   ],
   "source": [
    "# 7. Veri setindeki en yaşlı kişi kimdir?\n",
    "print(\"Soru 7 Cevap:\", max(veri_seti_2, key=lambda x: x[1]))"
   ]
  },
  {
   "cell_type": "code",
   "execution_count": 24,
   "metadata": {},
   "outputs": [
    {
     "name": "stdout",
     "output_type": "stream",
     "text": [
      "Soru 8 Cevap: ('Ali', 25, 'Erkek')\n"
     ]
    }
   ],
   "source": [
    "# 8. Veri setindeki en genç kişi kimdir?\n",
    "print(\"Soru 8 Cevap:\", min(veri_seti_2, key=lambda x: x[1]))"
   ]
  },
  {
   "cell_type": "code",
   "execution_count": 25,
   "metadata": {},
   "outputs": [
    {
     "name": "stdout",
     "output_type": "stream",
     "text": [
      "Soru 9 Cevap: 31.0\n"
     ]
    }
   ],
   "source": [
    "# 9.  Ortalama yaş kaçtır?\n",
    "ortalama_yas = sum(kisi[1] for kisi in veri_seti_2) / len(veri_seti_2)\n",
    "print(\"Soru 9 Cevap:\", ortalama_yas)"
   ]
  },
  {
   "cell_type": "code",
   "execution_count": 26,
   "metadata": {},
   "outputs": [
    {
     "name": "stdout",
     "output_type": "stream",
     "text": [
      "Soru 5 Cevap: 32.2\n"
     ]
    }
   ],
   "source": [
    "# 10. Erkeklerin yaş ortalaması nedir?\n",
    "erkek_yas_ort = sum(kisi[1] for kisi in veri_seti_2 if kisi[2] == \"Erkek\") / len([kisi for kisi in veri_seti_2 if kisi[2] == \"Erkek\"])\n",
    "print(\"Soru 10 Cevap:\", erkek_yas_ort)"
   ]
  },
  {
   "cell_type": "code",
   "execution_count": 27,
   "metadata": {},
   "outputs": [
    {
     "name": "stdout",
     "output_type": "stream",
     "text": [
      "Soru 6 Cevap: 29.8\n"
     ]
    }
   ],
   "source": [
    "# 11. Kadınların yaş ortalaması nedir?\n",
    "kadin_yas_ort = sum(kisi[1] for kisi in veri_seti_2 if kisi[2] == \"Kadın\") / len([kisi for kisi in veri_seti_2 if kisi[2] == \"Kadın\"])\n",
    "print(\"Soru 11 Cevap:\", kadin_yas_ort)"
   ]
  },
  {
   "cell_type": "code",
   "execution_count": 28,
   "metadata": {},
   "outputs": [
    {
     "name": "stdout",
     "output_type": "stream",
     "text": [
      "Soru 7 Cevap: 40\n"
     ]
    }
   ],
   "source": [
    "# 12.  En yaşlı erkek kaç yaşındadır?\n",
    "en_yasli_erkek = max(kisi[1] for kisi in veri_seti_2 if kisi[2] == \"Erkek\")\n",
    "print(\"Soru 7 Cevap:\", en_yasli_erkek)"
   ]
  },
  {
   "cell_type": "code",
   "execution_count": 30,
   "metadata": {},
   "outputs": [
    {
     "name": "stdout",
     "output_type": "stream",
     "text": [
      "Soru 8 Cevap: 27\n"
     ]
    }
   ],
   "source": [
    "# 13. En genç kadın kaç yaşındadır?\n",
    "en_genc_kadin = min(kisi[1] for kisi in veri_seti_2 if kisi[2] == \"Kadın\")\n",
    "print(\"Soru 8 Cevap:\", en_genc_kadin)"
   ]
  },
  {
   "cell_type": "code",
   "execution_count": 31,
   "metadata": {},
   "outputs": [
    {
     "name": "stdout",
     "output_type": "stream",
     "text": [
      "Soru 9 Cevap: ['Mehmet', 'Ahmet', 'Zeynep', 'Can', 'Esra']\n"
     ]
    }
   ],
   "source": [
    "# 14. Yaşı 30'dan büyük olan kişilerin isimleri nelerdir?\n",
    "yas_30_ustu_isimler = [kisi[0] for kisi in veri_seti_2 if kisi[1] > 30]\n",
    "print(\"Soru 9 Cevap:\", yas_30_ustu_isimler)"
   ]
  },
  {
   "cell_type": "code",
   "execution_count": 32,
   "metadata": {},
   "outputs": [
    {
     "name": "stdout",
     "output_type": "stream",
     "text": [
      "Soru 10 Cevap: 5\n"
     ]
    }
   ],
   "source": [
    "# 15. Yaşı 25 ile 35 arasında olan kadınların sayısı kaçtır?\n",
    "yas_araligi_kadin_sayisi = len([kisi for kisi in veri_seti_2 if 25 <= kisi[1] <= 35 and kisi[2] == \"Kadın\"])\n",
    "print(\"Soru 10 Cevap:\", yas_araligi_kadin_sayisi)"
   ]
  },
  {
   "cell_type": "code",
   "execution_count": 34,
   "metadata": {},
   "outputs": [
    {
     "name": "stdout",
     "output_type": "stream",
     "text": [
      "Soru 11 Cevap: Evet, Ali adında bir kişi var ve cinsiyeti Erkek\n"
     ]
    }
   ],
   "source": [
    "# 16 .'Ali' adında bir kişi var mı? Varsa hangi cinsiyettedir?\n",
    "ali_var_mi = any(kisi for kisi in veri_seti_2 if kisi[0] == \"Ali\")\n",
    "if ali_var_mi:\n",
    "    cinsiyet = [kisi[2] for kisi in veri_seti_2 if kisi[0] == \"Ali\"][0]\n",
    "    print(\"Soru 11 Cevap: Evet, Ali adında bir kişi var ve cinsiyeti\", cinsiyet)\n",
    "else:\n",
    "    print(\"Soru 11 Cevap: Hayır, Ali adında bir kişi yok.\")"
   ]
  }
 ],
 "metadata": {
  "kernelspec": {
   "display_name": "base",
   "language": "python",
   "name": "python3"
  },
  "language_info": {
   "codemirror_mode": {
    "name": "ipython",
    "version": 3
   },
   "file_extension": ".py",
   "mimetype": "text/x-python",
   "name": "python",
   "nbconvert_exporter": "python",
   "pygments_lexer": "ipython3",
   "version": "3.11.4"
  }
 },
 "nbformat": 4,
 "nbformat_minor": 2
}
