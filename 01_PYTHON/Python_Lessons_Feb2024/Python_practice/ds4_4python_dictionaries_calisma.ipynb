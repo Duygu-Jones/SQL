{
 "cells": [
  {
   "cell_type": "markdown",
   "id": "b9d5b106",
   "metadata": {},
   "source": [
    "# Python Dictionaries Metodları Üzerinde Çalışma"
   ]
  },
  {
   "cell_type": "code",
   "execution_count": null,
   "id": "795b59b0",
   "metadata": {},
   "outputs": [],
   "source": [
    "data = {'meyveler': {'elma': 10, 'muz': 5, 'portakal': 7, 'çilek': 20}, 'sebzeler': {'domates': 8, 'biber': 12, 'patlıcan': 5, 'ıspanak': 15}, 'içecekler': {'su': 30, 'meyve suyu': 15, 'çay': 20, 'kola': 10}, 'atıştırmalıklar': {'cips': 25, 'çikolata': 30, 'kek': 15, 'bisküvi': 20}}"
   ]
  },
  {
   "cell_type": "markdown",
   "id": "4eb8235a",
   "metadata": {},
   "source": [
    "## Soru 1\n",
    "Tüm datayı temizleyin."
   ]
  },
  {
   "cell_type": "code",
   "execution_count": null,
   "id": "a54a994e",
   "metadata": {},
   "outputs": [],
   "source": [
    "# Buraya çözümünüzü yazın"
   ]
  },
  {
   "cell_type": "markdown",
   "id": "892c869a",
   "metadata": {},
   "source": [
    "## Soru 2\n",
    "Data kopyasını oluşturun."
   ]
  },
  {
   "cell_type": "code",
   "execution_count": null,
   "id": "fa2347a8",
   "metadata": {},
   "outputs": [],
   "source": [
    "# Buraya çözümünüzü yazın"
   ]
  },
  {
   "cell_type": "markdown",
   "id": "30b9c507",
   "metadata": {},
   "source": [
    "## Soru 3\n",
    "Yalnızca 'meyveler' ve 'sebzeler' kategorilerini içeren yeni bir sözlük oluşturun."
   ]
  },
  {
   "cell_type": "code",
   "execution_count": null,
   "id": "9c2cfff2",
   "metadata": {},
   "outputs": [],
   "source": [
    "# Buraya çözümünüzü yazın"
   ]
  },
  {
   "cell_type": "markdown",
   "id": "60fa88f8",
   "metadata": {},
   "source": [
    "## Soru 4\n",
    "'içecekler' kategorisindeki 'çay'ın stok sayısını getirin."
   ]
  },
  {
   "cell_type": "code",
   "execution_count": null,
   "id": "2e5d83a1",
   "metadata": {},
   "outputs": [],
   "source": [
    "# Buraya çözümünüzü yazın"
   ]
  },
  {
   "cell_type": "markdown",
   "id": "5beb9508",
   "metadata": {},
   "source": [
    "## Soru 5\n",
    "Tüm kategorilerin anahtarlarını ve stok sayılarını listeleyin."
   ]
  },
  {
   "cell_type": "code",
   "execution_count": null,
   "id": "dccddbb5",
   "metadata": {},
   "outputs": [],
   "source": [
    "# Buraya çözümünüzü yazın"
   ]
  },
  {
   "cell_type": "markdown",
   "id": "92173fe6",
   "metadata": {},
   "source": [
    "## Soru 6\n",
    "'atıştırmalıklar' kategorisindeki 'kek' stok sayısını güncelleyin (10 azaltın)."
   ]
  },
  {
   "cell_type": "code",
   "execution_count": null,
   "id": "99d83e1a",
   "metadata": {},
   "outputs": [],
   "source": [
    "# Buraya çözümünüzü yazın"
   ]
  },
  {
   "cell_type": "markdown",
   "id": "f84472de",
   "metadata": {},
   "source": [
    "## Soru 7\n",
    "'sebzeler' kategorisinden 'patlıcan'ı kaldırın."
   ]
  },
  {
   "cell_type": "code",
   "execution_count": null,
   "id": "8b6631d6",
   "metadata": {},
   "outputs": [],
   "source": [
    "# Buraya çözümünüzü yazın"
   ]
  },
  {
   "cell_type": "markdown",
   "id": "9edb95a2",
   "metadata": {},
   "source": [
    "## Soru 8\n",
    "'meyveler' kategorisine yeni bir meyve ekleyin ('kiwi', stok sayısı 25)."
   ]
  },
  {
   "cell_type": "code",
   "execution_count": null,
   "id": "dd7f9a33",
   "metadata": {},
   "outputs": [],
   "source": [
    "# Buraya çözümünüzü yazın"
   ]
  },
  {
   "cell_type": "markdown",
   "id": "ac5769c4",
   "metadata": {},
   "source": [
    "## Soru 9\n",
    "'içecekler' kategorisinde 'kola'nın stok sayısını varsayılan olarak 5 belirleyin ve getirin."
   ]
  },
  {
   "cell_type": "code",
   "execution_count": null,
   "id": "1d323c9d",
   "metadata": {},
   "outputs": [],
   "source": [
    "# Buraya çözümünüzü yazın"
   ]
  },
  {
   "cell_type": "markdown",
   "id": "c73dae38",
   "metadata": {},
   "source": [
    "## Soru 10\n",
    "Tüm 'meyveler' kategorisini yeni stok sayılarıyla güncelleyin."
   ]
  },
  {
   "cell_type": "code",
   "execution_count": null,
   "id": "c9846749",
   "metadata": {},
   "outputs": [],
   "source": [
    "# Buraya çözümünüzü yazın"
   ]
  },
  {
   "cell_type": "markdown",
   "id": "851899c7",
   "metadata": {},
   "source": [
    "## Soru 11\n",
    "'sebzeler' kategorisinin sadece değerlerini listeleyin."
   ]
  },
  {
   "cell_type": "code",
   "execution_count": null,
   "id": "c9b2c6d3",
   "metadata": {},
   "outputs": [],
   "source": [
    "# Buraya çözümünüzü yazın"
   ]
  }
 ],
 "metadata": {},
 "nbformat": 4,
 "nbformat_minor": 5
}
