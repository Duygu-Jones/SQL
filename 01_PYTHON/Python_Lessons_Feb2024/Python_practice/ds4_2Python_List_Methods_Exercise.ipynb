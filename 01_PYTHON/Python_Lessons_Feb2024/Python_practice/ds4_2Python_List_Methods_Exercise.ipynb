{
 "cells": [
  {
   "cell_type": "markdown",
   "id": "d1cd7d5a",
   "metadata": {},
   "source": [
    "\n",
    "# Python List Metodları Üzerinde Uygulamalar\n",
    "\n",
    "Bu notebook, Python'daki en çok kullanılan list metodlarını anlamak ve bu metodları Türkçe dilindeki bir veri seti üzerinde nasıl uygulayabileceğimizi göstermek için hazırlanmıştır. \n"
   ]
  },
  {
   "cell_type": "code",
   "execution_count": null,
   "id": "576c1cbe",
   "metadata": {},
   "outputs": [],
   "source": [
    "\n",
    "sehirler_ve_yemekler = [\n",
    "    {\"şehir\": \"İstanbul\", \"yemekler\": [\"İskender\", \"Mıhlama\", \"Lahmacun\"]},\n",
    "    {\"şehir\": \"Ankara\", \"yemekler\": [\"Beypazarı Kurusu\", \"Ankara Tava\", \"Gözleme\"]},\n",
    "    {\"şehir\": \"İzmir\", \"yemekler\": [\"Boyoz\", \"Kumru\", \"İzmir Köfte\"]},\n",
    "    {\"şehir\": \"Antalya\", \"yemekler\": [\"Piyaz\", \"Tandır\", \"Döner\"]},\n",
    "    {\"şehir\": \"Trabzon\", \"yemekler\": [\"Kuymak\", \"Akçaabat Köftesi\", \"Hamsi Tava\"]}\n",
    "]\n"
   ]
  },
  {
   "cell_type": "markdown",
   "id": "bb535f3a",
   "metadata": {},
   "source": [
    "1. 'Bursa' şehrini ve bu şehre özgü yemekler listesini ('İskender', 'Cantık', 'Kestane Şekeri') içerecek şekilde listeye ekleyin."
   ]
  },
  {
   "cell_type": "markdown",
   "id": "a9a693ee",
   "metadata": {},
   "source": [
    "2. 'İstanbul' şehrinin yemek listesine 'Balık Ekmek' yemeğini ekleyin."
   ]
  },
  {
   "cell_type": "markdown",
   "id": "a0b0f51c",
   "metadata": {},
   "source": [
    "3. 'Ankara' şehrini listeden çıkarın."
   ]
  },
  {
   "cell_type": "markdown",
   "id": "d709650a",
   "metadata": {},
   "source": [
    "4. Tüm şehirlerdeki yemeklerin toplam sayısını bulun."
   ]
  },
  {
   "cell_type": "markdown",
   "id": "e0dda76d",
   "metadata": {},
   "source": [
    "5. 'İzmir' şehrinin yemek listesinin bir kopyasını alın ve bu listeye 'Çeşme Kumrusu' yemeğini ekleyin."
   ]
  },
  {
   "cell_type": "markdown",
   "id": "f576075f",
   "metadata": {},
   "source": [
    "6. Şehirler listesinde 'Antalya' şehrinin indeksini bulun."
   ]
  },
  {
   "cell_type": "markdown",
   "id": "f8f86c5a",
   "metadata": {},
   "source": [
    "7. 'Trabzon' şehrini ve yemeklerini listeye tekrar ekleyin (eğer zaten varsa, bu adımı atlayın)."
   ]
  },
  {
   "cell_type": "markdown",
   "id": "7b8c2254",
   "metadata": {},
   "source": [
    "8. Şehirler listesini alfabetik sıraya göre sıralayın."
   ]
  },
  {
   "cell_type": "markdown",
   "id": "e51f4eea",
   "metadata": {},
   "source": [
    "9. Şehirler listesini yemek sayısına göre sıralayın (en az yemek içeren şehirden başlayarak)."
   ]
  },
  {
   "cell_type": "markdown",
   "id": "1b58c611",
   "metadata": {},
   "source": [
    "10. Tüm şehirler listesini ve onların yemeklerini ters çevirin."
   ]
  }
 ],
 "metadata": {},
 "nbformat": 4,
 "nbformat_minor": 5
}
