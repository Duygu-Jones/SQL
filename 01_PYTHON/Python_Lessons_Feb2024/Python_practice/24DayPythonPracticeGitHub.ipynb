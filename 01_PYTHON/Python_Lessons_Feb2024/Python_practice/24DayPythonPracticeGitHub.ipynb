{
 "cells": [
  {
   "cell_type": "code",
   "execution_count": null,
   "metadata": {},
   "outputs": [],
   "source": [
    "#DAY 1 - QA 1\n",
    "# Write a program which will find all such numbers which are divisible by 7 \n",
    "# but are not a multiple of 5, between 2000 and 3200 (both included).\n",
    "# The numbers obtained should be printed in a comma-separated sequence on a single line.\n",
    "#Consider use range(#begin, #end) method.\n",
    "\n",
    "result = []\n",
    "\n",
    "for num in range(2000, 3201):\n",
    "    if num % 7 == 0 and num % 5 != 0:\n",
    "        result.append(str(num))\n",
    "\n",
    "print(','.join(result))\n"
   ]
  },
  {
   "cell_type": "code",
   "execution_count": null,
   "metadata": {},
   "outputs": [],
   "source": [
    "\n",
    "#DAY 1 - QA 2\n",
    "#Write a program which can compute the factorial of a given numbers. The results\n",
    "#should be printed in a comma-separated sequence on a single line. Suppose the\n",
    "#following input is supplied to the program: 8 Then, the output should be:40320\n",
    "\n",
    "# Kullanıcıdan bir sayı al\n",
    "num = int(input(\"Bir sayı girin: \"))\n",
    "\n",
    "# Faktöriyel hesaplama\n",
    "faktoriyel = 1\n",
    "for i in range(1, num + 1):\n",
    "    faktoriyel *= i\n",
    "\n",
    "# Sonucu virgülle ayrılmış bir dizi olarak yazdır\n",
    "result = []\n",
    "for i in range(1, faktoriyel + 1):\n",
    "    result.append(str(i))\n",
    "print(','.join(result))"
   ]
  },
  {
   "cell_type": "code",
   "execution_count": null,
   "metadata": {},
   "outputs": [],
   "source": [
    "# With a given integral number n, write a program to generate a dictionary that\n",
    "# contains (i, i x i) such that is an integral number between 1 and n (both included).\n",
    "# and then the program should print the dictionary. Suppose the following input is\n",
    "# supplied to the program: 8\n",
    "# Then, the output should be:\n",
    "# {1: 1, 2: 4, 3: 9, 4: 16, 5: 25, 6: 36, 7: 49, 8: 64}\n",
    "\n",
    "# Kullanıcıdan bir tam sayı al\n",
    "n = int(input(\"Bir tam sayı girin: \"))\n",
    "\n",
    "# Sözlüğü oluştur\n",
    "square_dict = {}\n",
    "\n",
    "# 1'den n'a kadar olan tamsayıların karesini hesapla ve sözlüğe ekle\n",
    "for i in range(1, n + 1):\n",
    "    square_dict[i] = i * i\n",
    "\n",
    "# Sözlüğü yazdır\n",
    "print(square_dict)"
   ]
  },
  {
   "cell_type": "code",
   "execution_count": null,
   "metadata": {},
   "outputs": [],
   "source": [
    "#DAY 1 - QA 3\n",
    "# Write a program that accepts a comma separated sequence of words as input\n",
    "# and prints the words in a comma-separated sequence after sorting them\n",
    "# alphabetically.\n",
    "# Suppose the following input is supplied to the program:\n",
    "# without, hello, bag, world\n",
    "# Then, the output should be:\n",
    "# bag, hello, without, world\n"
   ]
  },
  {
   "cell_type": "code",
   "execution_count": null,
   "metadata": {},
   "outputs": [],
   "source": []
  }
 ],
 "metadata": {
  "language_info": {
   "name": "python"
  }
 },
 "nbformat": 4,
 "nbformat_minor": 2
}
