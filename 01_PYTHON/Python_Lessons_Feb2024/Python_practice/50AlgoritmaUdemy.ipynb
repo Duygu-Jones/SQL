{
 "cells": [
  {
   "cell_type": "code",
   "execution_count": 4,
   "metadata": {},
   "outputs": [
    {
     "name": "stdout",
     "output_type": "stream",
     "text": [
      "[1, 2, 'Big', 4, 5, 'Big', 'bang', 8, 'Big', 10, 11, 'Big', 13, 'bang', 'Big', 16, 17, 'Big', 19, 20, 'BigBang', 22, 23, 'Big', 25, 26, 'Big', 'bang', 29, 'Big', 31, 32, 'Big', 34, 'bang', 'Big', 37, 38, 'Big', 40, 41, 'BigBang', 43, 44, 'Big', 46, 47, 'Big', 'bang', 50]\n"
     ]
    }
   ],
   "source": [
    "big_bang_list =[]\n",
    "for i in range(1,51):\n",
    "    if i % 3!=0 and i % 7 !=0:\n",
    "        big_bang_list.append(i)\n",
    "        \n",
    "    elif i % 3==0 and i % 7 ==0:\n",
    "        i= \"BigBang\"\n",
    "        big_bang_list.append(i)\n",
    "    elif i % 3==0:\n",
    "        i=\"Big\"\n",
    "        big_bang_list.append(i)\n",
    "    elif i % 7 ==0:\n",
    "        i=\"bang\"\n",
    "        big_bang_list.append(i)\n",
    "        \n",
    "        \n",
    "print(big_bang_list)       "
   ]
  },
  {
   "cell_type": "code",
   "execution_count": 6,
   "metadata": {},
   "outputs": [],
   "source": [
    "x = input(\"Bir kelime giriniz\")\n",
    "def unluUyusmasi(x):\n",
    "    for i in x:\n",
    "        if   \"aiou\":\n",
    "            print(\"Buyuk unlu uyumu vardir\") \n",
    "            \n",
    "    "
   ]
  },
  {
   "cell_type": "code",
   "execution_count": 8,
   "metadata": {},
   "outputs": [
    {
     "name": "stdout",
     "output_type": "stream",
     "text": [
      "41\n"
     ]
    }
   ],
   "source": [
    "x=int(input(\"Bir sayi giriniz\"))\n",
    "\n",
    "if x<3:\n",
    "    print(x ** 2)\n",
    "    \n",
    "elif x>3 and x%2==1:\n",
    "    print(x-2)\n",
    "elif x>3 and x%2 ==0:\n",
    "    print(x+1)\n",
    "else:\n",
    "    print(\"invalid input\")"
   ]
  },
  {
   "cell_type": "code",
   "execution_count": 32,
   "metadata": {},
   "outputs": [],
   "source": [
    "def amicableNumber(x,y):\n",
    "    xbolenler=[]\n",
    "    xbolenler_sum=0\n",
    "    \n",
    "    ybolenler=[]\n",
    "    ybolenler_sum=0\n",
    "    \n",
    "    \n",
    "    for i in range(1,x):\n",
    "        if x%i==0:\n",
    "           xbolenler.append(i)\n",
    "           xbolenler_sum +=i\n",
    "     \n",
    "    for i in range(1,y):\n",
    "        if y%i==0:\n",
    "           ybolenler.append(i)\n",
    "           ybolenler_sum +=i\n",
    "    \n",
    "    if xbolenler_sum == y and ybolenler_sum == x:\n",
    "        print(f\"{x} ve {y} dostane sayilardir\")\n",
    "        print(f\"{x} : {xbolenler}, {y}: {ybolenler}\")  \n",
    "    # else:\n",
    "    #     print(\"Dostane sayilar degildir\")\n"
   ]
  },
  {
   "cell_type": "code",
   "execution_count": 33,
   "metadata": {},
   "outputs": [],
   "source": [
    "amicableNumber(54,66)"
   ]
  },
  {
   "cell_type": "code",
   "execution_count": null,
   "metadata": {},
   "outputs": [],
   "source": []
  }
 ],
 "metadata": {
  "kernelspec": {
   "display_name": "Python 3",
   "language": "python",
   "name": "python3"
  },
  "language_info": {
   "codemirror_mode": {
    "name": "ipython",
    "version": 3
   },
   "file_extension": ".py",
   "mimetype": "text/x-python",
   "name": "python",
   "nbconvert_exporter": "python",
   "pygments_lexer": "ipython3",
   "version": "3.11.4"
  }
 },
 "nbformat": 4,
 "nbformat_minor": 2
}
