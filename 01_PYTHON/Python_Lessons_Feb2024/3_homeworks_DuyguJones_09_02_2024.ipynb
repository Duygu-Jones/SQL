{
 "cells": [
  {
   "cell_type": "markdown",
   "metadata": {},
   "source": [
    "1 - Kullanıcıdan input ile iki veri alın. Bu veriler tamsayı ise çarpımını yazdırın. "
   ]
  },
  {
   "cell_type": "code",
   "execution_count": 2,
   "metadata": {},
   "outputs": [
    {
     "name": "stdout",
     "output_type": "stream",
     "text": [
      "multiplication result:  45\n"
     ]
    }
   ],
   "source": [
    "num1 = input(\"Please enter your first integer\")\n",
    "num2 = input(\"Please enter your second integer\")\n",
    "\n",
    "if num1.isdigit() and num2.isdigit():\n",
    "    num1= int(num1)\n",
    "    num2= int(num2)\n",
    "    result= num1 * num2\n",
    "    print (\"multiplication result: \", result)\n",
    "    \n",
    "else:\n",
    "    print (\"Please enter a valid integer\")"
   ]
  },
  {
   "cell_type": "markdown",
   "metadata": {},
   "source": [
    "2 - Kullanıcıdan bir sayı isteyin. Sayı tek ise 2 katını çift ise karesini yazdırın. "
   ]
  },
  {
   "cell_type": "code",
   "execution_count": 5,
   "metadata": {},
   "outputs": [
    {
     "name": "stdout",
     "output_type": "stream",
     "text": [
      "double of the number:  6\n"
     ]
    }
   ],
   "source": [
    "number = int(input(\"Please enter a number\"))\n",
    "\n",
    "if number%2 != 0:\n",
    "    print(\"double of the number: \", number*2)\n",
    "    \n",
    "else:\n",
    "    print (\"square of the number: \", number**2)"
   ]
  },
  {
   "cell_type": "markdown",
   "metadata": {},
   "source": [
    "3 - Kullanıcıdan iki tam sayı isteyin. Sayılar eşitse veya sayıların farkı 5 in katı ise True döndüren algoritmayı yazın. Aksi taktirde False çıktısı almalısınız"
   ]
  },
  {
   "cell_type": "code",
   "execution_count": 13,
   "metadata": {},
   "outputs": [
    {
     "name": "stdout",
     "output_type": "stream",
     "text": [
      "Both numbers are equal:  False\n",
      "difference between the numbers is a multiple of 5:  False\n"
     ]
    }
   ],
   "source": [
    "num1 = int(input(\"Please enter your first integer\"))\n",
    "num2 = int(input(\"Please enter your second integer\"))\n",
    "\n",
    "if num1 == num2: \n",
    "    print(\"Both numbers are equal: \", True)\n",
    "\n",
    "elif abs(num1-num2) % 5 ==0:\n",
    "    print(\"difference between the numbers is a multiple of 5: \", True)\n",
    "    \n",
    "else:\n",
    "    print(\"Both numbers are equal: \", False)\n",
    "    print(\"difference between the numbers is a multiple of 5: \", False)\n",
    "    \n"
   ]
  },
  {
   "cell_type": "markdown",
   "metadata": {},
   "source": [
    "4 - Kullanıcıya sınavdan aldığı notu sorunuz. Denk gelen Harf notunu yazdırın. 0-100 aralığı        \n",
    "    dışında girilen notların geçersiz olduğuu belirtmeyi unutmayın. \n",
    "    80 - 100 aralığı \"A\",\n",
    "    65 - 79 aralığı \"B\",\n",
    "    55 - 64 aralığı \"C\",\n",
    "    35 - 54 aralığı \"D\",\n",
    "    0 - 34 aralığı \"F\""
   ]
  },
  {
   "cell_type": "code",
   "execution_count": 17,
   "metadata": {},
   "outputs": [
    {
     "name": "stdout",
     "output_type": "stream",
     "text": [
      "The letter grade corresponding to your score is: D: Needs Improvement\n"
     ]
    }
   ],
   "source": [
    "score = int(input(\"Please enter your exam score (in the range of 0-100)\"))\n",
    "\n",
    "if 0 <= score <= 100:\n",
    "    if 80 <= score >= 100:\n",
    "        grade = \"A: Excellent\"\n",
    "        \n",
    "    elif 65 <= score <= 79:\n",
    "        grade = \"B: Good\"\n",
    "    elif 55 <= score <= 64:\n",
    "        grade = \"C: Satisfactory\"\n",
    "    elif 35 <= score <= 54:\n",
    "        grade = \"D: Needs Improvement\"   \n",
    "    else:\n",
    "        grade = \"F: Fail\"   \n",
    "    print(\"The letter grade corresponding to your score is:\", grade)     \n",
    "else:\n",
    "    print(\"You entered an invalid score. Please enter a score between 0 and 100.\")       "
   ]
  },
  {
   "cell_type": "markdown",
   "metadata": {},
   "source": [
    "5 - Kullanıcıdan (suanki zamani) bir saniye değerinde girmesini isteyin. girilen saniyeyi saat dakika ve sn cinsinden yazdırın. \n",
    "örn: 19520 sn >> 5 saat, 25 dk, 20 saniye "
   ]
  },
  {
   "cell_type": "code",
   "execution_count": 32,
   "metadata": {},
   "outputs": [
    {
     "name": "stdout",
     "output_type": "stream",
     "text": [
      "96 hours, 1 mins, 18 secs\n"
     ]
    }
   ],
   "source": [
    "time = int(input(\"Please enter a second value. Exmp: 19520\" ))\n",
    "\n",
    "hours = time // 3600\n",
    "time %= 3600\n",
    "minutes = time // 60\n",
    "seconds = time % 60\n",
    "\n",
    "print(hours,\"hours,\", minutes,\"mins,\", seconds,\"secs\")\n",
    "\n"
   ]
  },
  {
   "cell_type": "code",
   "execution_count": null,
   "metadata": {},
   "outputs": [],
   "source": []
  }
 ],
 "metadata": {
  "kernelspec": {
   "display_name": "base",
   "language": "python",
   "name": "python3"
  },
  "language_info": {
   "codemirror_mode": {
    "name": "ipython",
    "version": 3
   },
   "file_extension": ".py",
   "mimetype": "text/x-python",
   "name": "python",
   "nbconvert_exporter": "python",
   "pygments_lexer": "ipython3",
   "version": "3.11.4"
  },
  "orig_nbformat": 4
 },
 "nbformat": 4,
 "nbformat_minor": 2
}
