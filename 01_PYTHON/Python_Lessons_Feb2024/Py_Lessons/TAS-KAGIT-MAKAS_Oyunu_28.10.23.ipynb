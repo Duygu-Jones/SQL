{
 "cells": [
  {
   "cell_type": "markdown",
   "id": "0a386210",
   "metadata": {},
   "source": [
    "<a id=\"toc\"></a>\n",
    "\n",
    "### <p style=\"background-color:#9d4f8c; font-family:newtimeroman; color:#FFF9ED; font-size:175%; text-align:center; border-radius:10px 10px;\">TAŞ-KAĞIT-MAKAS oyunu</p>"
   ]
  },
  {
   "cell_type": "markdown",
   "id": "e87190e4",
   "metadata": {},
   "source": [
    "## Kullanacağımız modülleri ve fonksiyonları import edelim:"
   ]
  },
  {
   "cell_type": "code",
   "execution_count": 2,
   "id": "3936a93e",
   "metadata": {},
   "outputs": [
    {
     "name": "stdout",
     "output_type": "stream",
     "text": [
      "Requirement already satisfied: cprint in c:\\users\\my computer\\appdata\\local\\programs\\python\\python312\\lib\\site-packages (1.2.2)Note: you may need to restart the kernel to use updated packages.\n",
      "\n"
     ]
    },
    {
     "name": "stderr",
     "output_type": "stream",
     "text": [
      "\n",
      "[notice] A new release of pip is available: 23.2.1 -> 24.0\n",
      "[notice] To update, run: python.exe -m pip install --upgrade pip\n"
     ]
    }
   ],
   "source": [
    "pip install cprint"
   ]
  },
  {
   "cell_type": "code",
   "execution_count": 5,
   "id": "2511be51",
   "metadata": {},
   "outputs": [
    {
     "ename": "ModuleNotFoundError",
     "evalue": "No module named 'termcolor'",
     "output_type": "error",
     "traceback": [
      "\u001b[1;31m---------------------------------------------------------------------------\u001b[0m",
      "\u001b[1;31mModuleNotFoundError\u001b[0m                       Traceback (most recent call last)",
      "Cell \u001b[1;32mIn[5], line 5\u001b[0m\n\u001b[0;32m      3\u001b[0m \u001b[38;5;28;01mfrom\u001b[39;00m \u001b[38;5;21;01mcolorama\u001b[39;00m \u001b[38;5;28;01mimport\u001b[39;00m init, Fore, Style\n\u001b[0;32m      4\u001b[0m \u001b[38;5;28;01mfrom\u001b[39;00m \u001b[38;5;21;01mIPython\u001b[39;00m\u001b[38;5;21;01m.\u001b[39;00m\u001b[38;5;21;01mdisplay\u001b[39;00m \u001b[38;5;28;01mimport\u001b[39;00m HTML\n\u001b[1;32m----> 5\u001b[0m \u001b[38;5;28;01mfrom\u001b[39;00m \u001b[38;5;21;01mtermcolor\u001b[39;00m \u001b[38;5;28;01mimport\u001b[39;00m colored\n\u001b[0;32m      6\u001b[0m \u001b[38;5;28;01mfrom\u001b[39;00m \u001b[38;5;21;01mtermcolor\u001b[39;00m \u001b[38;5;28;01mimport\u001b[39;00m cprint\n",
      "\u001b[1;31mModuleNotFoundError\u001b[0m: No module named 'termcolor'"
     ]
    }
   ],
   "source": [
    "import time\n",
    "import random\n",
    "from colorama import init, Fore, Style\n",
    "from IPython.display import HTML\n",
    "from termcolor import colored\n",
    "from termcolor import cprint"
   ]
  },
  {
   "cell_type": "markdown",
   "id": "845605d9",
   "metadata": {},
   "source": [
    "## Yanıp sönmesini istediğimiz texler için fonksiyon tanımlayalım:"
   ]
  },
  {
   "cell_type": "code",
   "execution_count": 4,
   "id": "7f345dfd",
   "metadata": {},
   "outputs": [],
   "source": [
    "def blink_string(input_str, duration_seconds = 0.5, blink_count = 3):\n",
    "    init(autoreset=True)  # colorama'nın renk ayarlarını otomatik sıfırlama\n",
    "\n",
    "    for i in range(blink_count):\n",
    "        print(Fore.WHITE + input_str, end='\\r', flush=True)\n",
    "        time.sleep(duration_seconds)  # duration_seconds kadar bekleyecek.\n",
    "        print(' ' * len(input_str), end='\\r', flush=True)\n",
    "        time.sleep(duration_seconds/3)  # duration seconds'ın 3'te biri kadar bekleyecek.\n",
    "    print(input_str)"
   ]
  },
  {
   "cell_type": "markdown",
   "id": "cc92a494",
   "metadata": {},
   "source": [
    "**`def blink_string(input_str, duration_seconds = 0.5, blink_count = 3):`**\n",
    "şu 3 parametreye sahip \"blink_string()\" fonksiyonunu tanımlanıyoruz:\n",
    "input_str: Yanıp sönmesini istediğiniz metin.\n",
    "duration_seconds: Tek bir yanıp sönme döngüsünün süresi saniyeler cinsinden. Varsayılan değeri 0.5 saniyedir.\n",
    "blink_count: Metnin kaç kez yanıp söneceğini belirleyen bir sayı. Varsayılan değeri 3'tür.\n",
    "\n",
    "**`init(autoreset=True):`**\n",
    "Bu satır, colorama kütüphanesinin renk ayarlarını otomatik olarak sıfırlayan bir işlemi başlatır. colorama, terminalde metin rengi değişiklikleri yapmamıza olanak tanır.\n",
    "\n",
    "**`for i in range(blink_count):`**\n",
    "Bir for döngüsü başlatılır. Bu döngü, blink_count kadar tekrarlanacak ve metni yanıp söndürecek.\n",
    "\n",
    "**`print(Fore.WHITE + input_str, end='\\r', flush=True):`**\n",
    "`colorama` modülü ile beyaz renkte (`Fore.WHITE`) olan input_str metni yazdırılır. `end='\\r'` ile yazdırma işlemi bir sonraki satıra geçmeden aynı satırda devam eder. çünkü yazı yanıp söndükten sonra tekrar aynı satır başından başlayarak yazdırılmalı.  `flush=True` ise hemen ekrana yazdırılmasını sağlar.\n",
    "\n",
    "**`time.sleep(duration_seconds):`**\n",
    "Belirtilen duration_seconds süresi boyunca programın beklemesini sağlar. Bu, metnin ekranda ne kadar süreyle kalacağını belirler.\n",
    "\n",
    "**`print(' ' * len(input_str), end='\\r', flush=True):`**\n",
    "Boşluk karakterleri kullanılarak metnin ekranda bulunduğu yere aynı uzunlukta boş bir metin yazdırılır. Bu, metni ekrandan siler gibi görünmesini sağlar.\n",
    "\n",
    "**`time.sleep(duration_seconds/3):`**\n",
    "İkinci bir bekleme süresi ekler. Bu, metnin yanıp söndüğü sürenin 3'te biri kadar sürer.\n",
    "\n",
    "Son olarak, döngü **blink_count** kadar tekrarlandıktan sonra orijinal **\"input_str\"** tekrar yazdırılır ve yanıp sönmeyi sonlandırır."
   ]
  },
  {
   "cell_type": "markdown",
   "id": "0e3a1c4e",
   "metadata": {},
   "source": [
    "## # Yanıp sönerek geriye 3-2-1 sayan text için fonksiyon tanımlayalım:"
   ]
  },
  {
   "cell_type": "code",
   "execution_count": 6,
   "id": "0c0aeb8d",
   "metadata": {},
   "outputs": [],
   "source": [
    "def blink_sayaç(input_str):   # program içinde input_str olarak \"Çark çevriliyor :\" stringi girilecek.\n",
    "    init(autoreset=True)  # colorama'nın renk ayarlarını otomatik sıfırlama\n",
    "\n",
    "    print(input_str, end='')  # \"Çark çevriliyor :\" stringini yaz\n",
    "    for count in range(3, 0, -1):\n",
    "        print(Fore.WHITE + \" \" + str(count),  end='', flush=True)\n",
    "        time.sleep(0.8)  # 0.8 sn. bekleyecek.\n",
    "        print(end='\\b')  # imleçi bir karakter geriye aldık ki 3'yanp söndükten sonra 2'yi yine aynı yere yazdırsın. \n",
    "        time.sleep(0.8)  # bir 0.8 sn. daha bekle.\n",
    "    \n",
    "    print(\"\\r\" + \" \"*len(input_str))  # \"\\r\" escape sequence'ı ile satır başına giderek \"çark çevriliyor\" yazısını sil."
   ]
  },
  {
   "cell_type": "markdown",
   "id": "f6870bb3",
   "metadata": {},
   "source": [
    "## TÜM KODLARI BİR HÜCREDE TOPLAYALIM"
   ]
  },
  {
   "cell_type": "code",
   "execution_count": 7,
   "id": "fa5d4c51",
   "metadata": {
    "scrolled": false
   },
   "outputs": [
    {
     "ename": "ModuleNotFoundError",
     "evalue": "No module named 'termcolor'",
     "output_type": "error",
     "traceback": [
      "\u001b[1;31m---------------------------------------------------------------------------\u001b[0m",
      "\u001b[1;31mModuleNotFoundError\u001b[0m                       Traceback (most recent call last)",
      "Cell \u001b[1;32mIn[7], line 5\u001b[0m\n\u001b[0;32m      3\u001b[0m \u001b[38;5;28;01mfrom\u001b[39;00m \u001b[38;5;21;01mcolorama\u001b[39;00m \u001b[38;5;28;01mimport\u001b[39;00m init, Fore, Style\n\u001b[0;32m      4\u001b[0m \u001b[38;5;28;01mfrom\u001b[39;00m \u001b[38;5;21;01mIPython\u001b[39;00m\u001b[38;5;21;01m.\u001b[39;00m\u001b[38;5;21;01mdisplay\u001b[39;00m \u001b[38;5;28;01mimport\u001b[39;00m HTML\n\u001b[1;32m----> 5\u001b[0m \u001b[38;5;28;01mfrom\u001b[39;00m \u001b[38;5;21;01mtermcolor\u001b[39;00m \u001b[38;5;28;01mimport\u001b[39;00m colored\n\u001b[0;32m      6\u001b[0m \u001b[38;5;28;01mfrom\u001b[39;00m \u001b[38;5;21;01mtermcolor\u001b[39;00m \u001b[38;5;28;01mimport\u001b[39;00m cprint\n\u001b[0;32m      9\u001b[0m \u001b[38;5;28;01mdef\u001b[39;00m \u001b[38;5;21mblink_string\u001b[39m(input_str, duration_seconds \u001b[38;5;241m=\u001b[39m \u001b[38;5;241m0.5\u001b[39m, blink_count \u001b[38;5;241m=\u001b[39m \u001b[38;5;241m3\u001b[39m):\n",
      "\u001b[1;31mModuleNotFoundError\u001b[0m: No module named 'termcolor'"
     ]
    }
   ],
   "source": [
    "import time\n",
    "import random\n",
    "from colorama import init, Fore, Style\n",
    "from IPython.display import HTML\n",
    "from termcolor import colored\n",
    "from termcolor import cprint\n",
    "\n",
    "\n",
    "def blink_string(input_str, duration_seconds = 0.5, blink_count = 3):\n",
    "    init(autoreset=True)  # colorama'nın renk ayarlarını otomatik sıfırlama\n",
    "\n",
    "    for i in range(blink_count):\n",
    "        print(Fore.WHITE + input_str, end='\\r', flush=True)\n",
    "        time.sleep(duration_seconds)\n",
    "        print(' ' * len(input_str), end='\\r', flush=True)\n",
    "        time.sleep(duration_seconds/3)\n",
    "    print(input_str)\n",
    "    \n",
    "    \n",
    "def blink_sayaç(input_str):\n",
    "    init(autoreset=True)  # colorama'nın renk ayarlarını otomatik sıfırlama\n",
    "\n",
    "    print(input_str, end='')  # \"Çark çevriliyor :\" stringini yaz\n",
    "    for count in range(3, 0, -1):\n",
    "        print(Fore.WHITE + \" \" + str(count),  end='', flush=True)\n",
    "        time.sleep(0.5)\n",
    "        print(end='\\b\\b')\n",
    "        time.sleep(0.5)\n",
    "    \n",
    "    print(\"\\r\" + \" \"*len(input_str))\n",
    "    \n",
    "\n",
    "cprint('Taş-Kağıt-Makas Oyunu:\\n', 'blue', attrs=['bold'])  \n",
    "# cprint() fonksiyonu ile renkli yazılar yazabiliyoruz.  \n",
    "\n",
    "liste = [\"TAŞ\", \"KAĞIT\", \"MAKAS\"] \n",
    "# daha sonra oyuncuların seçtiği hareketi belirlemek üzere randomly olarak bu liste indexlenecek.\n",
    "\n",
    "kazanan = [(\"TAŞ\", \"MAKAS\"), (\"KAĞIT\", \"TAŞ\"), (\"MAKAS\", \"KAĞIT\")]  \n",
    "# iki oyuncunun seçtiği hareketlerin ihtimalleri bunlardır.\n",
    "# ve tuple'ların bu sıralamalardaki 1. elemanları kazanan oyuncunun seçtiği hareket olacaktır. \n",
    "# taş makası kırar, kağıt taşı örter, makas kağıdı keser.\n",
    "\n",
    "puan_dict = {\"rakip1\" : 0, \"rakip2\" : 0} \n",
    "# iki rakibin puanlarını tutmak üzere bir dictionary oluşturduk. ön tanımlı olarak puanlara 0 atadık.\n",
    "\n",
    "tebrik_emoji = \"\\U0001F38A\\U0001F389\\U0001F38A\\U0001F44F\\U0001F44F\" \n",
    "berabere_emoji = \"\\U0001f640\\U0001f640\\U0001f640\\U0001f640\"\n",
    "# birinin kazanması durumunda tebrik etmek üzere ve berabere olması durumunda ekrana yazdırmak üzere emojiler belirledik.\n",
    "\n",
    "isim1 = input(\"Birinci rakibin ismini girin: \").upper()  # isimleri büyük harfe çevirecek.\n",
    "isim2 = input(\"İkinci rakibin ismini girin: \").upper()\n",
    "# oyuncuların isimlerini giriyoruz.\n",
    "\n",
    "# Oyunun kaçta biteceğini belirlemek üzere input istiyoruz.\n",
    "# Ancak girilen sayının integer kontrolünü yapmak istiyoruz:\n",
    "\n",
    "#while True:\n",
    "#    limit = input(\"oyun kaçta bitsin? :\")\n",
    "#    if limit.isnumeric():\n",
    "#        limit = int(limit)\n",
    "#        break\n",
    "\n",
    "# Assignment Expression yöntemi ile kontrol ile birlikte aynı anda atama yapabiliyoruz. \n",
    "# assignment exression yöntemi ile kodu bir satır kısaltalım:\n",
    "\n",
    "# while True:\n",
    "#    if (limit := input(\"oyun kaçta bitsin? :\")).isnumeric():\n",
    "#        limit = int(limit)\n",
    "#        break\n",
    "\n",
    "# Bu 4 satır kodu bir satır daha kısaltalım: \n",
    "\n",
    "while not (limit := input(\"oyun kaçta bitsin? :\")).isnumeric() : pass\n",
    "    # if statement ile yaptığım kontrolü while satırında yapıverdim.\n",
    "    # fazladan if yapısı kullanmamış oldum. \n",
    "    # girilen input nümerik ise isnumeric() True döndürecek, not ise bu durumda True dönmesini sağlayacak\n",
    "    # yani yanlış giriş yapıldığı sürece while çalışacak.\n",
    "\n",
    "limit = int(limit)\n",
    "\n",
    "# şimdi herhangi bir oyuncunun puanı 5 olana kadar oyunun devam etmesini sağlayalım:\n",
    "# oyun burada başlayacak ve bitene kadar artık müdahale etmek zorunda kalmayacağız.\n",
    "# seçimleri tamamen kendisi her iki oyuncu için rastgele yapacak,\n",
    "# her elde kazananı yazacak. puan durumunu yazacak. \n",
    "# Bunları bir anda değil, her safhada sayaç sayarak, bekleyerek yapacak. \n",
    "# ve oyun bittiğinde ise oyunun kazanınını ilan edecek.\n",
    "\n",
    "while ((puan_dict[\"rakip1\"] < limit) and (puan_dict[\"rakip2\"] < limit)) :  \n",
    "    # her iki oyuncu da beraber 5'ten küçük olduğu sürece aşağıdaki kod bloğu çalışacak.\n",
    "    # oyunun kodunu bu while kod bloğuna yerleştireceğiz. böylece oyun yukardaki şart False olduğu sürece devam edecek.\n",
    "    # yani bir oyuncunun puanı 5 olduğunda oyun bitecek.\n",
    "    \n",
    "    blink_sayaç(\"3 sn. sonra Taş-Kağıt-Makas seçimleri yapılacak:\")  # blink_sayaç() fonksiyonunu bu string ile çalıştır.\n",
    "    \n",
    "    rakip1 = liste[random.randint(0,2)]  # rakip1'in seçimi.. rakip 1 için taş, kağıt, makas listesi içinden rastgele bir seçim yapılacak.\n",
    "    rakip2 = liste[random.randint(0,2)]  # rakip2'in seçimi.. rakip2 için listeden rastgele bir seçim yapılacak.\n",
    "    \n",
    "    if (rakip1, rakip2) in kazanan:  \n",
    "        # rakip1'in ve rakip2'nin seçimlerini bir tuple'a aldık. \n",
    "        # Bu tuple, \"kazanan\" listesindeki tuple'lardan biri ile aynı ise rakip 1 kazanmış demektir.\n",
    "        \n",
    "        puan_dict[\"rakip1\"] += 1  \n",
    "        # bu durumda puan_dict dict.'nin rakip1 key'ini 1 arttıralım. yani puanına 1 ekleyelim.  \n",
    "        \n",
    "        display(HTML(f\"{isim1} : <font color='red'>{rakip1}</font> - {isim2} :\\\n",
    "         <font color='blue'>{rakip2}</font><pre> </pre>Bu el kazanan :<font color='green'><b>{isim1}</b></font>{tebrik_emoji}\"))\n",
    "        # ekrana yapılan seçimleri ve kanananı renklendirilmiş olarak yazdırdık.\n",
    "        \n",
    "        print()  # bir satır boşluk koyduk.\n",
    "        blink_string(f'Puan durumu: {isim1} : {puan_dict[\"rakip1\"]} - {isim2} : {puan_dict[\"rakip2\"]}', 0.8, 2) # puan durumu\n",
    "        # Ekrana oyuncunların isimlerinin yanında puan durumunu yazdırdık. \n",
    "        # Dikkat çekmek için bunun 2 kere yanıp sönmesini sağladık.\n",
    "        \n",
    "        print()  # bir satır daha boşluk koyduk.\n",
    "        time.sleep(1)  # sonraki tura geçmeden önce 3 sn. bekle.\n",
    "        \n",
    "   \n",
    "    elif (rakip2, rakip1) in kazanan:  # rakip 2'nin kazanma durumunu tanımladık.\n",
    "        puan_dict[\"rakip2\"] += 1  # bu durumda rakip2'nin puanını 1 arttırdık.\n",
    "        \n",
    "        display(HTML(f\"{isim1} : <font color='blue'>{rakip1}</font> - {isim2} : <font color='red'>{rakip2}</font><pre> </pre>Bu el kazanan :<font color='green'>\\\n",
    "        <b>{isim2}</b></font>{tebrik_emoji}\"))  # seçimler ekran yazdırdık.\n",
    "        print()\n",
    "        blink_string(f'Puan durumu: {isim1} : {puan_dict[\"rakip1\"]} - {isim2} : {puan_dict[\"rakip2\"]}', 0.8, 2) \n",
    "        # puan durumunu yanıp sönecek şekilde ekrana yazdırdık.\n",
    "        print()\n",
    "        time.sleep(1)  # sonraki tura geçmeden önce 3 sn. bekle.\n",
    "        \n",
    "    else :  # kazanan olmama, berabere olma durumu.\n",
    "        # rakip1 ve rakip2 nin seçimleri kazanan listesinde yoksa aynı hareket seçilmiş demektir.\n",
    "        # bu durumda ekrana yapılan seçimleri ve beraberlik durumundaki emojileri yazdıracağız: \n",
    "        display(HTML(f\"{isim1} : <font color='cyan'>{rakip1}</font> - {isim2} : <font color='cyan'>{rakip2}</font><pre> </pre>Aynı seçim!!{berabere_emoji}\\n\"))\n",
    "\n",
    "# while döngüsünden çıktıktan sonraki ilk satır budur. Hatırlayalım; while döngüsündeen, bir oyuncu 5 olduğunda çıkılıyordu.\n",
    "# bu durumda puanı 5 olan oyuncuyu kazanan ilan edeceğiz.: \n",
    "kazanan = isim1 if puan_dict[\"rakip1\"] == limit else isim2\n",
    "    \n",
    "display(HTML(f\"<font color='darkred'><b>Oyun sona erdi.. <br><pre>  </pre>Oyunu Kazanan : {kazanan}</b></font>\"))\n",
    "\n",
    "# kazanan_metni = f\"<font color='blue'><b>Oyun sona erdi.. Kazanan : </b></font>\"\n",
    "# kazanan_metni += f\"<b>{isim1}</b>\" if puan_dict[\"rakip1\"] == limit else \"\"\n",
    "# kazanan_metni += f\"<b>{isim2}</b>\" if puan_dict[\"rakip2\"] == limit else \"\"\n",
    "# display(HTML(kazanan_metni))\n",
    "\n",
    "# print(colored(f'Oyun sona erdi!:\\nKazanan:{isim1}', 'blue', attrs=['bold']))\n"
   ]
  },
  {
   "cell_type": "code",
   "execution_count": null,
   "id": "35c3e288",
   "metadata": {},
   "outputs": [],
   "source": []
  }
 ],
 "metadata": {
  "kernelspec": {
   "display_name": "Python 3 (ipykernel)",
   "language": "python",
   "name": "python3"
  },
  "language_info": {
   "codemirror_mode": {
    "name": "ipython",
    "version": 3
   },
   "file_extension": ".py",
   "mimetype": "text/x-python",
   "name": "python",
   "nbconvert_exporter": "python",
   "pygments_lexer": "ipython3",
   "version": "3.12.1"
  }
 },
 "nbformat": 4,
 "nbformat_minor": 5
}
