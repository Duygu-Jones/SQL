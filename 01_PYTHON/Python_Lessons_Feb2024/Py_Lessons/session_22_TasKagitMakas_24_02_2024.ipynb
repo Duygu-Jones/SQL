{
 "cells": [
  {
   "cell_type": "code",
   "execution_count": null,
   "metadata": {},
   "outputs": [],
   "source": [
    "# pc ile tas-kagit-makas oyunu oynayan algoritmayi yaziniz\n",
    "\n",
    "a = input(\"taş kağıt makas oynamak ister misin(yes or no)\").lower()\n",
    "\n",
    "import time\n",
    "import random\n",
    "pc_list = [\"t\", \"k\", \"m\"]\n",
    "\n",
    "while a == \"yes\":\n",
    "\n",
    "    pc = pc_list[random.randint(0,2)]\n",
    "\n",
    "    time.sleep(1)\n",
    "    \n",
    "    you = input(\"birini seç: t: taş, m: makas, k: kağıt\").lower()\n",
    "\n",
    "    if (pc == \"t\" and you == \"m\") or (pc == \"m\" and you == \"k\") or (pc == \"k\" and you == \"t\"):\n",
    "        print(\"kazanan bilgisayar\")\n",
    "    \n",
    "    elif (pc == \"m\" and you == \"t\") or (pc == \"k\" and you == \"m\") or (pc == \"t\" and you == \"k\"):\n",
    "        print(\"kazanan sensin\")\n",
    "\n",
    "    elif (pc == \"m\" and you == \"m\") or (pc == \"k\" and you == \"k\") or (pc == \"t\" and you == \"t\"):\n",
    "        print(\"berabere\")\n",
    "\n",
    "    else:\n",
    "        print(\"hatalı giriş\")\n",
    "\n",
    "    time.sleep(1)\n",
    "\n",
    "    a = input(\"taş kağıt makas oyununa devam etmek ister misin(yes or no)\").lower()\n",
    "\n",
    "print(\"game over\")"
   ]
  },
  {
   "cell_type": "code",
   "execution_count": 2,
   "metadata": {},
   "outputs": [],
   "source": [
    "def tas_kagit_makas():\n",
    "\n",
    "    a = input(\"taş kağıt makas oynamak ister misin(yes or no)\").lower()\n",
    "\n",
    "    import time\n",
    "    import random\n",
    "    pc_list = [\"t\", \"k\", \"m\"]\n",
    "\n",
    "    while a == \"yes\":\n",
    "\n",
    "        pc = pc_list[random.randint(0,2)]\n",
    "\n",
    "        time.sleep(1)\n",
    "\n",
    "        you = input(\"birini seç: t: taş, m: makas, k: kağıt\").lower()\n",
    "\n",
    "        if (pc == \"t\" and you == \"m\") or (pc == \"m\" and you == \"k\") or (pc == \"k\" and you == \"t\"):\n",
    "            print(\"kazanan bilgisayar\")\n",
    "        \n",
    "        elif (pc == \"m\" and you == \"t\") or (pc == \"k\" and you == \"m\") or (pc == \"t\" and you == \"k\"):\n",
    "            print(\"kazanan sensin\")\n",
    "\n",
    "        elif (pc == \"m\" and you == \"m\") or (pc == \"k\" and you == \"k\") or (pc == \"t\" and you == \"t\"):\n",
    "            print(\"berabere\")\n",
    "\n",
    "        else:\n",
    "            print(\"hatalı giriş\")\n",
    "\n",
    "        time.sleep(1)\n",
    "\n",
    "        a = input(\"taş kağıt makas oyununa devam etmek ister misin(yes or no)\").lower()\n",
    "\n",
    "    print(\"oyun bitti\")"
   ]
  },
  {
   "cell_type": "code",
   "execution_count": 3,
   "metadata": {},
   "outputs": [
    {
     "name": "stdout",
     "output_type": "stream",
     "text": [
      "oyun bitti\n"
     ]
    }
   ],
   "source": [
    "tas_kagit_makas()"
   ]
  },
  {
   "cell_type": "code",
   "execution_count": 4,
   "metadata": {},
   "outputs": [],
   "source": [
    "# oyun_module.py dosyasindan methodu call edelim\n",
    "# #User/DuyguJones/AppData/Local/Programs/Python/Python311/oyun module DOSYANIZI buraya EKLEYIN direk gorur ve import edebiliriz\n",
    "\n",
    "import oyun_module"
   ]
  },
  {
   "cell_type": "code",
   "execution_count": null,
   "metadata": {},
   "outputs": [],
   "source": []
  }
 ],
 "metadata": {
  "kernelspec": {
   "display_name": "Python 3",
   "language": "python",
   "name": "python3"
  },
  "language_info": {
   "codemirror_mode": {
    "name": "ipython",
    "version": 3
   },
   "file_extension": ".py",
   "mimetype": "text/x-python",
   "name": "python",
   "nbconvert_exporter": "python",
   "pygments_lexer": "ipython3",
   "version": "3.11.4"
  }
 },
 "nbformat": 4,
 "nbformat_minor": 2
}
