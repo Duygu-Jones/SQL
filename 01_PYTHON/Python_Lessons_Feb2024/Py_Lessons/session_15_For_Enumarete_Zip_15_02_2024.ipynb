{
 "cells": [
  {
   "cell_type": "markdown",
   "metadata": {},
   "source": [
    "## For Loop"
   ]
  },
  {
   "cell_type": "code",
   "execution_count": null,
   "metadata": {},
   "outputs": [],
   "source": [
    "# bir kosul belirtilmiyor ise ve Iterable Data'nin her elemani ile islem yapilacak ise For-i-in Loop kullanilir"
   ]
  },
  {
   "cell_type": "code",
   "execution_count": 6,
   "metadata": {},
   "outputs": [
    {
     "name": "stdout",
     "output_type": "stream",
     "text": [
      "i\n",
      "t\n",
      "e\n",
      "r\n",
      "a\n",
      "b\n",
      "l\n",
      "e\n",
      "D\n",
      "a\n",
      "t\n",
      "a\n"
     ]
    }
   ],
   "source": [
    "for i in \"iterableData\":     # i : verilen Iterable Data'nin 0.indexinden baslayarak elemanlarina ulasir\n",
    "    print(i)            # for loop kalibi --->  for i(index) in IterableData: "
   ]
  },
  {
   "cell_type": "code",
   "execution_count": null,
   "metadata": {},
   "outputs": [],
   "source": [
    "list1 = [1,2,3,4,5] # verilen listedeki tum elemanlarin karesini alan loop code'larini yaziniz"
   ]
  },
  {
   "cell_type": "code",
   "execution_count": 3,
   "metadata": {},
   "outputs": [
    {
     "name": "stdout",
     "output_type": "stream",
     "text": [
      "1\n",
      "4\n",
      "9\n",
      "16\n",
      "25\n"
     ]
    }
   ],
   "source": [
    "# for loop\n",
    "\n",
    "list1 = [1,2,3,4,5]\n",
    "\n",
    "for i in list1:\n",
    "    print(i ** 2)\n",
    "    "
   ]
  },
  {
   "cell_type": "code",
   "execution_count": 6,
   "metadata": {},
   "outputs": [
    {
     "name": "stdout",
     "output_type": "stream",
     "text": [
      "1\n",
      "4\n",
      "9\n",
      "16\n",
      "25\n"
     ]
    }
   ],
   "source": [
    "#while loop\n",
    "\n",
    "list1 = [1,2,3,4,5]         # 5 elemanli bir liste\n",
    "x=0                         # while'da baslangic indexini(x) belirtmemiz gerekiyor\n",
    "\n",
    "while x < len(list1):       # index no, liste eleman sayisindan kucuk oldugu surece donguyu calistir \n",
    "    print(list1[x] ** 2)    # list1[x] : her dongude uzerinde oldugu index elemanidir ** 2 ===> her elemanin karesini alir ve cikti verir\n",
    "    \n",
    "    x += 1                  # While Loop'ta dongunun yonunu bildirmemiz gerekir--> index no ilerleyerek devam eder"
   ]
  },
  {
   "cell_type": "code",
   "execution_count": 4,
   "metadata": {},
   "outputs": [
    {
     "data": {
      "text/plain": [
       "True"
      ]
     },
     "execution_count": 4,
     "metadata": {},
     "output_type": "execute_result"
    }
   ],
   "source": [
    "\"e\" in \"hello\"      # \"hello\" stringi icinde \"e\" var mi --> bool dondurur True"
   ]
  },
  {
   "cell_type": "code",
   "execution_count": 5,
   "metadata": {},
   "outputs": [
    {
     "data": {
      "text/plain": [
       "False"
      ]
     },
     "execution_count": 5,
     "metadata": {},
     "output_type": "execute_result"
    }
   ],
   "source": [
    "\"a\" in \"hello\""
   ]
  },
  {
   "cell_type": "code",
   "execution_count": 8,
   "metadata": {},
   "outputs": [
    {
     "name": "stdout",
     "output_type": "stream",
     "text": [
      "1 sayisinin karesi: 1\n",
      "3 sayisinin karesi: 9\n",
      "5 sayisinin karesi: 25\n",
      "7 sayisinin karesi: 49\n",
      "9 sayisinin karesi: 81\n"
     ]
    }
   ],
   "source": [
    "for i in (1,3,5,7,9):\n",
    "    print(f\"{i} sayisinin karesi: {i ** 2}\")"
   ]
  },
  {
   "cell_type": "code",
   "execution_count": 9,
   "metadata": {},
   "outputs": [
    {
     "ename": "TypeError",
     "evalue": "'int' object is not iterable",
     "output_type": "error",
     "traceback": [
      "\u001b[1;31m---------------------------------------------------------------------------\u001b[0m",
      "\u001b[1;31mTypeError\u001b[0m                                 Traceback (most recent call last)",
      "Cell \u001b[1;32mIn[9], line 1\u001b[0m\n\u001b[1;32m----> 1\u001b[0m \u001b[38;5;28;01mfor\u001b[39;00m i \u001b[38;5;129;01min\u001b[39;00m \u001b[38;5;241m13446\u001b[39m:\n\u001b[0;32m      2\u001b[0m     \u001b[38;5;28mprint\u001b[39m(i)\n",
      "\u001b[1;31mTypeError\u001b[0m: 'int' object is not iterable"
     ]
    }
   ],
   "source": [
    "for i in 13446:         # int iterable data degildir, elemanlarina ulasilamaz  \n",
    "    print(i)"
   ]
  },
  {
   "cell_type": "code",
   "execution_count": 13,
   "metadata": {},
   "outputs": [
    {
     "name": "stdout",
     "output_type": "stream",
     "text": [
      "Can\n",
      "Bahar\n",
      "Cihan\n",
      "Mete\n"
     ]
    }
   ],
   "source": [
    "nameList = [\"can\", \"bahar\", \"cihan\",\"mete\"]\n",
    "\n",
    "for i in nameList:\n",
    "    print(i.capitalize())"
   ]
  },
  {
   "cell_type": "code",
   "execution_count": 11,
   "metadata": {},
   "outputs": [
    {
     "name": "stdout",
     "output_type": "stream",
     "text": [
      "T-e-c-h-p-r-o-"
     ]
    }
   ],
   "source": [
    "#   \"Techpro\" ile \"T-e-c-h-p-r-o\" ifadesini nasil elde edebiliriz\n",
    "\n",
    "# 1.yol - eksik \n",
    "for i in \"Techpro\":\n",
    "    print(i , end=\"-\")"
   ]
  },
  {
   "cell_type": "code",
   "execution_count": 15,
   "metadata": {},
   "outputs": [
    {
     "name": "stdout",
     "output_type": "stream",
     "text": [
      "T-e-c-h-p-r-o\n"
     ]
    }
   ],
   "source": [
    "# 2.yol: bir degisken icerisinde toplayip r-trip() methodu ile en sondaki - symbolunden kurtulabilirz\n",
    "\n",
    "empty_str = \"\"      # bos string sepeti\n",
    "\n",
    "for i in \"Techpro\":\n",
    "    empty_str += i + \"-\"    # String sepetine ekledigi elemanlar arasina \"-\" symbol ekler\n",
    "    \n",
    "print(empty_str.rstrip(\"-\"))    # rstrip(): rigth side \"-\" siler    "
   ]
  },
  {
   "cell_type": "code",
   "execution_count": 16,
   "metadata": {},
   "outputs": [
    {
     "data": {
      "text/plain": [
       "{'name': 'dilek', 'age': 26, 'job': 'DataScientist'}"
      ]
     },
     "execution_count": 16,
     "metadata": {},
     "output_type": "execute_result"
    }
   ],
   "source": [
    "dict1 = {\"name\": \"dilek\", \"age\":26, \"job\":\"DataScientist\"}\n",
    "dict1"
   ]
  },
  {
   "cell_type": "code",
   "execution_count": 17,
   "metadata": {},
   "outputs": [
    {
     "name": "stdout",
     "output_type": "stream",
     "text": [
      "name\n",
      "age\n",
      "job\n"
     ]
    }
   ],
   "source": [
    "for i in dict1:     # for loop da dict ait sadece Key'leri gorebilir. List() ler gibi\n",
    "    print(i)"
   ]
  },
  {
   "cell_type": "code",
   "execution_count": 18,
   "metadata": {},
   "outputs": [
    {
     "name": "stdout",
     "output_type": "stream",
     "text": [
      "dilek\n",
      "26\n",
      "DataScientist\n"
     ]
    }
   ],
   "source": [
    "for i in dict1.values():    #dict lerde kullanilan value() fonks ile value'lara ulasabilir\n",
    "    print(i)"
   ]
  },
  {
   "cell_type": "code",
   "execution_count": 20,
   "metadata": {},
   "outputs": [
    {
     "name": "stdout",
     "output_type": "stream",
     "text": [
      "('name', 'dilek')\n",
      "('age', 26)\n",
      "('job', 'DataScientist')\n"
     ]
    }
   ],
   "source": [
    "for i in dict1.items(): # items() ile cikti tuple formatinda gelir\n",
    "    print(i)"
   ]
  },
  {
   "cell_type": "code",
   "execution_count": 22,
   "metadata": {},
   "outputs": [
    {
     "name": "stdout",
     "output_type": "stream",
     "text": [
      "name *** dilek\n",
      "age *** 26\n",
      "job *** DataScientist\n"
     ]
    }
   ],
   "source": [
    "for i,j in dict1.items():       # dict(key:value) yapisinda; \"i=key : j=value \" temsil eder\n",
    "    print(i, j, sep= \" *** \")"
   ]
  },
  {
   "cell_type": "code",
   "execution_count": 23,
   "metadata": {},
   "outputs": [
    {
     "name": "stdout",
     "output_type": "stream",
     "text": [
      "key: name, value: dilek\n",
      "key: age, value: 26\n",
      "key: job, value: DataScientist\n"
     ]
    }
   ],
   "source": [
    "for i,j in dict1.items():       \n",
    "    print(f\"key: {i}, value: {j}\")"
   ]
  },
  {
   "cell_type": "code",
   "execution_count": 24,
   "metadata": {},
   "outputs": [
    {
     "data": {
      "text/plain": [
       "{'name': 'Fatma', 'age': 30, 'job': 'DataAnalysist'}"
      ]
     },
     "execution_count": 24,
     "metadata": {},
     "output_type": "execute_result"
    }
   ],
   "source": [
    "dict2 = {\"name\": \"Fatma\", \"age\":30, \"job\":\"DataAnalysist\"}\n",
    "dict2"
   ]
  },
  {
   "cell_type": "code",
   "execution_count": 25,
   "metadata": {},
   "outputs": [
    {
     "name": "stdout",
     "output_type": "stream",
     "text": [
      "key: name, value: Fatma\n",
      "key: age, value: 30\n",
      "key: job, value: DataAnalysist\n"
     ]
    }
   ],
   "source": [
    "for i,j in dict2.items():       \n",
    "    print(f\"key: {i}, value: {j}\")"
   ]
  },
  {
   "cell_type": "code",
   "execution_count": 33,
   "metadata": {},
   "outputs": [
    {
     "name": "stdout",
     "output_type": "stream",
     "text": [
      "key: name  = value: Fatma\n",
      "key: age   = value: 30\n",
      "key: job   = value: DataAnalysist\n"
     ]
    }
   ],
   "source": [
    "for i,j in dict2.items():       \n",
    "    print(f\"key: {i:<5} = value: {j}\")      # { :< } == metni SOLA yaslar, 5 karakter alan kaplar"
   ]
  },
  {
   "cell_type": "code",
   "execution_count": 38,
   "metadata": {},
   "outputs": [
    {
     "name": "stdout",
     "output_type": "stream",
     "text": [
      "key: name  = value:           Fatma\n",
      "key: age   = value:              30\n",
      "key: job   = value:   DataAnalysist\n"
     ]
    }
   ],
   "source": [
    "for i,j in dict2.items():       \n",
    "    print(f\"key: {i:<5} = value: {j:>15}\")  # { :> } sembolu ise SAGA yaslar verilen karakter alani icinde"
   ]
  },
  {
   "cell_type": "code",
   "execution_count": 40,
   "metadata": {},
   "outputs": [
    {
     "name": "stdout",
     "output_type": "stream",
     "text": [
      "key:      name       = value:      Fatma     \n",
      "key:       age       = value:       30       \n",
      "key:       job       = value:  DataAnalysist \n"
     ]
    }
   ],
   "source": [
    "for i,j in dict2.items():       \n",
    "    print(f\"key: {i:^15} = value: {j:^15}\") # { :^ } sembolu verilen karakter alani icinde ORTALAR"
   ]
  },
  {
   "cell_type": "code",
   "execution_count": 6,
   "metadata": {},
   "outputs": [
    {
     "data": {
      "text/plain": [
       "'      techpro       '"
      ]
     },
     "execution_count": 6,
     "metadata": {},
     "output_type": "execute_result"
    }
   ],
   "source": [
    "# string lerde metni yaslamak icin;\n",
    "\"techpro\".center(20)            # 20 karakter icinde ortalar"
   ]
  },
  {
   "cell_type": "code",
   "execution_count": 7,
   "metadata": {},
   "outputs": [
    {
     "data": {
      "text/plain": [
       "'             techpro'"
      ]
     },
     "execution_count": 7,
     "metadata": {},
     "output_type": "execute_result"
    }
   ],
   "source": [
    "\"techpro\".rjust(20)            # 20 karakter icinde SAGA yaslar"
   ]
  },
  {
   "cell_type": "code",
   "execution_count": null,
   "metadata": {},
   "outputs": [],
   "source": [
    "\"techpro\".ljust(20)            # 20 karakter icinde SOLA yaslar"
   ]
  },
  {
   "cell_type": "code",
   "execution_count": null,
   "metadata": {},
   "outputs": [],
   "source": [
    "# sonsuz dongu nasil olur Dikkat yapmamak icin ogren:)\n",
    "\n",
    "list2 = [\"sonsuz dongu\"]    # 1 elemanli list\n",
    "\n",
    "for i in list2:         \n",
    "    print(i)                # her bir elemani yazdirir\n",
    "    list2.append(i)         # var olan listeye 5 elemani SUREKLI ekler --> infint\n",
    "    \n",
    "# eleman eklemek icin sifirdan bos bir lsite acip onun icine eleman eklemeli    \n"
   ]
  },
  {
   "cell_type": "code",
   "execution_count": 5,
   "metadata": {},
   "outputs": [
    {
     "name": "stdout",
     "output_type": "stream",
     "text": [
      "sonsuz dongu degil\n",
      "['sonsuz dongu degil']\n"
     ]
    }
   ],
   "source": [
    "list2 = [\"sonsuz dongu degil\"]  # 1 elemanli list\n",
    "\n",
    "bosList=[]\n",
    "\n",
    "for i in list2:\n",
    "    print(i)                    # tek bir elemani var 1 kere yazdirir\n",
    "    bosList.append(i)           # bagimsiz bos listeye i indexteki elemani ekler\n",
    "    \n",
    "print(bosList)    "
   ]
  },
  {
   "cell_type": "code",
   "execution_count": 9,
   "metadata": {},
   "outputs": [
    {
     "name": "stdout",
     "output_type": "stream",
     "text": [
      "1  -ceza olarak 50 adet bu ciktiyi yazdir..\n",
      "2  -ceza olarak 50 adet bu ciktiyi yazdir..\n",
      "3  -ceza olarak 50 adet bu ciktiyi yazdir..\n",
      "4  -ceza olarak 50 adet bu ciktiyi yazdir..\n",
      "5  -ceza olarak 50 adet bu ciktiyi yazdir..\n",
      "6  -ceza olarak 50 adet bu ciktiyi yazdir..\n",
      "7  -ceza olarak 50 adet bu ciktiyi yazdir..\n",
      "8  -ceza olarak 50 adet bu ciktiyi yazdir..\n",
      "9  -ceza olarak 50 adet bu ciktiyi yazdir..\n",
      "10 -ceza olarak 50 adet bu ciktiyi yazdir..\n",
      "11 -ceza olarak 50 adet bu ciktiyi yazdir..\n",
      "12 -ceza olarak 50 adet bu ciktiyi yazdir..\n",
      "13 -ceza olarak 50 adet bu ciktiyi yazdir..\n",
      "14 -ceza olarak 50 adet bu ciktiyi yazdir..\n",
      "15 -ceza olarak 50 adet bu ciktiyi yazdir..\n",
      "16 -ceza olarak 50 adet bu ciktiyi yazdir..\n",
      "17 -ceza olarak 50 adet bu ciktiyi yazdir..\n",
      "18 -ceza olarak 50 adet bu ciktiyi yazdir..\n",
      "19 -ceza olarak 50 adet bu ciktiyi yazdir..\n",
      "20 -ceza olarak 50 adet bu ciktiyi yazdir..\n",
      "21 -ceza olarak 50 adet bu ciktiyi yazdir..\n",
      "22 -ceza olarak 50 adet bu ciktiyi yazdir..\n",
      "23 -ceza olarak 50 adet bu ciktiyi yazdir..\n",
      "24 -ceza olarak 50 adet bu ciktiyi yazdir..\n",
      "25 -ceza olarak 50 adet bu ciktiyi yazdir..\n",
      "26 -ceza olarak 50 adet bu ciktiyi yazdir..\n",
      "27 -ceza olarak 50 adet bu ciktiyi yazdir..\n",
      "28 -ceza olarak 50 adet bu ciktiyi yazdir..\n",
      "29 -ceza olarak 50 adet bu ciktiyi yazdir..\n",
      "30 -ceza olarak 50 adet bu ciktiyi yazdir..\n",
      "31 -ceza olarak 50 adet bu ciktiyi yazdir..\n",
      "32 -ceza olarak 50 adet bu ciktiyi yazdir..\n",
      "33 -ceza olarak 50 adet bu ciktiyi yazdir..\n",
      "34 -ceza olarak 50 adet bu ciktiyi yazdir..\n",
      "35 -ceza olarak 50 adet bu ciktiyi yazdir..\n",
      "36 -ceza olarak 50 adet bu ciktiyi yazdir..\n",
      "37 -ceza olarak 50 adet bu ciktiyi yazdir..\n",
      "38 -ceza olarak 50 adet bu ciktiyi yazdir..\n",
      "39 -ceza olarak 50 adet bu ciktiyi yazdir..\n",
      "40 -ceza olarak 50 adet bu ciktiyi yazdir..\n",
      "41 -ceza olarak 50 adet bu ciktiyi yazdir..\n",
      "42 -ceza olarak 50 adet bu ciktiyi yazdir..\n",
      "43 -ceza olarak 50 adet bu ciktiyi yazdir..\n",
      "44 -ceza olarak 50 adet bu ciktiyi yazdir..\n",
      "45 -ceza olarak 50 adet bu ciktiyi yazdir..\n",
      "46 -ceza olarak 50 adet bu ciktiyi yazdir..\n",
      "47 -ceza olarak 50 adet bu ciktiyi yazdir..\n",
      "48 -ceza olarak 50 adet bu ciktiyi yazdir..\n",
      "49 -ceza olarak 50 adet bu ciktiyi yazdir..\n",
      "50 -ceza olarak 50 adet bu ciktiyi yazdir..\n"
     ]
    }
   ],
   "source": [
    "for i in range(1,51):       # 1 dahil- 51 haric ==> 50 adet dongu \n",
    "    print(f\"{i:<2} -ceza olarak 50 adet bu ciktiyi yazdir..\") # 1: satir no olarak tanimadik, 2 karaktere icinde sola yasladik, Cikti sayisi gorunur oldu"
   ]
  },
  {
   "cell_type": "code",
   "execution_count": 11,
   "metadata": {},
   "outputs": [
    {
     "name": "stdout",
     "output_type": "stream",
     "text": [
      "3 x 1 = 3\n",
      "3 x 2 = 6\n",
      "3 x 3 = 9\n",
      "3 x 4 = 12\n",
      "3 x 5 = 15\n",
      "3 x 6 = 18\n",
      "3 x 7 = 21\n",
      "3 x 8 = 24\n",
      "3 x 9 = 27\n"
     ]
    }
   ],
   "source": [
    "#ODEV 1\n",
    "#Kullanicidan 1(dahil) 9(dahil) arasinda 1 sayi isteyin\n",
    "#Bu sayinin carpim tablosunu olusturun\n",
    "\n",
    "number = int(input(\"1 ile 9 dahil aralikta bir sayi giriniz\"))\n",
    "\n",
    "for i in range(1,10):\n",
    "    print(f\"{number} x {i} = {number*i}\")   "
   ]
  },
  {
   "cell_type": "code",
   "execution_count": 6,
   "metadata": {},
   "outputs": [
    {
     "name": "stdout",
     "output_type": "stream",
     "text": [
      "9 x 1 = 9\n",
      "9 x 2 = 18\n",
      "9 x 3 = 27\n",
      "9 x 4 = 36\n",
      "9 x 5 = 45\n",
      "9 x 6 = 54\n",
      "9 x 7 = 63\n",
      "9 x 8 = 72\n",
      "9 x 9 = 81\n",
      "9 x 10 = 90\n"
     ]
    }
   ],
   "source": [
    "#ODEV 2\n",
    "#Kullanicidan 1(dahil) 9(dahil) arasinda 1 sayi isteyin\n",
    "#Bu sayinin carpim tablosunu olusturun\n",
    "# EGER kullanici gecersiz bir deger girdiyse tekrar dogru degeri girmesini isteyin\n",
    "\n",
    "#1.yol\n",
    "\n",
    "y = True\n",
    "while y:\n",
    "    number = int(input(\"1 ve 9 dahil bu aralikta bir sayi giriniz\"))\n",
    "    if 1 <= number <=9:\n",
    "        for i in range(1,11):\n",
    "            print(f\"{number} x {i} = {number*i}\")\n",
    "            \n",
    "        y=False\n",
    "        \n",
    "    else:\n",
    "        print(\"gecersiz sayi girdiniz, lutfen tekrar deneyiniz\")\n",
    "    \n"
   ]
  },
  {
   "cell_type": "code",
   "execution_count": 8,
   "metadata": {},
   "outputs": [
    {
     "name": "stdout",
     "output_type": "stream",
     "text": [
      "gecersiz sayi girdiniz, lutfen tekrar deneyiniz\n",
      "6 x 1 = 6\n",
      "6 x 2 = 12\n",
      "6 x 3 = 18\n",
      "6 x 4 = 24\n",
      "6 x 5 = 30\n",
      "6 x 6 = 36\n",
      "6 x 7 = 42\n",
      "6 x 8 = 48\n",
      "6 x 9 = 54\n",
      "6 x 10 = 60\n"
     ]
    }
   ],
   "source": [
    "#ODEV 2\n",
    "# Kullanicidan 1(dahil) 9(dahil) arasinda 1 sayi isteyin\n",
    "# Bu sayinin carpim tablosunu olusturun\n",
    "# EGER kullanici gecersiz bir deger girdiyse tekrar dogru degeri girmesini isteyin\n",
    "\n",
    "#2.yol\n",
    "\n",
    "while True:\n",
    "    number = int(input(\"1 ve 9 dahil bu aralikta bir sayi giriniz\"))\n",
    "    if 1 <= number <=9:\n",
    "        for i in range(1,11):\n",
    "            print(f\"{number} x {i} = {number*i}\")\n",
    "            \n",
    "        break\n",
    "        \n",
    "    else:\n",
    "        print(\"gecersiz sayi girdiniz, lutfen tekrar deneyiniz\")"
   ]
  },
  {
   "cell_type": "code",
   "execution_count": 13,
   "metadata": {},
   "outputs": [
    {
     "name": "stdout",
     "output_type": "stream",
     "text": [
      "gecersiz sayi girdiniz, lutfen tekrar deneyiniz\n",
      "gecersiz sayi girdiniz, lutfen tekrar deneyiniz\n",
      "en fazla 3 kez hatali giris yapabilirsiniz, kartiniz bloke olmustur\n"
     ]
    }
   ],
   "source": [
    "# 3.yol: sadece 3 deneme hakki vermek icin\n",
    "\n",
    "count = 0\n",
    "\n",
    "while True:\n",
    "    number = int(input(\"1 ve 9 dahil bu aralikta bir sayi giriniz\"))\n",
    "    count += 1\n",
    "    \n",
    "    if count == 3:\n",
    "        print(\"en fazla 3 kez hatali giris yapabilirsiniz, kartiniz bloke olmustur\")\n",
    "        break\n",
    "    \n",
    "    if 1 <= number <=9:   \n",
    "        for i in range(1,11):\n",
    "            print(f\"{number} x {i} = {number*i}\")\n",
    "            \n",
    "        break         \n",
    "    else:\n",
    "        print(\"gecersiz sayi girdiniz, lutfen tekrar deneyiniz\")            "
   ]
  },
  {
   "cell_type": "code",
   "execution_count": 8,
   "metadata": {},
   "outputs": [
    {
     "name": "stdout",
     "output_type": "stream",
     "text": [
      "1275\n"
     ]
    }
   ],
   "source": [
    "# orn: 1'den 50 dahil sayilar toplamini veren code yaziniz \n",
    "# (n * (n+1) / 2) --> 1'den n'e kadar olan sayilarin top veriri\n",
    "\n",
    "toplam =0\n",
    "for i in range(1,51):\n",
    "    toplam += i\n",
    "    \n",
    "print(toplam)"
   ]
  },
  {
   "cell_type": "code",
   "execution_count": 15,
   "metadata": {},
   "outputs": [
    {
     "name": "stdout",
     "output_type": "stream",
     "text": [
      "650\n"
     ]
    }
   ],
   "source": [
    "# orn: 1'den 50 dahil sayilar arasindaki Cift sayilarin toplamini veren code yaziniz \n",
    "toplam =0\n",
    "for i in range(1,51):\n",
    "    if i % 2 == 0:\n",
    "        toplam += i\n",
    "    \n",
    "print(toplam)"
   ]
  },
  {
   "cell_type": "code",
   "execution_count": 18,
   "metadata": {},
   "outputs": [
    {
     "name": "stdout",
     "output_type": "stream",
     "text": [
      "650\n"
     ]
    }
   ],
   "source": [
    "# 2.yol\n",
    "# orn: 1'den 50 dahil sayilar arasindaki Cift sayilarin toplamini veren code yaziniz \n",
    "toplam =0\n",
    "for i in range(0,51,2):\n",
    "    toplam += i\n",
    "    \n",
    "print(toplam)"
   ]
  },
  {
   "cell_type": "code",
   "execution_count": 19,
   "metadata": {},
   "outputs": [
    {
     "data": {
      "text/plain": [
       "650"
      ]
     },
     "execution_count": 19,
     "metadata": {},
     "output_type": "execute_result"
    }
   ],
   "source": [
    "sum(range(0,51,2))  # 2'ser artis miktari--> 0'den 51'e kadar olan saylar arasinda 2'er gider"
   ]
  },
  {
   "cell_type": "code",
   "execution_count": 9,
   "metadata": {},
   "outputs": [
    {
     "data": {
      "text/plain": [
       "1275"
      ]
     },
     "execution_count": 9,
     "metadata": {},
     "output_type": "execute_result"
    }
   ],
   "source": [
    "sum(range(1,51))    #-> sum() fonks verilen degerleri toplar # sum(0) fonks default degeri 0 sifirdir (toplamaya gore etkisiz eleman)"
   ]
  },
  {
   "cell_type": "code",
   "execution_count": 11,
   "metadata": {},
   "outputs": [
    {
     "data": {
      "text/plain": [
       "2275"
      ]
     },
     "execution_count": 11,
     "metadata": {},
     "output_type": "execute_result"
    }
   ],
   "source": [
    "sum(range(1,51), 1000)  # Sum() default degerini 1000 yaptigimiz icin 1000 sayisinin uzerine toplama islemini yapar"
   ]
  },
  {
   "cell_type": "code",
   "execution_count": 12,
   "metadata": {},
   "outputs": [
    {
     "data": {
      "text/plain": [
       "115"
      ]
     },
     "execution_count": 12,
     "metadata": {},
     "output_type": "execute_result"
    }
   ],
   "source": [
    "sum([True, 2,3,4,5],100)"
   ]
  },
  {
   "cell_type": "markdown",
   "metadata": {},
   "source": [
    "## break - continue "
   ]
  },
  {
   "cell_type": "code",
   "execution_count": 20,
   "metadata": {},
   "outputs": [
    {
     "name": "stdout",
     "output_type": "stream",
     "text": [
      "1\n",
      "4\n",
      "16\n"
     ]
    }
   ],
   "source": [
    "# 3 ve 3'un kati olan sayiya denk gelince code calismayi durdursun, diger durumlarda sayilarin karesini yazdirin\n",
    "list3 = [1,2,4,3,5,7]\n",
    "\n",
    "for i in list3:\n",
    "    \n",
    "    if i % 3 ==0:\n",
    "        break\n",
    "    else:\n",
    "        print(i**2)"
   ]
  },
  {
   "cell_type": "code",
   "execution_count": 2,
   "metadata": {},
   "outputs": [
    {
     "name": "stdout",
     "output_type": "stream",
     "text": [
      "1\n",
      "4\n",
      "16\n",
      "25\n",
      "49\n"
     ]
    }
   ],
   "source": [
    "# 3 ve 3'un kati olan sayiya denk gelince code devam etsin fakat islem yapmadan atlasin, diger durumlarda sayilarin karesini yazdirin\n",
    "list3 = [1,2,4,3,5,7]\n",
    "\n",
    "for i in list3:\n",
    "    \n",
    "    if i % 3 ==0:\n",
    "        pass\n",
    "    else:\n",
    "        print(i**2)"
   ]
  },
  {
   "cell_type": "markdown",
   "metadata": {},
   "source": [
    "## zip() Fonksiyonu"
   ]
  },
  {
   "cell_type": "code",
   "execution_count": null,
   "metadata": {},
   "outputs": [],
   "source": [
    "# zip() fonksnu Eleman sayisi en kucuk olana gore zipler\n",
    "# concat edilebilir datalari ayni index No'daki elemanlari tuple yapi icinde zipler \n",
    "# Note: 2 adet listi ziplersek dict yapisina uygun datalar elde edebiliriz"
   ]
  },
  {
   "cell_type": "code",
   "execution_count": 22,
   "metadata": {},
   "outputs": [],
   "source": [
    "a = [\"apple\", \"orange\", \"lemon\"]    # 3 adet elemani var\n",
    "b = [1,2,3]                         # 3 adet elemani var"
   ]
  },
  {
   "cell_type": "code",
   "execution_count": 23,
   "metadata": {},
   "outputs": [
    {
     "data": {
      "text/plain": [
       "<zip at 0x259c21be600>"
      ]
     },
     "execution_count": 23,
     "metadata": {},
     "output_type": "execute_result"
    }
   ],
   "source": [
    "zip(a,b)"
   ]
  },
  {
   "cell_type": "code",
   "execution_count": 24,
   "metadata": {},
   "outputs": [
    {
     "data": {
      "text/plain": [
       "[('apple', 1), ('orange', 2), ('lemon', 3)]"
      ]
     },
     "execution_count": 24,
     "metadata": {},
     "output_type": "execute_result"
    }
   ],
   "source": [
    "list(zip(a,b))  # list(fonks icinde yazildiginda elemanlari eslestirerek zipler)"
   ]
  },
  {
   "cell_type": "code",
   "execution_count": 27,
   "metadata": {},
   "outputs": [
    {
     "data": {
      "text/plain": [
       "[(1, 'apple'), (2, 'orange'), (3, 'lemon'), (5, 'pear')]"
      ]
     },
     "execution_count": 27,
     "metadata": {},
     "output_type": "execute_result"
    }
   ],
   "source": [
    "# verilen siralama ya gore ilk o kumenin elemanlarini yazdirir ve 2'li dict items lari olusturur lis icinde\n",
    "c = [\"apple\", \"orange\", \"lemon\",\"pear\"]    # 4 adet elemani var --> eleman sayisi kucuk olan listeye gore islem yapar\n",
    "d = [1,2,3,5,6]                            # 5 adet elemani var --> 5.indexteki eleman bosta kalir \n",
    "\n",
    "list(zip(d,c))                             # zip list eleman sayisi = eleman sayisi kucuk olan list'in eleman sayisina "
   ]
  },
  {
   "cell_type": "code",
   "execution_count": 28,
   "metadata": {},
   "outputs": [
    {
     "data": {
      "text/plain": [
       "{'apple': 1, 'orange': 2, 'lemon': 3, 'pear': 5}"
      ]
     },
     "execution_count": 28,
     "metadata": {},
     "output_type": "execute_result"
    }
   ],
   "source": [
    "dict(zip(c,d))      # zip() fonk: dict'e cevirmek icin uygun datalar olusturur -> (dict yapisi;  \"key\":\"value\")"
   ]
  },
  {
   "cell_type": "code",
   "execution_count": 1,
   "metadata": {},
   "outputs": [],
   "source": [
    "name = [\"betul\", \"Mert\", \"Can\"]\n",
    "age = [30,25,40]\n",
    "job = [\"dataScientist\", \"pythonDev\", \"dataAnalysist\"]"
   ]
  },
  {
   "cell_type": "code",
   "execution_count": 2,
   "metadata": {},
   "outputs": [
    {
     "data": {
      "text/plain": [
       "[('betul', 30, 'dataScientist'),\n",
       " ('Mert', 25, 'pythonDev'),\n",
       " ('Can', 40, 'dataAnalysist')]"
      ]
     },
     "execution_count": 2,
     "metadata": {},
     "output_type": "execute_result"
    }
   ],
   "source": [
    "list(zip(name, age, job))   # birden fazla listeyi de zipler, ayni index elemanlari bir tuple icinde toplar"
   ]
  },
  {
   "cell_type": "code",
   "execution_count": 3,
   "metadata": {},
   "outputs": [
    {
     "ename": "ValueError",
     "evalue": "dictionary update sequence element #0 has length 3; 2 is required",
     "output_type": "error",
     "traceback": [
      "\u001b[1;31m---------------------------------------------------------------------------\u001b[0m",
      "\u001b[1;31mValueError\u001b[0m                                Traceback (most recent call last)",
      "Cell \u001b[1;32mIn[3], line 1\u001b[0m\n\u001b[1;32m----> 1\u001b[0m \u001b[38;5;28;43mdict\u001b[39;49m\u001b[43m(\u001b[49m\u001b[38;5;28;43mzip\u001b[39;49m\u001b[43m(\u001b[49m\u001b[43mname\u001b[49m\u001b[43m,\u001b[49m\u001b[43m \u001b[49m\u001b[43mage\u001b[49m\u001b[43m,\u001b[49m\u001b[43m \u001b[49m\u001b[43mjob\u001b[49m\u001b[43m)\u001b[49m\u001b[43m)\u001b[49m\n",
      "\u001b[1;31mValueError\u001b[0m: dictionary update sequence element #0 has length 3; 2 is required"
     ]
    }
   ],
   "source": [
    "dict(zip(name, age, job))   # 2'den fazla liste ziplenirse dict yapisi icin kullanilamaz"
   ]
  },
  {
   "cell_type": "code",
   "execution_count": 32,
   "metadata": {},
   "outputs": [
    {
     "name": "stdout",
     "output_type": "stream",
     "text": [
      "name: betul , age: 30    , job: dataScientist  \n",
      "name: Mert  , age: 25    , job: pythonDev      \n",
      "name: Can   , age: 40    , job: dataAnalysist  \n"
     ]
    }
   ],
   "source": [
    "for i, j, k in zip(name, age, job):\n",
    "    print(f\"name: {i:<6}, age: {j:<6}, job: {k:<15}\")"
   ]
  },
  {
   "cell_type": "code",
   "execution_count": 34,
   "metadata": {},
   "outputs": [
    {
     "ename": "ValueError",
     "evalue": "too many values to unpack (expected 2)",
     "output_type": "error",
     "traceback": [
      "\u001b[1;31m---------------------------------------------------------------------------\u001b[0m",
      "\u001b[1;31mValueError\u001b[0m                                Traceback (most recent call last)",
      "Cell \u001b[1;32mIn[34], line 2\u001b[0m\n\u001b[0;32m      1\u001b[0m \u001b[38;5;66;03m# sadece 2 adet index i ve j degiskenleri verilirse\u001b[39;00m\n\u001b[1;32m----> 2\u001b[0m \u001b[38;5;28;01mfor\u001b[39;00m i, j, \u001b[38;5;129;01min\u001b[39;00m \u001b[38;5;28mzip\u001b[39m(name, age, job):                       \u001b[38;5;66;03m# 3 adet degisken icin 3 adet index no degeri olusturulmalidir (i,j,k)\u001b[39;00m\n\u001b[0;32m      3\u001b[0m     \u001b[38;5;28mprint\u001b[39m(\u001b[38;5;124mf\u001b[39m\u001b[38;5;124m\"\u001b[39m\u001b[38;5;124mname: \u001b[39m\u001b[38;5;132;01m{\u001b[39;00mi\u001b[38;5;132;01m:\u001b[39;00m\u001b[38;5;124m<6\u001b[39m\u001b[38;5;132;01m}\u001b[39;00m\u001b[38;5;124m, age: \u001b[39m\u001b[38;5;132;01m{\u001b[39;00mj\u001b[38;5;132;01m:\u001b[39;00m\u001b[38;5;124m<6\u001b[39m\u001b[38;5;132;01m}\u001b[39;00m\u001b[38;5;124m\"\u001b[39m)\n",
      "\u001b[1;31mValueError\u001b[0m: too many values to unpack (expected 2)"
     ]
    }
   ],
   "source": [
    "# sadece 2 adet index i ve j degiskenleri verilirse\n",
    "for i, j, in zip(name, age, job):                       # 3 adet degisken icin 3 adet index no temsili olusturulmalidir (i,j,k)\n",
    "    print(f\"name: {i:<6}, age: {j:<6}\")"
   ]
  },
  {
   "cell_type": "code",
   "execution_count": 35,
   "metadata": {},
   "outputs": [],
   "source": [
    "x = \"Techpro\"\n",
    "y = \"Cihan\"\n",
    "z = \"Ayse\"\n",
    "w = 12345"
   ]
  },
  {
   "cell_type": "code",
   "execution_count": 36,
   "metadata": {},
   "outputs": [
    {
     "ename": "TypeError",
     "evalue": "'int' object is not iterable",
     "output_type": "error",
     "traceback": [
      "\u001b[1;31m---------------------------------------------------------------------------\u001b[0m",
      "\u001b[1;31mTypeError\u001b[0m                                 Traceback (most recent call last)",
      "Cell \u001b[1;32mIn[36], line 1\u001b[0m\n\u001b[1;32m----> 1\u001b[0m \u001b[38;5;28mlist\u001b[39m(\u001b[38;5;28;43mzip\u001b[39;49m\u001b[43m(\u001b[49m\u001b[43mx\u001b[49m\u001b[43m,\u001b[49m\u001b[43my\u001b[49m\u001b[43m,\u001b[49m\u001b[43mz\u001b[49m\u001b[43m,\u001b[49m\u001b[43mw\u001b[49m\u001b[43m)\u001b[49m)\n",
      "\u001b[1;31mTypeError\u001b[0m: 'int' object is not iterable"
     ]
    }
   ],
   "source": [
    "list(zip(x,y,z,w))      # w degiskeni int dir--> iterable degildir"
   ]
  },
  {
   "cell_type": "code",
   "execution_count": 37,
   "metadata": {},
   "outputs": [
    {
     "data": {
      "text/plain": [
       "[('T', 'C', 'A'), ('e', 'i', 'y'), ('c', 'h', 's'), ('h', 'a', 'e')]"
      ]
     },
     "execution_count": 37,
     "metadata": {},
     "output_type": "execute_result"
    }
   ],
   "source": [
    "list(zip(x,y,z))"
   ]
  },
  {
   "cell_type": "code",
   "execution_count": 40,
   "metadata": {},
   "outputs": [
    {
     "data": {
      "text/plain": [
       "{'apple': 3, 'orange': 2}"
      ]
     },
     "execution_count": 40,
     "metadata": {},
     "output_type": "execute_result"
    }
   ],
   "source": [
    "c = [\"apple\", \"orange\", \"apple\"]    # 3 elemanli --> 2 elemani ayni -> tekrarlayan elemanin esletirildigi deger son degerdir,update etmis olur\n",
    "d = [1,2,3]                         # 3 elemanli --> apple=3 olarak en son guncellenmis oldu\n",
    "\n",
    "dict(zip(c,d))"
   ]
  },
  {
   "cell_type": "markdown",
   "metadata": {},
   "source": [
    "## enumerate() fonks"
   ]
  },
  {
   "cell_type": "code",
   "execution_count": null,
   "metadata": {},
   "outputs": [],
   "source": [
    "# iterable elemanlari olan bir datayi index 0 dan baslayarak(default) numaralandirir\n",
    "# iterable cikti verir--> for dongusu icinde tum iterable datalar kullanilabilir\n",
    "# sadece 1'er arttirir artis miktari degistirilemez\n",
    "# baslangic no degistirilebilir--> default degeri yerine girdigimiz sayi ile baslatabiliriz"
   ]
  },
  {
   "cell_type": "code",
   "execution_count": 41,
   "metadata": {},
   "outputs": [
    {
     "data": {
      "text/plain": [
       "['betul', 'Mert', 'Can']"
      ]
     },
     "execution_count": 41,
     "metadata": {},
     "output_type": "execute_result"
    }
   ],
   "source": [
    "name"
   ]
  },
  {
   "cell_type": "code",
   "execution_count": 42,
   "metadata": {},
   "outputs": [
    {
     "data": {
      "text/plain": [
       "<enumerate at 0x259c2740ef0>"
      ]
     },
     "execution_count": 42,
     "metadata": {},
     "output_type": "execute_result"
    }
   ],
   "source": [
    "enumerate(name)"
   ]
  },
  {
   "cell_type": "code",
   "execution_count": 43,
   "metadata": {},
   "outputs": [
    {
     "data": {
      "text/plain": [
       "[(0, 'betul'), (1, 'Mert'), (2, 'Can')]"
      ]
     },
     "execution_count": 43,
     "metadata": {},
     "output_type": "execute_result"
    }
   ],
   "source": [
    "list(enumerate(name))"
   ]
  },
  {
   "cell_type": "code",
   "execution_count": 45,
   "metadata": {},
   "outputs": [
    {
     "data": {
      "text/plain": [
       "[(100, 'betul'), (101, 'Mert'), (102, 'Can')]"
      ]
     },
     "execution_count": 45,
     "metadata": {},
     "output_type": "execute_result"
    }
   ],
   "source": [
    "list(enumerate(name, 100))  # deafult deger yerine verdigimiz sayidan baslatabiliriz numaralandirmaya"
   ]
  },
  {
   "cell_type": "code",
   "execution_count": 47,
   "metadata": {},
   "outputs": [],
   "source": [
    "# SORU: listenin min ve max degerleri arasindaki kayip sayilari bulun\n",
    "number_list = [48, 10, 11, 21, 36, 5, 6, 52, 28, 29,\n",
    "       53, 54, 45, 19, 20, 47, 55, 39, 41, 7,\n",
    "       9, 17, 26, 27, 42, 22, 37, 51, 46, 18,\n",
    "       44, 30, 34, 13, 15, 35, 33, 16, 50, 24]"
   ]
  },
  {
   "cell_type": "code",
   "execution_count": 48,
   "metadata": {},
   "outputs": [
    {
     "name": "stdout",
     "output_type": "stream",
     "text": [
      "[8, 12, 14, 23, 25, 31, 32, 38, 40, 43, 49]\n"
     ]
    }
   ],
   "source": [
    "# çözüm - 1\n",
    "kayıp_sayılar = []\n",
    "\n",
    "for i in range(min(number_list),max(number_list)):\n",
    "\n",
    "    if i not in number_list:\n",
    "        kayıp_sayılar.append(i)\n",
    "\n",
    "print(kayıp_sayılar)"
   ]
  },
  {
   "cell_type": "code",
   "execution_count": 49,
   "metadata": {},
   "outputs": [
    {
     "name": "stdout",
     "output_type": "stream",
     "text": [
      "[8, 12, 14, 23, 25, 31, 32, 38, 40, 43, 49]\n"
     ]
    }
   ],
   "source": [
    "# çözüm - 2\n",
    "kayıp_sayılar = []\n",
    "\n",
    "for i in range(min(number_list),max(number_list)):\n",
    "\n",
    "    if i in number_list:\n",
    "        continue\n",
    "    \n",
    "    kayıp_sayılar.append(i)\n",
    "\n",
    "print(kayıp_sayılar)"
   ]
  },
  {
   "cell_type": "code",
   "execution_count": 55,
   "metadata": {},
   "outputs": [
    {
     "data": {
      "text/plain": [
       "{5,\n",
       " 6,\n",
       " 7,\n",
       " 8,\n",
       " 9,\n",
       " 10,\n",
       " 11,\n",
       " 12,\n",
       " 13,\n",
       " 14,\n",
       " 15,\n",
       " 16,\n",
       " 17,\n",
       " 18,\n",
       " 19,\n",
       " 20,\n",
       " 21,\n",
       " 22,\n",
       " 23,\n",
       " 24,\n",
       " 25,\n",
       " 26,\n",
       " 27,\n",
       " 28,\n",
       " 29,\n",
       " 30,\n",
       " 31,\n",
       " 32,\n",
       " 33,\n",
       " 34,\n",
       " 35,\n",
       " 36,\n",
       " 37,\n",
       " 38,\n",
       " 39,\n",
       " 40,\n",
       " 41,\n",
       " 42,\n",
       " 43,\n",
       " 44,\n",
       " 45,\n",
       " 46,\n",
       " 47,\n",
       " 48,\n",
       " 49,\n",
       " 50,\n",
       " 51,\n",
       " 52,\n",
       " 53,\n",
       " 54}"
      ]
     },
     "execution_count": 55,
     "metadata": {},
     "output_type": "execute_result"
    }
   ],
   "source": [
    "set(range(min(number_list), max(number_list)))"
   ]
  },
  {
   "cell_type": "code",
   "execution_count": 50,
   "metadata": {},
   "outputs": [
    {
     "data": {
      "text/plain": [
       "{8, 12, 14, 23, 25, 31, 32, 38, 40, 43, 49}"
      ]
     },
     "execution_count": 50,
     "metadata": {},
     "output_type": "execute_result"
    }
   ],
   "source": [
    "#çözüm - 3\n",
    "\n",
    "full_set = set(range(min(number_list),max(number_list)))\n",
    "\n",
    "number_set = set(number_list)\n",
    "\n",
    "full_set - number_set"
   ]
  },
  {
   "cell_type": "code",
   "execution_count": null,
   "metadata": {},
   "outputs": [],
   "source": [
    "# ODEV: \n",
    "# Bir markete gittiniz. Markette her ürünün bir kod numarası var.\n",
    "# 1 : Elma 2 : Portakal 3 : Çilek 4 : Yumurta 5 : Havuç 6 : Armut ... vs. şeklinde.\n",
    "# Kullanıcıya almak istediği ürünü sorunuz ve kod numarası ile seçim yaptırınız. \n",
    "# Çıkış için \"q\" opsiyonunu sununuz. \n",
    "# Kullanıcının her ürün seçimi sonrası \" .... elma sepete eklendi\" gibi bir dönüt veriniz. \n",
    "# Kullanıcı ürün almaya devam ettikçe ürünleri bir listede toplayınız, almaktan vazgeçtiği durumda teşekkür edip, \n",
    "# aldığı toplam ürünleri çıktı veren bir kod yazınız.\n",
    "\n",
    "# Çıktı:\n",
    "# Teşekkür Ederiz...\n",
    "# Sepetinizde Bulunan Ürünler: elma, armut, yumurta ... vs."
   ]
  },
  {
   "cell_type": "code",
   "execution_count": 84,
   "metadata": {},
   "outputs": [
    {
     "name": "stdout",
     "output_type": "stream",
     "text": [
      "{0: 'Apple', 1: 'Orange', 2: 'Strawberry', 3: 'Pear', 4: 'Banana', 5: 'Pineapple', 6: 'Mango', 7: 'Avocado'}\n",
      "Pear added to your basket.\n",
      "Strawberry added to your basket.\n",
      "Banana added to your basket.\n",
      "Banana added to your basket.\n",
      "\n",
      "\n",
      "Thank you, Have nice day\n",
      "\n",
      "Products in Your Basket: ['Pear', 'Strawberry', 'Banana', 'Banana']\n"
     ]
    }
   ],
   "source": [
    "# 1.yol\n",
    "fruits_list = [\"Apple\", \"Orange\", \"Strawberry\", \"Pear\", \"Banana\", \"Pineapple\", \"Mango\", \"Avocado\"]\n",
    "fruits_codeList = dict(enumerate(fruits_list))\n",
    "print(fruits_codeList)\n",
    "\n",
    "your_products = []\n",
    "\n",
    "while True:\n",
    "    x = input(\"Welcome! Please enter the code number of the product you want to buy (Enter 'q' to exit): \")\n",
    "    \n",
    "    if x.lower() == \"q\":\n",
    "        print(\"\\n\\nThank you, Have nice day\")\n",
    "        break\n",
    "    \n",
    "    selected_product_number = int(x)\n",
    "    \n",
    "    if selected_product_number in fruits_codeList.keys():\n",
    "        \n",
    "        product = fruits_codeList[selected_product_number]\n",
    "        your_products.append(product)\n",
    "        print(f\"{product} added to your basket.\")\n",
    "        \n",
    "    else:\n",
    "        print(\"Invalid code number, Please try again.\")\n",
    "        \n",
    "if selected_product_number:\n",
    "    print(f\"\\nProducts in Your Basket: {your_products}\")\n",
    "else:\n",
    "    print(\"\\nThere are no products in your basket.\")\n",
    "        "
   ]
  },
  {
   "cell_type": "code",
   "execution_count": null,
   "metadata": {},
   "outputs": [],
   "source": [
    "#2.yol:\n",
    "ürünler = {1 : \"Elma\", 2 : \"Portakal\", 3 : \"Çilek\", 4 : \"Yumurta\", 5 : \"Havuç\", 6 : \"Armut\"}\n",
    "\n",
    "print(\"Marketimize Hoş geldiniz\")\n",
    "\n",
    "print(\"\"\"Ürünlerimiz:\n",
    "1 : \"Elma\",\n",
    "2 : \"Portakal\",\n",
    "3 : \"Çilek\", \n",
    "4 : \"Yumurta\",\n",
    "5 : \"Havuç\",\n",
    "6 : \"Armut\"     \n",
    "      \"\"\")\n",
    "\n",
    "sepet = []\n",
    "\n",
    "while True:\n",
    "\n",
    "    x = input(\"Almak istediğiniz ürünün kodunu giriniz. Ürün eklemeyi bitirdiğinizde q tuşuna basınız.\").lower()\n",
    "\n",
    "    if x != \"q\":\n",
    "        sepet.append(ürünler[int(x)])\n",
    "        print(f\"Sepete {ürünler[int(x)]} eklendi\")\n",
    "\n",
    "    elif x == \"q\":\n",
    "        print(\"Bizi tercih ettiğiniz için teşekkürler\")\n",
    "        print(f\"Almış olduğunuz ürünler: {sepet}\")\n",
    "        break"
   ]
  }
 ],
 "metadata": {
  "kernelspec": {
   "display_name": "Python 3",
   "language": "python",
   "name": "python3"
  },
  "language_info": {
   "codemirror_mode": {
    "name": "ipython",
    "version": 3
   },
   "file_extension": ".py",
   "mimetype": "text/x-python",
   "name": "python",
   "nbconvert_exporter": "python",
   "pygments_lexer": "ipython3",
   "version": "3.11.4"
  }
 },
 "nbformat": 4,
 "nbformat_minor": 2
}
