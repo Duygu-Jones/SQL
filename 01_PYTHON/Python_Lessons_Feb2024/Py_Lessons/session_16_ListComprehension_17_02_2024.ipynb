{
 "cells": [
  {
   "cell_type": "markdown",
   "metadata": {},
   "source": [
    "## List Comprehension"
   ]
  },
  {
   "cell_type": "code",
   "execution_count": null,
   "metadata": {},
   "outputs": [],
   "source": [
    "# List comp sadece for loop yapilarinda kullanilir\n",
    "# daha kisa code yazilmasini saglar\n",
    "# code suresini de kisaltir, hizli calisir\n",
    "# buyuk datalarda calisirken kolaylik saglar\n"
   ]
  },
  {
   "cell_type": "code",
   "execution_count": 1,
   "metadata": {},
   "outputs": [
    {
     "name": "stdout",
     "output_type": "stream",
     "text": [
      "[1, 4, 9, 16, 25]\n"
     ]
    }
   ],
   "source": [
    "# ORN: listenin tum elemanarinin karesini veren code yaziniz\n",
    "\n",
    "#1.yol: for loop\n",
    "\n",
    "list1= [1,2,3,4,5]\n",
    "\n",
    "emptyList =[]\n",
    "\n",
    "for i in list1:\n",
    "    emptyList.append(i ** 2)\n",
    "    \n",
    "print(emptyList)"
   ]
  },
  {
   "cell_type": "code",
   "execution_count": 2,
   "metadata": {},
   "outputs": [
    {
     "data": {
      "text/plain": [
       "[1, 4, 9, 16, 25]"
      ]
     },
     "execution_count": 2,
     "metadata": {},
     "output_type": "execute_result"
    }
   ],
   "source": [
    "# 2.yol: List Comprehension\n",
    "\n",
    "list1= [1,2,3,4,5]\n",
    "\n",
    "[i ** 2 for i in list1]     # for yalniz kullanildiginda en sona yazilir ve yapialcak islen basa yazilir"
   ]
  },
  {
   "cell_type": "code",
   "execution_count": 3,
   "metadata": {},
   "outputs": [
    {
     "data": {
      "text/plain": [
       "['renault!', 'polo*', 'ford?']"
      ]
     },
     "execution_count": 3,
     "metadata": {},
     "output_type": "execute_result"
    }
   ],
   "source": [
    "list2 = [\"renault!\", \"polo*\", \"ford?\"]\n",
    "list2"
   ]
  },
  {
   "cell_type": "code",
   "execution_count": 4,
   "metadata": {},
   "outputs": [
    {
     "name": "stdout",
     "output_type": "stream",
     "text": [
      "renault\n",
      "polo\n",
      "ford\n"
     ]
    }
   ],
   "source": [
    "for i in list2:\n",
    "    print(i.replace(\"!\",\"\").replace(\"*\",\"\").replace(\"?\",\"\"))    # replace icinde birden fazla karakter degistir diyemeyiz ama ardarda replace() fonk olarak kullanilabilir\n",
    "    "
   ]
  },
  {
   "cell_type": "code",
   "execution_count": 5,
   "metadata": {},
   "outputs": [
    {
     "name": "stdout",
     "output_type": "stream",
     "text": [
      "['renault', 'polo', 'ford']\n"
     ]
    }
   ],
   "source": [
    "duzenlenmisListe = []\n",
    "\n",
    "for i in list2:\n",
    "    duzenlenmisListe.append(i.strip(\"!*?\"))\n",
    "\n",
    "print(duzenlenmisListe)"
   ]
  },
  {
   "cell_type": "code",
   "execution_count": 6,
   "metadata": {},
   "outputs": [
    {
     "data": {
      "text/plain": [
       "['renault', 'polo', 'ford']"
      ]
     },
     "execution_count": 6,
     "metadata": {},
     "output_type": "execute_result"
    }
   ],
   "source": [
    "[(i.strip(\"!*?\")) for i in list2] # for döngüsünü tek başına kullanıyorsak işlem kısmını for'un sol tarafına-basina yazmamız lazım\n",
    "                                    # parantez () icine de alabilirsin"
   ]
  },
  {
   "cell_type": "code",
   "execution_count": 7,
   "metadata": {},
   "outputs": [
    {
     "name": "stdout",
     "output_type": "stream",
     "text": [
      "[1, 15, 5, 89, 45, 71, 45, 95, 61]\n"
     ]
    }
   ],
   "source": [
    "sayılar_listesi = [1,15,2,36,5,89,45,62,52,71,30,56,45,95,61,48]\n",
    "\n",
    "tek_sayılar = []\n",
    "\n",
    "for i in sayılar_listesi:\n",
    "    \n",
    "    if i % 2:                   # 2 ye tam bolunemeyen tek(odd) sayi demek --> i % 2 => True means odd / False means even number\n",
    "        tek_sayılar.append(i)\n",
    "\n",
    "print(tek_sayılar)"
   ]
  },
  {
   "cell_type": "markdown",
   "metadata": {},
   "source": [
    "## for + if List Comp"
   ]
  },
  {
   "cell_type": "code",
   "execution_count": 8,
   "metadata": {},
   "outputs": [
    {
     "data": {
      "text/plain": [
       "[1, 15, 5, 89, 45, 71, 45, 95, 61]"
      ]
     },
     "execution_count": 8,
     "metadata": {},
     "output_type": "execute_result"
    }
   ],
   "source": [
    "[ i for i in sayılar_listesi if i % 2 == 1]     # for _ if kullanilirken if yapisi for'un sagina / yapilacak islem ise soluna yazilir\n",
    "                                                # sayilar_listesi icinde i halinde i icin; Eger i tek sayi ise LISTELE"
   ]
  },
  {
   "cell_type": "code",
   "execution_count": 11,
   "metadata": {},
   "outputs": [
    {
     "data": {
      "text/plain": [
       "[2, 36, 62, 52, 30, 56, 48]"
      ]
     },
     "execution_count": 11,
     "metadata": {},
     "output_type": "execute_result"
    }
   ],
   "source": [
    "[ i for i in sayılar_listesi if i % 2 == 0 ]"
   ]
  },
  {
   "cell_type": "code",
   "execution_count": 12,
   "metadata": {},
   "outputs": [],
   "source": [
    "a = [  i for i in sayılar_listesi if i % 2 == 0 ].sort()    # sort bir listede islem yapar ama cikti vermez, degiskene de atasak cikti vermez!!!!!!!!!!!\n",
    "a   # ---> cikti none yok"
   ]
  },
  {
   "cell_type": "code",
   "execution_count": 13,
   "metadata": {},
   "outputs": [
    {
     "data": {
      "text/plain": [
       "[2, 36, 62, 52, 30, 56, 48]"
      ]
     },
     "execution_count": 13,
     "metadata": {},
     "output_type": "execute_result"
    }
   ],
   "source": [
    "b = [  i for i in sayılar_listesi if i % 2 == 0 ]\n",
    "b"
   ]
  },
  {
   "cell_type": "code",
   "execution_count": 14,
   "metadata": {},
   "outputs": [
    {
     "data": {
      "text/plain": [
       "[2, 36, 62, 52, 30, 56, 48]"
      ]
     },
     "execution_count": 14,
     "metadata": {},
     "output_type": "execute_result"
    }
   ],
   "source": [
    "b.sort  # daha once degiskene atanmis bir variable ile sort yapilirsa cikti alinir\n",
    "b       # ciktisi sort edilmis sekilde gelir"
   ]
  },
  {
   "cell_type": "markdown",
   "metadata": {},
   "source": [
    "## for + if + else"
   ]
  },
  {
   "cell_type": "code",
   "execution_count": 15,
   "metadata": {},
   "outputs": [
    {
     "name": "stdout",
     "output_type": "stream",
     "text": [
      "[1, 225, 2, 36, 25, 7921, 2025, 62, 52, 5041, 30, 56, 2025, 9025, 3721, 48]\n"
     ]
    }
   ],
   "source": [
    "# çift olanlar yerinde olduğu gibi kalsın, tek olanların karesini yazdırın\n",
    "\n",
    "#1.yol: for loop;\n",
    "\n",
    "sayılar_listesi = [1,15,2,36,5,89,45,62,52,71,30,56,45,95,61,48]\n",
    "\n",
    "sonuc = []\n",
    "\n",
    "for i in sayılar_listesi:\n",
    "    if i % 2 == 0:\n",
    "        sonuc.append(i)\n",
    "    else:\n",
    "        sonuc.append(i ** 2)\n",
    "print(sonuc)"
   ]
  },
  {
   "cell_type": "code",
   "execution_count": 16,
   "metadata": {},
   "outputs": [
    {
     "data": {
      "text/plain": [
       "[1, 225, 2, 36, 25, 7921, 2025, 62, 52, 5041, 30, 56, 2025, 9025, 3721, 48]"
      ]
     },
     "execution_count": 16,
     "metadata": {},
     "output_type": "execute_result"
    }
   ],
   "source": [
    "#2.yol: list comp;\n",
    "                                                    # for i en solda, diger islemler en basa if-else sirasiyla yazilir\n",
    "[ i if i%2==0 else i**2 for i in sayılar_listesi]   # \"i if i%2==0\": eger i, 2'ye tam bolunuyor ise i'yi oldugu gibi kullan demek"
   ]
  },
  {
   "cell_type": "code",
   "execution_count": 17,
   "metadata": {},
   "outputs": [
    {
     "name": "stdout",
     "output_type": "stream",
     "text": [
      "4\n",
      "5\n",
      "6\n",
      "8\n",
      "10\n",
      "12\n",
      "12\n",
      "15\n",
      "18\n"
     ]
    }
   ],
   "source": [
    "for i in (1,2,3):\n",
    "    for j in [4,5,6]:   \n",
    "        print(i * j)    # i=1 icin; 1x4, 1x5, 1x6 -->seklinde tek tek ixj capraz carpim yapar"
   ]
  },
  {
   "cell_type": "code",
   "execution_count": 18,
   "metadata": {},
   "outputs": [
    {
     "data": {
      "text/plain": [
       "[4, 5, 6, 8, 10, 12, 12, 15, 18]"
      ]
     },
     "execution_count": 18,
     "metadata": {},
     "output_type": "execute_result"
    }
   ],
   "source": [
    "[ i * j for i in (1,2,3) for j in [4,5,6]]  # nested yapida da kullanilir\n",
    "#islem ----FOR----------for-------------"
   ]
  }
 ],
 "metadata": {
  "kernelspec": {
   "display_name": "Python 3",
   "language": "python",
   "name": "python3"
  },
  "language_info": {
   "codemirror_mode": {
    "name": "ipython",
    "version": 3
   },
   "file_extension": ".py",
   "mimetype": "text/x-python",
   "name": "python",
   "nbconvert_exporter": "python",
   "pygments_lexer": "ipython3",
   "version": "3.11.4"
  }
 },
 "nbformat": 4,
 "nbformat_minor": 2
}
