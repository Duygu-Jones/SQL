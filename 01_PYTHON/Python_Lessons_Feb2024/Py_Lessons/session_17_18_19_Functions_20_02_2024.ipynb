{
 "cells": [
  {
   "cell_type": "markdown",
   "metadata": {},
   "source": [
    "## FUNCTIONS: method olusturma, kalip;"
   ]
  },
  {
   "cell_type": "markdown",
   "metadata": {},
   "source": [
    "def fonk_ismi (parameters):\n",
    "    islem_code_satirir    "
   ]
  },
  {
   "cell_type": "code",
   "execution_count": 19,
   "metadata": {},
   "outputs": [],
   "source": [
    "def kareler_toplami(x,y):   # x,y degiskenleri ile olsuturulan method\n",
    "    print(x ** 2 + y ** 2)  # bellekte method olusturulmustur, cikti vermek icin method call edilip degerler atanmalidir"
   ]
  },
  {
   "cell_type": "code",
   "execution_count": 20,
   "metadata": {},
   "outputs": [
    {
     "name": "stdout",
     "output_type": "stream",
     "text": [
      "25\n"
     ]
    }
   ],
   "source": [
    "kareler_toplami(3,4)        # method cagirma: parametrelere degerler atanir"
   ]
  },
  {
   "cell_type": "code",
   "execution_count": 21,
   "metadata": {},
   "outputs": [
    {
     "ename": "TypeError",
     "evalue": "kareler_toplami() missing 2 required positional arguments: 'x' and 'y'",
     "output_type": "error",
     "traceback": [
      "\u001b[1;31m---------------------------------------------------------------------------\u001b[0m",
      "\u001b[1;31mTypeError\u001b[0m                                 Traceback (most recent call last)",
      "Cell \u001b[1;32mIn[21], line 1\u001b[0m\n\u001b[1;32m----> 1\u001b[0m \u001b[43mkareler_toplami\u001b[49m\u001b[43m(\u001b[49m\u001b[43m)\u001b[49m\n",
      "\u001b[1;31mTypeError\u001b[0m: kareler_toplami() missing 2 required positional arguments: 'x' and 'y'"
     ]
    }
   ],
   "source": [
    "kareler_toplami()           # parametreli method bos birakilamaz"
   ]
  },
  {
   "cell_type": "code",
   "execution_count": 22,
   "metadata": {},
   "outputs": [
    {
     "ename": "TypeError",
     "evalue": "kareler_toplami() missing 1 required positional argument: 'y'",
     "output_type": "error",
     "traceback": [
      "\u001b[1;31m---------------------------------------------------------------------------\u001b[0m",
      "\u001b[1;31mTypeError\u001b[0m                                 Traceback (most recent call last)",
      "Cell \u001b[1;32mIn[22], line 1\u001b[0m\n\u001b[1;32m----> 1\u001b[0m \u001b[43mkareler_toplami\u001b[49m\u001b[43m(\u001b[49m\u001b[38;5;241;43m3\u001b[39;49m\u001b[43m)\u001b[49m\n",
      "\u001b[1;31mTypeError\u001b[0m: kareler_toplami() missing 1 required positional argument: 'y'"
     ]
    }
   ],
   "source": [
    "kareler_toplami(3)      # 2 parametreli ise 2 argument girilmelidir"
   ]
  },
  {
   "cell_type": "code",
   "execution_count": 2,
   "metadata": {},
   "outputs": [],
   "source": [
    "def kareler_toplamı_2(x, y):\n",
    "\n",
    "    \"\"\"Bu fonksiyon iki tane sayının karesini alır ve toplar\"\"\"     # method aciklamasi eklenecek ise (zorunlu degil) hemen method isminden sonra ilk satira yazilmalidir; genelde \"\"\" 3 tirnak kullanilir\n",
    "                                                                    # ayni zamanda fonk nun Documnet'i da denir; .__doc__ seklinde call edilebilir, \n",
    "    print(x ** 2 + y ** 2)"
   ]
  },
  {
   "cell_type": "code",
   "execution_count": 3,
   "metadata": {},
   "outputs": [
    {
     "data": {
      "text/plain": [
       "'Bu fonksiyon iki tane sayının karesini alır ve toplar'"
      ]
     },
     "execution_count": 3,
     "metadata": {},
     "output_type": "execute_result"
    }
   ],
   "source": [
    "kareler_toplamı_2.__doc__"
   ]
  },
  {
   "cell_type": "code",
   "execution_count": 4,
   "metadata": {},
   "outputs": [
    {
     "name": "stdout",
     "output_type": "stream",
     "text": [
      "Prints the values to a stream, or to sys.stdout by default.\n",
      "\n",
      "  sep\n",
      "    string inserted between values, default a space.\n",
      "  end\n",
      "    string appended after the last value, default a newline.\n",
      "  file\n",
      "    a file-like object (stream); defaults to the current sys.stdout.\n",
      "  flush\n",
      "    whether to forcibly flush the stream.\n"
     ]
    }
   ],
   "source": [
    "print(print.__doc__)    # ayni zamanda tum methodlarin doc' larini bu sekilde de call edebiliriz"
   ]
  },
  {
   "cell_type": "code",
   "execution_count": 5,
   "metadata": {},
   "outputs": [
    {
     "data": {
      "text/plain": [
       "'Return the number of items in a container.'"
      ]
     },
     "execution_count": 5,
     "metadata": {},
     "output_type": "execute_result"
    }
   ],
   "source": [
    "len.__doc__"
   ]
  },
  {
   "cell_type": "code",
   "execution_count": 24,
   "metadata": {},
   "outputs": [
    {
     "name": "stdout",
     "output_type": "stream",
     "text": [
      "Help on function kareler_toplamı_2 in module __main__:\n",
      "\n",
      "kareler_toplamı_2(x, y)\n",
      "    Bu fonksiyon iki tane sayının karesini alır ve toplar\n",
      "\n"
     ]
    }
   ],
   "source": [
    "help(kareler_toplamı_2) # help() methodu da aciklama getirir"
   ]
  },
  {
   "cell_type": "code",
   "execution_count": 33,
   "metadata": {},
   "outputs": [
    {
     "ename": "TypeError",
     "evalue": "unsupported operand type(s) for ** or pow(): 'list' and 'int'",
     "output_type": "error",
     "traceback": [
      "\u001b[1;31m---------------------------------------------------------------------------\u001b[0m",
      "\u001b[1;31mTypeError\u001b[0m                                 Traceback (most recent call last)",
      "Cell \u001b[1;32mIn[33], line 1\u001b[0m\n\u001b[1;32m----> 1\u001b[0m \u001b[43mkareler_toplamı_2\u001b[49m\u001b[43m(\u001b[49m\u001b[43m[\u001b[49m\u001b[38;5;241;43m1\u001b[39;49m\u001b[43m]\u001b[49m\u001b[43m,\u001b[49m\u001b[43m \u001b[49m\u001b[43m(\u001b[49m\u001b[38;5;241;43m3\u001b[39;49m\u001b[43m)\u001b[49m\u001b[43m)\u001b[49m \n",
      "Cell \u001b[1;32mIn[23], line 5\u001b[0m, in \u001b[0;36mkareler_toplamı_2\u001b[1;34m(x, y)\u001b[0m\n\u001b[0;32m      1\u001b[0m \u001b[38;5;28;01mdef\u001b[39;00m \u001b[38;5;21mkareler_toplamı_2\u001b[39m(x, y):\n\u001b[0;32m      3\u001b[0m \u001b[38;5;250m    \u001b[39m\u001b[38;5;124;03m\"\"\"Bu fonksiyon iki tane sayının karesini alır ve toplar\"\"\"\u001b[39;00m\n\u001b[1;32m----> 5\u001b[0m     \u001b[38;5;28mprint\u001b[39m(\u001b[43mx\u001b[49m\u001b[43m \u001b[49m\u001b[38;5;241;43m*\u001b[39;49m\u001b[38;5;241;43m*\u001b[39;49m\u001b[43m \u001b[49m\u001b[38;5;241;43m2\u001b[39;49m \u001b[38;5;241m+\u001b[39m y \u001b[38;5;241m*\u001b[39m\u001b[38;5;241m*\u001b[39m \u001b[38;5;241m2\u001b[39m)\n",
      "\u001b[1;31mTypeError\u001b[0m: unsupported operand type(s) for ** or pow(): 'list' and 'int'"
     ]
    }
   ],
   "source": [
    "kareler_toplamı_2([1], (3)) "
   ]
  },
  {
   "cell_type": "code",
   "execution_count": 25,
   "metadata": {},
   "outputs": [],
   "source": [
    "def kareler_toplamı_3(x, y):\n",
    "\n",
    "    print(x ** 2 + y ** 2)\n",
    "\n",
    "    \"\"\"Bu fonksiyon iki tane sayının karesini alır ve toplar\"\"\""
   ]
  },
  {
   "cell_type": "code",
   "execution_count": 26,
   "metadata": {},
   "outputs": [
    {
     "name": "stdout",
     "output_type": "stream",
     "text": [
      "Help on function kareler_toplamı_3 in module __main__:\n",
      "\n",
      "kareler_toplamı_3(x, y)\n",
      "\n"
     ]
    }
   ],
   "source": [
    "help(kareler_toplamı_3)"
   ]
  },
  {
   "cell_type": "code",
   "execution_count": 31,
   "metadata": {},
   "outputs": [],
   "source": [
    "# parametresiz method\n",
    "\n",
    "def neset_baba():\n",
    "    print(\"kadınlar insandır biz insanoğlu\")"
   ]
  },
  {
   "cell_type": "code",
   "execution_count": 32,
   "metadata": {},
   "outputs": [
    {
     "name": "stdout",
     "output_type": "stream",
     "text": [
      "kadınlar insandır biz insanoğlu\n"
     ]
    }
   ],
   "source": [
    "neset_baba()"
   ]
  },
  {
   "cell_type": "code",
   "execution_count": 34,
   "metadata": {},
   "outputs": [],
   "source": [
    "def calculator(num1,opr,num2):\n",
    "\n",
    "    if opr == \"+\":\n",
    "        print(num1 + num2)\n",
    "    elif opr == \"-\":\n",
    "        print(num1 - num2)\n",
    "    elif opr == \"x\":\n",
    "        print(num1 * num2)\n",
    "    elif opr == \"/\":\n",
    "        print(num1 / num2)\n",
    "    else:\n",
    "        print(\"Hatalı operatör girişi.\")"
   ]
  },
  {
   "cell_type": "code",
   "execution_count": 37,
   "metadata": {},
   "outputs": [
    {
     "name": "stdout",
     "output_type": "stream",
     "text": [
      "8\n"
     ]
    }
   ],
   "source": [
    "calculator(2,\"x\",4)"
   ]
  },
  {
   "cell_type": "code",
   "execution_count": 38,
   "metadata": {},
   "outputs": [
    {
     "name": "stdout",
     "output_type": "stream",
     "text": [
      "Hatalı operatör girişi.\n"
     ]
    }
   ],
   "source": [
    "calculator(\"/\", 8,2)"
   ]
  },
  {
   "cell_type": "code",
   "execution_count": 39,
   "metadata": {},
   "outputs": [
    {
     "name": "stdout",
     "output_type": "stream",
     "text": [
      "techpro\n"
     ]
    }
   ],
   "source": [
    "calculator(\"tech\", \"+\", \"pro\")  # string lerde concat islemi yapar"
   ]
  },
  {
   "cell_type": "code",
   "execution_count": 40,
   "metadata": {},
   "outputs": [
    {
     "ename": "TypeError",
     "evalue": "unsupported operand type(s) for -: 'str' and 'str'",
     "output_type": "error",
     "traceback": [
      "\u001b[1;31m---------------------------------------------------------------------------\u001b[0m",
      "\u001b[1;31mTypeError\u001b[0m                                 Traceback (most recent call last)",
      "Cell \u001b[1;32mIn[40], line 1\u001b[0m\n\u001b[1;32m----> 1\u001b[0m \u001b[43mcalculator\u001b[49m\u001b[43m(\u001b[49m\u001b[38;5;124;43m\"\u001b[39;49m\u001b[38;5;124;43mtech\u001b[39;49m\u001b[38;5;124;43m\"\u001b[39;49m\u001b[43m,\u001b[49m\u001b[43m \u001b[49m\u001b[38;5;124;43m\"\u001b[39;49m\u001b[38;5;124;43m-\u001b[39;49m\u001b[38;5;124;43m\"\u001b[39;49m\u001b[43m,\u001b[49m\u001b[43m \u001b[49m\u001b[38;5;124;43m\"\u001b[39;49m\u001b[38;5;124;43mpro\u001b[39;49m\u001b[38;5;124;43m\"\u001b[39;49m\u001b[43m)\u001b[49m  \u001b[38;5;66;03m# string lerde concat islemi yapar\u001b[39;00m\n",
      "Cell \u001b[1;32mIn[34], line 6\u001b[0m, in \u001b[0;36mcalculator\u001b[1;34m(num1, opr, num2)\u001b[0m\n\u001b[0;32m      4\u001b[0m     \u001b[38;5;28mprint\u001b[39m(num1 \u001b[38;5;241m+\u001b[39m num2)\n\u001b[0;32m      5\u001b[0m \u001b[38;5;28;01melif\u001b[39;00m opr \u001b[38;5;241m==\u001b[39m \u001b[38;5;124m\"\u001b[39m\u001b[38;5;124m-\u001b[39m\u001b[38;5;124m\"\u001b[39m:\n\u001b[1;32m----> 6\u001b[0m     \u001b[38;5;28mprint\u001b[39m(\u001b[43mnum1\u001b[49m\u001b[43m \u001b[49m\u001b[38;5;241;43m-\u001b[39;49m\u001b[43m \u001b[49m\u001b[43mnum2\u001b[49m)\n\u001b[0;32m      7\u001b[0m \u001b[38;5;28;01melif\u001b[39;00m opr \u001b[38;5;241m==\u001b[39m \u001b[38;5;124m\"\u001b[39m\u001b[38;5;124mx\u001b[39m\u001b[38;5;124m\"\u001b[39m:\n\u001b[0;32m      8\u001b[0m     \u001b[38;5;28mprint\u001b[39m(num1 \u001b[38;5;241m*\u001b[39m num2)\n",
      "\u001b[1;31mTypeError\u001b[0m: unsupported operand type(s) for -: 'str' and 'str'"
     ]
    }
   ],
   "source": [
    "calculator(\"tech\", \"-\", \"pro\")  # FAKAT string lerde cikarma islemi yapilamaz"
   ]
  },
  {
   "cell_type": "code",
   "execution_count": 41,
   "metadata": {},
   "outputs": [],
   "source": [
    "def my_len(x):\n",
    "    \"\"\" len fonk begenmedim kendi len fonk yaziyorum, Bu fonk bir iterable'in uzunlugunu verir\"\"\"\n",
    "    \n",
    "    sayac = 0\n",
    "    \n",
    "    for i in x:     # x datasi iterable olmalidir\n",
    "        sayac +=1\n",
    "        \n",
    "    print(sayac)"
   ]
  },
  {
   "cell_type": "code",
   "execution_count": 42,
   "metadata": {},
   "outputs": [
    {
     "ename": "TypeError",
     "evalue": "'int' object is not iterable",
     "output_type": "error",
     "traceback": [
      "\u001b[1;31m---------------------------------------------------------------------------\u001b[0m",
      "\u001b[1;31mTypeError\u001b[0m                                 Traceback (most recent call last)",
      "Cell \u001b[1;32mIn[42], line 1\u001b[0m\n\u001b[1;32m----> 1\u001b[0m \u001b[43mmy_len\u001b[49m\u001b[43m(\u001b[49m\u001b[38;5;241;43m1234\u001b[39;49m\u001b[43m)\u001b[49m\n",
      "Cell \u001b[1;32mIn[41], line 6\u001b[0m, in \u001b[0;36mmy_len\u001b[1;34m(x)\u001b[0m\n\u001b[0;32m      2\u001b[0m \u001b[38;5;250m\u001b[39m\u001b[38;5;124;03m\"\"\" len fonk begenmedim kendi len fonk yaziyorum, Bu fonk bir iterable'in uzunlugunu verir\"\"\"\u001b[39;00m\n\u001b[0;32m      4\u001b[0m sayac \u001b[38;5;241m=\u001b[39m \u001b[38;5;241m0\u001b[39m\n\u001b[1;32m----> 6\u001b[0m \u001b[38;5;28;01mfor\u001b[39;00m i \u001b[38;5;129;01min\u001b[39;00m x: \u001b[38;5;66;03m# x iterable olmaliydi\u001b[39;00m\n\u001b[0;32m      7\u001b[0m     sayac \u001b[38;5;241m+\u001b[39m\u001b[38;5;241m=\u001b[39m\u001b[38;5;241m1\u001b[39m\n\u001b[0;32m      9\u001b[0m \u001b[38;5;28mprint\u001b[39m(sayac)\n",
      "\u001b[1;31mTypeError\u001b[0m: 'int' object is not iterable"
     ]
    }
   ],
   "source": [
    "my_len(1234)    # iterable degil"
   ]
  },
  {
   "cell_type": "code",
   "execution_count": 44,
   "metadata": {},
   "outputs": [
    {
     "name": "stdout",
     "output_type": "stream",
     "text": [
      "7\n"
     ]
    }
   ],
   "source": [
    "my_len(\"techpro\")   # iterable "
   ]
  },
  {
   "cell_type": "code",
   "execution_count": 45,
   "metadata": {},
   "outputs": [
    {
     "name": "stdout",
     "output_type": "stream",
     "text": [
      "5\n"
     ]
    }
   ],
   "source": [
    "my_len([1,23,3,4,5])    # list ler zaten iterable"
   ]
  },
  {
   "cell_type": "code",
   "execution_count": null,
   "metadata": {},
   "outputs": [],
   "source": []
  },
  {
   "cell_type": "code",
   "execution_count": 51,
   "metadata": {},
   "outputs": [
    {
     "ename": "TypeError",
     "evalue": "'str' object cannot be interpreted as an integer",
     "output_type": "error",
     "traceback": [
      "\u001b[1;31m---------------------------------------------------------------------------\u001b[0m",
      "\u001b[1;31mTypeError\u001b[0m                                 Traceback (most recent call last)",
      "Cell \u001b[1;32mIn[51], line 10\u001b[0m\n\u001b[0;32m      7\u001b[0m basamak_sayısı \u001b[38;5;241m=\u001b[39m \u001b[38;5;28mlen\u001b[39m(x)\n\u001b[0;32m      8\u001b[0m toplam \u001b[38;5;241m=\u001b[39m \u001b[38;5;241m0\u001b[39m\n\u001b[1;32m---> 10\u001b[0m \u001b[38;5;28;01mfor\u001b[39;00m i \u001b[38;5;129;01min\u001b[39;00m \u001b[38;5;28;43mrange\u001b[39;49m\u001b[43m(\u001b[49m\u001b[43mx\u001b[49m\u001b[43m)\u001b[49m:                 \u001b[38;5;66;03m# x, input(string) bir datadir--> iterable\u001b[39;00m\n\u001b[0;32m     12\u001b[0m     toplam \u001b[38;5;241m+\u001b[39m\u001b[38;5;241m=\u001b[39m \u001b[38;5;28mint\u001b[39m(i) \u001b[38;5;241m*\u001b[39m\u001b[38;5;241m*\u001b[39m basamak_sayısı\n\u001b[0;32m     15\u001b[0m \u001b[38;5;28;01mif\u001b[39;00m toplam \u001b[38;5;241m==\u001b[39m \u001b[38;5;28mint\u001b[39m(x):\n",
      "\u001b[1;31mTypeError\u001b[0m: 'str' object cannot be interpreted as an integer"
     ]
    }
   ],
   "source": [
    "# ODEV: Kullanıcıdan aldığınız bir sayının Armstrong number olup olmadığını kontrol eden algoritmayı oluşturun\n",
    "# Armstrong Number: her bir rakaminin kuplerinin toplami kendisine esit sayilar\n",
    "# 153 >>> (1 ** 3) + (5 ** 3) + (3 ** 3) == 153\n",
    "\n",
    "x = input(\"lütfen bir sayı girin\")\n",
    "\n",
    "basamak_sayısı = len(x)\n",
    "toplam = 0\n",
    "\n",
    "for i in range(x):                 # x, input(string) bir datadir--> iterable\n",
    "\n",
    "    toplam += int(i) ** basamak_sayısı\n",
    "\n",
    "\n",
    "if toplam == int(x):\n",
    "    print(f\"Girdiginiz sayi: {x}. Bu sayı armstrong bir sayıdır.\")\n",
    "else:\n",
    "    print(f\"Girdiginiz sayi: {x}. Bu sayı armstrong değildir.\")"
   ]
  },
  {
   "cell_type": "code",
   "execution_count": 10,
   "metadata": {},
   "outputs": [],
   "source": [
    "# Perfect number belirleyen bir algoritma oluşturun. \n",
    "# Perfect number: pozitif tam bölenlerinin toplamı, kendisine eşit olan bir doğal sayıdır\n",
    "# 6 >>> 1, 2, 3\n",
    "\n",
    "def find_perfect_number(x):\n",
    "\n",
    "    tam_bölenler = []\n",
    "\n",
    "    for i in range(1, x):\n",
    "\n",
    "        if x % i == 0:\n",
    "            tam_bölenler.append(i)\n",
    "\n",
    "\n",
    "    if sum(tam_bölenler) == x:\n",
    "        print(f\"girilen sayı:{x} perfect sayıdır\")\n",
    "        \n",
    "    else:\n",
    "        print(f\"girilen sayı: {x} perfect sayı değildir\")\n",
    "            \n",
    "    print(f\"{x}: sayisinin tam bolenleri = {tam_bölenler}\")\n"
   ]
  },
  {
   "cell_type": "code",
   "execution_count": 12,
   "metadata": {},
   "outputs": [
    {
     "name": "stdout",
     "output_type": "stream",
     "text": [
      "girilen sayı: 60 perfect sayı değildir\n",
      "60: sayisinin tam bolenleri = [1, 2, 3, 4, 5, 6, 10, 12, 15, 20, 30]\n"
     ]
    }
   ],
   "source": [
    "find_perfect_number(60)"
   ]
  },
  {
   "cell_type": "markdown",
   "metadata": {},
   "source": [
    "## print() & return Fonk"
   ]
  },
  {
   "cell_type": "code",
   "execution_count": null,
   "metadata": {},
   "outputs": [],
   "source": [
    "\n",
    "# fonk sadece GOSTERSIN istersek print() fonk kullanilmali\n",
    "# Fakat fonk farkli bir yerde tekrar kullanmak istiyorsak RETURN() fonk kullanilmalidir\n",
    "\n",
    "# bir fonk gelecek sonucu tekrar kullanmak istiyorsak RETURN default fonk kullanilmali \n",
    "# RETURN bir fonk icinde kullanilir, print() gibi bagimsiz kullanilamaz\n",
    "# bir fonk icinde tek 1 tane RETURN kullanilir, dongulerde veya kosullarda tekrarlanabilir tabiki"
   ]
  },
  {
   "cell_type": "code",
   "execution_count": 13,
   "metadata": {},
   "outputs": [
    {
     "name": "stdout",
     "output_type": "stream",
     "text": [
      "hello world\n"
     ]
    }
   ],
   "source": [
    "print(\"hello world\")"
   ]
  },
  {
   "cell_type": "code",
   "execution_count": 14,
   "metadata": {},
   "outputs": [
    {
     "name": "stdout",
     "output_type": "stream",
     "text": [
      "hello world\n"
     ]
    }
   ],
   "source": [
    "a = print(\"hello world\")"
   ]
  },
  {
   "cell_type": "code",
   "execution_count": 15,
   "metadata": {},
   "outputs": [
    {
     "name": "stdout",
     "output_type": "stream",
     "text": [
      "None\n"
     ]
    }
   ],
   "source": [
    "print(a)"
   ]
  },
  {
   "cell_type": "code",
   "execution_count": 18,
   "metadata": {},
   "outputs": [
    {
     "name": "stdout",
     "output_type": "stream",
     "text": [
      "\n"
     ]
    },
    {
     "data": {
      "text/plain": [
       "NoneType"
      ]
     },
     "execution_count": 18,
     "metadata": {},
     "output_type": "execute_result"
    }
   ],
   "source": [
    "type(print())"
   ]
  },
  {
   "cell_type": "code",
   "execution_count": 20,
   "metadata": {},
   "outputs": [],
   "source": [
    "def calculator_1(num1,opr,num2):\n",
    "\n",
    "    if opr == \"+\":\n",
    "        print(num1 + num2)\n",
    "    elif opr == \"-\":\n",
    "        print(num1 - num2)\n",
    "    elif opr == \"x\":\n",
    "        print(num1 * num2)\n",
    "    elif opr == \"/\":\n",
    "        print(num1 / num2)\n",
    "    else:\n",
    "        print(\"Hatalı operatör girişi.\")"
   ]
  },
  {
   "cell_type": "code",
   "execution_count": 21,
   "metadata": {},
   "outputs": [
    {
     "name": "stdout",
     "output_type": "stream",
     "text": [
      "40\n"
     ]
    }
   ],
   "source": [
    "calculator_1(8,\"x\",5)"
   ]
  },
  {
   "cell_type": "code",
   "execution_count": 22,
   "metadata": {},
   "outputs": [
    {
     "name": "stdout",
     "output_type": "stream",
     "text": [
      "40\n"
     ]
    }
   ],
   "source": [
    "b= calculator_1(8,\"x\",5)"
   ]
  },
  {
   "cell_type": "code",
   "execution_count": 23,
   "metadata": {},
   "outputs": [
    {
     "name": "stdout",
     "output_type": "stream",
     "text": [
      "None\n"
     ]
    }
   ],
   "source": [
    "print(b)    # bir degeri tekrar kullanacksak print kullanlimamali, print onceki code'da birer kez calisirip icini bosaltir geriye \"none\" kaldi"
   ]
  },
  {
   "cell_type": "code",
   "execution_count": 24,
   "metadata": {},
   "outputs": [],
   "source": [
    "def calculator_2(num1,opr,num2):\n",
    "\n",
    "    if opr == \"+\":\n",
    "        return num1 + num2\n",
    "    elif opr == \"-\":\n",
    "        return num1 - num2\n",
    "    elif opr == \"x\":\n",
    "        return num1 * num2\n",
    "    elif opr == \"/\":\n",
    "        return num1 / num2\n",
    "    else:\n",
    "        return \"Hatalı operatör girişi.\""
   ]
  },
  {
   "cell_type": "code",
   "execution_count": 25,
   "metadata": {},
   "outputs": [
    {
     "data": {
      "text/plain": [
       "11"
      ]
     },
     "execution_count": 25,
     "metadata": {},
     "output_type": "execute_result"
    }
   ],
   "source": [
    "calculator_2(5,\"+\",6)"
   ]
  },
  {
   "cell_type": "code",
   "execution_count": 26,
   "metadata": {},
   "outputs": [],
   "source": [
    "c= calculator_2(5,\"+\",6)"
   ]
  },
  {
   "cell_type": "code",
   "execution_count": 27,
   "metadata": {},
   "outputs": [
    {
     "data": {
      "text/plain": [
       "11"
      ]
     },
     "execution_count": 27,
     "metadata": {},
     "output_type": "execute_result"
    }
   ],
   "source": [
    "c   # degerin kendisini calgirmak default return sayesinde geri dondurur"
   ]
  },
  {
   "cell_type": "code",
   "execution_count": 28,
   "metadata": {},
   "outputs": [],
   "source": [
    "def my_len_1(x):\n",
    "\n",
    "    \"\"\"len fonksiyonunu beğenmediğim için kendi fonksiyonumu yazıyorum. Bu fonksiyon bir iterable ın uzunluğunu verir\"\"\"\n",
    "\n",
    "    sayaç = 0\n",
    "\n",
    "    for i in x:\n",
    "        sayaç += 1\n",
    "\n",
    "    print(sayaç)"
   ]
  },
  {
   "cell_type": "code",
   "execution_count": 58,
   "metadata": {},
   "outputs": [
    {
     "data": {
      "text/plain": [
       "[1, 2, 3, 4, 5]"
      ]
     },
     "execution_count": 58,
     "metadata": {},
     "output_type": "execute_result"
    }
   ],
   "source": [
    "liste1 = [1,2,3,4,5]\n",
    "liste1"
   ]
  },
  {
   "cell_type": "code",
   "execution_count": 64,
   "metadata": {},
   "outputs": [
    {
     "name": "stdout",
     "output_type": "stream",
     "text": [
      "5\n"
     ]
    }
   ],
   "source": [
    "my_len_1(liste1)"
   ]
  },
  {
   "cell_type": "code",
   "execution_count": 62,
   "metadata": {},
   "outputs": [
    {
     "name": "stdout",
     "output_type": "stream",
     "text": [
      "5\n"
     ]
    }
   ],
   "source": [
    "d = my_len_1(liste1)"
   ]
  },
  {
   "cell_type": "code",
   "execution_count": 63,
   "metadata": {},
   "outputs": [],
   "source": [
    "d"
   ]
  },
  {
   "cell_type": "code",
   "execution_count": 45,
   "metadata": {},
   "outputs": [
    {
     "name": "stdout",
     "output_type": "stream",
     "text": [
      "None\n"
     ]
    }
   ],
   "source": [
    "print(d)        # print(), Variable olarak atanan fonk'dan gelen sonucu SADECE gosterir, baska bir islem yapmaz, none kalir\n",
    "                # bir fonk tekrar kullanilacak isse print ile olusturulmaz, bir islem yapmaz cunku"
   ]
  },
  {
   "cell_type": "code",
   "execution_count": 37,
   "metadata": {},
   "outputs": [
    {
     "ename": "TypeError",
     "evalue": "'NoneType' object cannot be interpreted as an integer",
     "output_type": "error",
     "traceback": [
      "\u001b[1;31m---------------------------------------------------------------------------\u001b[0m",
      "\u001b[1;31mTypeError\u001b[0m                                 Traceback (most recent call last)",
      "Cell \u001b[1;32mIn[37], line 1\u001b[0m\n\u001b[1;32m----> 1\u001b[0m \u001b[38;5;28mlist\u001b[39m(\u001b[38;5;28;43mrange\u001b[39;49m\u001b[43m(\u001b[49m\u001b[38;5;241;43m0\u001b[39;49m\u001b[43m,\u001b[49m\u001b[43md\u001b[49m\u001b[43m)\u001b[49m)\n",
      "\u001b[1;31mTypeError\u001b[0m: 'NoneType' object cannot be interpreted as an integer"
     ]
    }
   ],
   "source": [
    "list(range(0,d))"
   ]
  },
  {
   "cell_type": "code",
   "execution_count": null,
   "metadata": {},
   "outputs": [],
   "source": []
  },
  {
   "cell_type": "code",
   "execution_count": 29,
   "metadata": {},
   "outputs": [],
   "source": [
    "def my_len_2(x):\n",
    "\n",
    "    \"\"\"len fonksiyonunu beğenmediğim için kendi fonksiyonumu yazıyorum. Bu fonksiyon bir iterable ın uzunluğunu verir\"\"\"\n",
    "\n",
    "    sayaç = 0\n",
    "\n",
    "    for i in x:\n",
    "        sayaç += 1\n",
    "\n",
    "    return sayaç"
   ]
  },
  {
   "cell_type": "code",
   "execution_count": 65,
   "metadata": {},
   "outputs": [],
   "source": [
    "e = my_len_2(liste1)"
   ]
  },
  {
   "cell_type": "code",
   "execution_count": 34,
   "metadata": {},
   "outputs": [
    {
     "data": {
      "text/plain": [
       "5"
      ]
     },
     "execution_count": 34,
     "metadata": {},
     "output_type": "execute_result"
    }
   ],
   "source": [
    "e       "
   ]
  },
  {
   "cell_type": "code",
   "execution_count": 36,
   "metadata": {},
   "outputs": [
    {
     "data": {
      "text/plain": [
       "[0, 1, 2, 3, 4]"
      ]
     },
     "execution_count": 36,
     "metadata": {},
     "output_type": "execute_result"
    }
   ],
   "source": [
    "list(range(0,e))        "
   ]
  },
  {
   "cell_type": "code",
   "execution_count": 41,
   "metadata": {},
   "outputs": [
    {
     "name": "stdout",
     "output_type": "stream",
     "text": [
      "5\n"
     ]
    }
   ],
   "source": [
    "print(e)"
   ]
  },
  {
   "cell_type": "code",
   "execution_count": null,
   "metadata": {},
   "outputs": [],
   "source": [
    "# iki kenar bilgisi bilinen dik üçgenin hipotenüsünü bulan fonk yazın. Daha sonra üçgenin çevresini hesaplayın"
   ]
  },
  {
   "cell_type": "code",
   "execution_count": 1,
   "metadata": {},
   "outputs": [],
   "source": [
    "def hypo1(x,y):\n",
    "    print((x**2 + y**2) **0.5 )\n"
   ]
  },
  {
   "cell_type": "code",
   "execution_count": 67,
   "metadata": {},
   "outputs": [
    {
     "name": "stdout",
     "output_type": "stream",
     "text": [
      "5.0\n"
     ]
    }
   ],
   "source": [
    "hypo1(3,4)"
   ]
  },
  {
   "cell_type": "code",
   "execution_count": 2,
   "metadata": {},
   "outputs": [
    {
     "name": "stdout",
     "output_type": "stream",
     "text": [
      "5.0\n"
     ]
    },
    {
     "ename": "TypeError",
     "evalue": "unsupported operand type(s) for +: 'int' and 'NoneType'",
     "output_type": "error",
     "traceback": [
      "\u001b[1;31m---------------------------------------------------------------------------\u001b[0m",
      "\u001b[1;31mTypeError\u001b[0m                                 Traceback (most recent call last)",
      "Cell \u001b[1;32mIn[2], line 1\u001b[0m\n\u001b[1;32m----> 1\u001b[0m cevre \u001b[38;5;241m=\u001b[39m \u001b[38;5;241;43m3\u001b[39;49m\u001b[43m \u001b[49m\u001b[38;5;241;43m+\u001b[39;49m\u001b[43m \u001b[49m\u001b[38;5;241;43m4\u001b[39;49m\u001b[43m \u001b[49m\u001b[38;5;241;43m+\u001b[39;49m\u001b[43m \u001b[49m\u001b[43mhypo1\u001b[49m\u001b[43m(\u001b[49m\u001b[38;5;241;43m3\u001b[39;49m\u001b[43m,\u001b[49m\u001b[38;5;241;43m4\u001b[39;49m\u001b[43m)\u001b[49m  \u001b[38;5;66;03m# hypo1(3,4) den gelen sonuc \"NoneType\" dir bu nedenle int type'lar ile isleme alinmadi, bir sonuc dondurmedigi icin\u001b[39;00m\n\u001b[0;32m      2\u001b[0m                             \u001b[38;5;66;03m# icinde bulundugu fonk call edildiginde sadece anlik sonucu gosterir, isleme girmez\u001b[39;00m\n",
      "\u001b[1;31mTypeError\u001b[0m: unsupported operand type(s) for +: 'int' and 'NoneType'"
     ]
    }
   ],
   "source": [
    "cevre = 3 + 4 + hypo1(3,4)  # hypo1(3,4) den gelen sonuc \"NoneType\" dir bu nedenle int type'lar ile isleme alinmadi, bir sonuc dondurmedigi icin\n",
    "                            # icinde bulundugu fonk call edildiginde sadece anlik sonucu gosterir, isleme girmez"
   ]
  },
  {
   "cell_type": "code",
   "execution_count": 69,
   "metadata": {},
   "outputs": [],
   "source": [
    "def hypo2(x, y):\n",
    "\n",
    "    return (x ** 2 + y **2) ** 0.5"
   ]
  },
  {
   "cell_type": "code",
   "execution_count": 70,
   "metadata": {},
   "outputs": [
    {
     "data": {
      "text/plain": [
       "5.0"
      ]
     },
     "execution_count": 70,
     "metadata": {},
     "output_type": "execute_result"
    }
   ],
   "source": [
    "hypo2(3,4)"
   ]
  },
  {
   "cell_type": "code",
   "execution_count": 73,
   "metadata": {},
   "outputs": [
    {
     "data": {
      "text/plain": [
       "12.0"
      ]
     },
     "execution_count": 73,
     "metadata": {},
     "output_type": "execute_result"
    }
   ],
   "source": [
    "cevre2 = 3 + 4 + hypo2(3,4)     # hypo2(3,4) int olarak return ile geldigi icin kendisi ayni data typelar ile isleme girebilir, sonuc verir\n",
    "cevre2                         "
   ]
  },
  {
   "cell_type": "code",
   "execution_count": 78,
   "metadata": {},
   "outputs": [
    {
     "name": "stdout",
     "output_type": "stream",
     "text": [
      "odds:  [1, 15, 5, 89, 45, 71, 45, 95, 61]\n",
      "evens: [2, 36, 62, 52, 30, 56, 48]\n"
     ]
    }
   ],
   "source": [
    "# ORN: verilen listenin elemanlarini tek ve cift olan sayilarini ayri ayri yazidirin\n",
    "# klasik yol\n",
    "\n",
    "sayılar_listesi = [1,15,2,36,5,89,45,62,52,71,30,56,45,95,61,48]\n",
    "\n",
    "odds =[]\n",
    "evens = []\n",
    "\n",
    "for i in sayılar_listesi:\n",
    "    \n",
    "    if i%2 ==0:\n",
    "        evens.append(i)\n",
    "        \n",
    "    else:\n",
    "        odds.append(i)\n",
    "        \n",
    "print(\"odds: \", odds)\n",
    "print(\"evens:\",evens)    "
   ]
  },
  {
   "cell_type": "code",
   "execution_count": 95,
   "metadata": {},
   "outputs": [],
   "source": [
    "# verilen herhangi bir sayilar listesini odd ve even sayilarini ayiran fonk codu yaziniz\n",
    "\n",
    "# fonk/method ile olusturma\n",
    "\n",
    "def odd_even_numbers(givenList, whichOne):\n",
    "    \"\"\"Bu fonksiyon bir listenin elemanlarını sizin isteğinize göre tek'ler veya çift'ler olarak ayırır.\"\"\"\n",
    "    \n",
    "    odds =[]\n",
    "    evens = []\n",
    "\n",
    "    for i in givenList:\n",
    "        \n",
    "        if i%2 ==0:\n",
    "            evens.append(i)\n",
    "            \n",
    "        else:\n",
    "            odds.append(i)\n",
    "        \n",
    "    if whichOne == \"odds\":\n",
    "        return odds  \n",
    "    elif whichOne == \"evens\":\n",
    "        return evens\n",
    "    else:\n",
    "        print(\"gecersiz secim, lutfen tek veya cift kategorilerinden birini seciniz\")\n",
    "        \n"
   ]
  },
  {
   "cell_type": "code",
   "execution_count": 96,
   "metadata": {},
   "outputs": [],
   "source": [
    "sayılar_list2 = [1,15,2,36,5,89,45,62,52,71,30,56,45,95,61,48,22,345,34]"
   ]
  },
  {
   "cell_type": "code",
   "execution_count": 97,
   "metadata": {},
   "outputs": [
    {
     "data": {
      "text/plain": [
       "[1, 15, 5, 89, 45, 71, 45, 95, 61, 345]"
      ]
     },
     "execution_count": 97,
     "metadata": {},
     "output_type": "execute_result"
    }
   ],
   "source": [
    "odd_even_numbers(sayılar_list2, \"odds\")"
   ]
  },
  {
   "cell_type": "code",
   "execution_count": 98,
   "metadata": {},
   "outputs": [
    {
     "data": {
      "text/plain": [
       "[2, 36, 62, 52, 30, 56, 48, 22, 34]"
      ]
     },
     "execution_count": 98,
     "metadata": {},
     "output_type": "execute_result"
    }
   ],
   "source": [
    "odd_even_numbers(sayılar_list2,\"evens\")"
   ]
  },
  {
   "cell_type": "code",
   "execution_count": 99,
   "metadata": {},
   "outputs": [],
   "source": [
    "# ORN: girilen isim icerisindeki unlu harf sayisini bulunuz ve her bir unlu harf icin 1000 puan vererek puan kazandiran fonk kodunu yaziniz\n",
    "\n",
    "#1. print ile sonucu yazdir\n",
    "def adin_kadar_kazan(isminiz):\n",
    "    \"\"\"Bu fonksiyon ismin içindeki sesli harfleri bulur\"\"\"\n",
    "    \n",
    "    counter = 0\n",
    "    \n",
    "    for i in isminiz.lower():\n",
    "        if i in \"aeuio\":\n",
    "            counter +=1\n",
    "            \n",
    "    print(counter)"
   ]
  },
  {
   "cell_type": "code",
   "execution_count": 101,
   "metadata": {},
   "outputs": [
    {
     "name": "stdout",
     "output_type": "stream",
     "text": [
      "2\n"
     ]
    },
    {
     "ename": "TypeError",
     "evalue": "unsupported operand type(s) for *: 'NoneType' and 'int'",
     "output_type": "error",
     "traceback": [
      "\u001b[1;31m---------------------------------------------------------------------------\u001b[0m",
      "\u001b[1;31mTypeError\u001b[0m                                 Traceback (most recent call last)",
      "Cell \u001b[1;32mIn[101], line 1\u001b[0m\n\u001b[1;32m----> 1\u001b[0m \u001b[43madin_kadar_kazan\u001b[49m\u001b[43m(\u001b[49m\u001b[38;5;124;43m\"\u001b[39;49m\u001b[38;5;124;43mduygu\u001b[39;49m\u001b[38;5;124;43m\"\u001b[39;49m\u001b[43m)\u001b[49m\u001b[43m \u001b[49m\u001b[38;5;241;43m*\u001b[39;49m\u001b[43m \u001b[49m\u001b[38;5;241;43m1000\u001b[39;49m\n",
      "\u001b[1;31mTypeError\u001b[0m: unsupported operand type(s) for *: 'NoneType' and 'int'"
     ]
    }
   ],
   "source": [
    "adin_kadar_kazan(\"duygu\") * 1000    # print(counter) nedeniyle sonucu isleme almadi"
   ]
  },
  {
   "cell_type": "code",
   "execution_count": 105,
   "metadata": {},
   "outputs": [],
   "source": [
    "#2. return ile sonucu dondur\n",
    "def adin_kadar_kazan2(isminiz):\n",
    "    \"\"\"Bu fonksiyon ismin içindeki sesli harfleri bulur\"\"\"\n",
    "    \n",
    "    counter = 0\n",
    "    \n",
    "    for i in isminiz.lower():\n",
    "        if i in \"aeuio\":\n",
    "            counter +=1\n",
    "            \n",
    "    return counter"
   ]
  },
  {
   "cell_type": "code",
   "execution_count": 106,
   "metadata": {},
   "outputs": [
    {
     "data": {
      "text/plain": [
       "2000"
      ]
     },
     "execution_count": 106,
     "metadata": {},
     "output_type": "execute_result"
    }
   ],
   "source": [
    "adin_kadar_kazan2(\"duygu\") * 1000   # bu method icinde ise return ile sonuc donduruldu, amac sonucu gormek degil, islem icinde sonuc kullanilacak ise sonucu getirmektir"
   ]
  },
  {
   "cell_type": "code",
   "execution_count": 111,
   "metadata": {},
   "outputs": [
    {
     "name": "stdout",
     "output_type": "stream",
     "text": [
      "407 sayisi armstrong bir sayidir\n"
     ]
    }
   ],
   "source": [
    "# armstrong sayi bul\n",
    "\n",
    "sayi = input(\"bir sayi giriniz\")\n",
    "\n",
    "uzunluk = len(sayi)\n",
    "toplam = 0\n",
    "\n",
    "for i in sayi:\n",
    "    toplam += int(i) ** uzunluk\n",
    "    \n",
    "if toplam == int(sayi):\n",
    "    print(f\"{sayi} sayisi armstrong bir sayidir\")\n",
    "else:\n",
    "    print(f\"{sayi} sayisi armstrong bir sayi degildir\")"
   ]
  },
  {
   "cell_type": "code",
   "execution_count": 119,
   "metadata": {},
   "outputs": [
    {
     "ename": "SyntaxError",
     "evalue": "invalid syntax (4010600428.py, line 5)",
     "output_type": "error",
     "traceback": [
      "\u001b[1;36m  Cell \u001b[1;32mIn[119], line 5\u001b[1;36m\u001b[0m\n\u001b[1;33m    toplam = sum[int(i) ** len(sayi) for i in sayi]    # list Comprehention ile yazimi\u001b[0m\n\u001b[1;37m                                     ^\u001b[0m\n\u001b[1;31mSyntaxError\u001b[0m\u001b[1;31m:\u001b[0m invalid syntax\n"
     ]
    }
   ],
   "source": [
    "# armstrong sayi bul\n",
    "\n",
    "sayi = input(\"bir sayi giriniz\")\n",
    "\n",
    "toplam = sum([int(i) ** len(sayi) for i in sayi])    # list Comprehention ile yazimi\n",
    "    \n",
    "if toplam == int(sayi):\n",
    "    print(f\"{sayi} sayisi armstrong bir sayidir\")\n",
    "else:\n",
    "    print(f\"{sayi} sayisi armstrong bir sayi degildir\")"
   ]
  },
  {
   "cell_type": "code",
   "execution_count": 157,
   "metadata": {},
   "outputs": [],
   "source": [
    "# armstrong sayi bulan method olustur - method olustur\n",
    "def find_armstrong_1(x):\n",
    "    \n",
    "    x = str(x)\n",
    "    \n",
    "    if int(x) == sum([int(i) ** len(x) for i in x]):\n",
    "        print(f\"{x} sayisi bir armstrong sayidir\")\n",
    "    else:\n",
    "        print(f\"{x} sayisi bir armstrong sayi degildir\")\n",
    "    "
   ]
  },
  {
   "cell_type": "code",
   "execution_count": 122,
   "metadata": {},
   "outputs": [
    {
     "name": "stdout",
     "output_type": "stream",
     "text": [
      "153 sayisi bir armstrong sayidir\n"
     ]
    }
   ],
   "source": [
    "find_armstrong_1(153)"
   ]
  },
  {
   "cell_type": "code",
   "execution_count": 158,
   "metadata": {},
   "outputs": [],
   "source": [
    "#return ile fonk olusturma\n",
    "\n",
    "def find_armstrong_2(x):\n",
    "    \n",
    "    x = str(x)\n",
    "    \n",
    "    if int(x) == sum([int(i) ** len(x) for i in x]):\n",
    "        return int(x)       # sayi armstrong ise dondurur, degilse NONE birsey dondurmez\n",
    "    "
   ]
  },
  {
   "cell_type": "code",
   "execution_count": 159,
   "metadata": {},
   "outputs": [
    {
     "data": {
      "text/plain": [
       "153"
      ]
     },
     "execution_count": 159,
     "metadata": {},
     "output_type": "execute_result"
    }
   ],
   "source": [
    "find_armstrong_2(153)   "
   ]
  },
  {
   "cell_type": "code",
   "execution_count": 160,
   "metadata": {},
   "outputs": [
    {
     "data": {
      "text/plain": [
       "370"
      ]
     },
     "execution_count": 160,
     "metadata": {},
     "output_type": "execute_result"
    }
   ],
   "source": [
    "find_armstrong_2(370)"
   ]
  },
  {
   "cell_type": "code",
   "execution_count": 161,
   "metadata": {},
   "outputs": [
    {
     "data": {
      "text/plain": [
       "407"
      ]
     },
     "execution_count": 161,
     "metadata": {},
     "output_type": "execute_result"
    }
   ],
   "source": [
    "find_armstrong_2(407)"
   ]
  },
  {
   "cell_type": "code",
   "execution_count": 162,
   "metadata": {},
   "outputs": [],
   "source": [
    "find_armstrong_2(375)"
   ]
  },
  {
   "cell_type": "code",
   "execution_count": 168,
   "metadata": {},
   "outputs": [
    {
     "name": "stdout",
     "output_type": "stream",
     "text": [
      "CPU times: total: 31.2 ms\n",
      "Wall time: 23.4 ms\n"
     ]
    },
    {
     "data": {
      "text/plain": [
       "[1, 2, 3, 4, 5, 6, 7, 8, 9, 153, 370, 371, 407, 1634, 8208, 9474]"
      ]
     },
     "execution_count": 168,
     "metadata": {},
     "output_type": "execute_result"
    }
   ],
   "source": [
    "%%time          # calisma suresini tam zamanini verir\n",
    "\n",
    "result = []\n",
    "\n",
    "for i in range(1,10001):\n",
    "    if find_armstrong_2(i) != None:\n",
    "        result.append(i)\n",
    "result"
   ]
  },
  {
   "cell_type": "code",
   "execution_count": 169,
   "metadata": {},
   "outputs": [
    {
     "name": "stdout",
     "output_type": "stream",
     "text": [
      "CPU times: total: 0 ns\n",
      "Wall time: 16.7 ms\n"
     ]
    },
    {
     "data": {
      "text/plain": [
       "[1, 2, 3, 4, 5, 6, 7, 8, 9, 153, 370, 371, 407, 1634, 8208, 9474]"
      ]
     },
     "execution_count": 169,
     "metadata": {},
     "output_type": "execute_result"
    }
   ],
   "source": [
    "%%time  # List comp daha hizlidir\n",
    "\n",
    "[ i for i in range(1,10001) if find_armstrong_2(i) != None]"
   ]
  },
  {
   "cell_type": "code",
   "execution_count": 1,
   "metadata": {},
   "outputs": [],
   "source": [
    "def find_armstrong_3(x):\n",
    "    \n",
    "    x = str(x)\n",
    "\n",
    "    uzunluk = len(x)\n",
    "\n",
    "    if int(x) == sum([int(i) ** uzunluk for i in x]):\n",
    "        return int(x)\n",
    "    else:\n",
    "        return f\"{x} armstrong değildir\""
   ]
  },
  {
   "cell_type": "code",
   "execution_count": 3,
   "metadata": {},
   "outputs": [
    {
     "data": {
      "text/plain": [
       "153"
      ]
     },
     "execution_count": 3,
     "metadata": {},
     "output_type": "execute_result"
    }
   ],
   "source": [
    "find_armstrong_3(153)"
   ]
  },
  {
   "cell_type": "code",
   "execution_count": 171,
   "metadata": {},
   "outputs": [],
   "source": [
    "# ODEV: Prime (asal sayilari) number belirleyen bir algoritma oluşturun. \n",
    "# 2,3,5.. ---> 1 ve kendisinden baska bol olmayan sayilar;\n",
    "\n",
    "def find_prime_number1(x):\n",
    "    if x <=1:\n",
    "        return f\"{x} bir asal sayi DEGILDIR.\"\n",
    "    \n",
    "    for i in range(2, int(x ** 0.5) +1):\n",
    "        if x % i ==0:\n",
    "            return f\"{x} bir asal sayi DEGILDIR.\"\n",
    "    \n",
    "    return f\"{x} bir asal SAYIDIR\""
   ]
  },
  {
   "cell_type": "code",
   "execution_count": 218,
   "metadata": {},
   "outputs": [
    {
     "data": {
      "text/plain": [
       "'12 bir asal sayi DEGILDIR.'"
      ]
     },
     "execution_count": 218,
     "metadata": {},
     "output_type": "execute_result"
    }
   ],
   "source": [
    "find_prime_number1(12)"
   ]
  },
  {
   "cell_type": "code",
   "execution_count": 173,
   "metadata": {},
   "outputs": [
    {
     "data": {
      "text/plain": [
       "'57 bir asal sayi DEGILDIR.'"
      ]
     },
     "execution_count": 173,
     "metadata": {},
     "output_type": "execute_result"
    }
   ],
   "source": [
    "find_prime_number1(57)"
   ]
  },
  {
   "cell_type": "code",
   "execution_count": 199,
   "metadata": {},
   "outputs": [],
   "source": [
    "# Perfect number belirleyen bir algoritma oluşturun. \n",
    "# Perfect number: pozitif tam bölenlerinin toplamı, kendisine eşit olan bir doğal sayıdır\n",
    "# 6 >>> 1, 2, 3\n",
    "\n",
    "def find_perfect_number(x):\n",
    "\n",
    "    tam_bölenler = []\n",
    "\n",
    "    for i in range(1, x):\n",
    "\n",
    "        if x % i == 0:\n",
    "            tam_bölenler.append(i)\n",
    "\n",
    "\n",
    "    if sum(tam_bölenler) == x:\n",
    "        print(f\"girilen sayı:{x} perfect sayıdır\")\n",
    "        \n",
    "    else:\n",
    "        print(f\"girilen sayı: {x} perfect sayı değildir\")\n",
    "            \n",
    "    print(f\"{x}: sayisinin tam bolenleri = {tam_bölenler}\")"
   ]
  },
  {
   "cell_type": "code",
   "execution_count": 217,
   "metadata": {},
   "outputs": [
    {
     "name": "stdout",
     "output_type": "stream",
     "text": [
      "girilen sayı: 250 perfect sayı değildir\n",
      "250: sayisinin tam bolenleri = [1, 2, 5, 10, 25, 50, 125]\n"
     ]
    }
   ],
   "source": [
    "find_perfect_number(250)"
   ]
  },
  {
   "cell_type": "code",
   "execution_count": 225,
   "metadata": {},
   "outputs": [
    {
     "name": "stdout",
     "output_type": "stream",
     "text": [
      " 1 ile 55 arasindaki asal sayilar:  [2, 3, 5, 7, 11, 13, 17, 19, 23, 29, 31, 37, 41, 43, 47, 53]\n"
     ]
    }
   ],
   "source": [
    "# asal(prime) sayi bulan ve listeleyen algoritmayi yaziniz --> birlikte\n",
    "def find_prime_number2(x):\n",
    "        \n",
    "    if x <=1:\n",
    "        return False\n",
    "    \n",
    "    for i in range(2, int(x ** 0.5)+1):\n",
    "        if x % i ==0:\n",
    "            return False\n",
    "    \n",
    "    return True\n",
    "\n",
    "def prime_numbers(x):\n",
    "    find_prime_number2(x)\n",
    "    prime_numbers = [i for i in range(2,x+1) if find_prime_number2(i)]\n",
    "    return prime_numbers\n",
    "\n",
    "x = int(input(\"x degerini giriniz: \"))\n",
    "print(f\" 1 ile {x} arasindaki asal sayilar: \", prime_numbers(x))"
   ]
  },
  {
   "cell_type": "code",
   "execution_count": 223,
   "metadata": {},
   "outputs": [
    {
     "data": {
      "text/plain": [
       "[2, 3, 5, 7, 11, 13, 17, 19, 23, 29, 31, 37, 41, 43, 47]"
      ]
     },
     "execution_count": 223,
     "metadata": {},
     "output_type": "execute_result"
    }
   ],
   "source": [
    "prime_numbers(50)"
   ]
  },
  {
   "cell_type": "code",
   "execution_count": 220,
   "metadata": {},
   "outputs": [
    {
     "data": {
      "text/plain": [
       "'101 bir asal SAYIDIR'"
      ]
     },
     "execution_count": 220,
     "metadata": {},
     "output_type": "execute_result"
    }
   ],
   "source": [
    "find_prime_number2(101)"
   ]
  },
  {
   "cell_type": "code",
   "execution_count": 2,
   "metadata": {},
   "outputs": [
    {
     "name": "stdout",
     "output_type": "stream",
     "text": [
      "girdiginiz sayi: -6. girilen deger 1'den buyuk olmalidir\n"
     ]
    }
   ],
   "source": [
    "# asal sayi bulan ve listeleyen algoritmayi yaziniz --> birlikte\n",
    "\n",
    "x = int(input(\"pozitif bir sayi giriniz\"))\n",
    "\n",
    "if x > 1:\n",
    "    \n",
    "    count = 0\n",
    "    for i in range(2,x):    # en kucuk asal sayi 2'dir ve i, verilen sayi x'e kadar tum elemanlari gezer\n",
    "        if x % i == 0:\n",
    "            count +=1       # eger bir bol var ise count 1er artar --> count sabit kalir degismez ise bol yok demektir yani Asal dir\n",
    "            \n",
    "    if count == 0:\n",
    "        print(f\"{x} bir asal sayidir\")\n",
    "    else:\n",
    "        print(f\"{x} bir asal sayi degildir\")\n",
    "        \n",
    "else:\n",
    "    print(f\"girdiginiz sayi: {x}. girilen deger 1'den buyuk olmalidir\")\n",
    "            "
   ]
  },
  {
   "cell_type": "code",
   "execution_count": 7,
   "metadata": {},
   "outputs": [],
   "source": [
    "def find_prime_number3(x):\n",
    "    \"\"\"Bu fonk sayinin asal olup olmadigini bulur\"\"\"\n",
    "    \n",
    "    if x > 1:\n",
    "        \n",
    "        for i in range(2,x):\n",
    "            \n",
    "            if x % i == 0:\n",
    "                print(\"sayi asal degildir\")\n",
    "                break\n",
    "            else:\n",
    "                return f\"{x} sayisi asal sayidir\"\n",
    "            \n",
    "    else:\n",
    "        return f\"girdiginiz sayi {x}. 1'den buyuk bir deger giriniz\""
   ]
  },
  {
   "cell_type": "code",
   "execution_count": 8,
   "metadata": {},
   "outputs": [
    {
     "data": {
      "text/plain": [
       "'9 sayisi asal sayidir'"
      ]
     },
     "execution_count": 8,
     "metadata": {},
     "output_type": "execute_result"
    }
   ],
   "source": [
    "find_prime_number3(9)"
   ]
  },
  {
   "cell_type": "code",
   "execution_count": 11,
   "metadata": {},
   "outputs": [
    {
     "data": {
      "text/plain": [
       "[]"
      ]
     },
     "execution_count": 11,
     "metadata": {},
     "output_type": "execute_result"
    }
   ],
   "source": [
    "def find_prime_number4(x):\n",
    "\n",
    "    \"\"\"Bu fonsiyon sayının asalsayı olup olmadığını tespit eder.\"\"\"\n",
    "\n",
    "    if x > 1:\n",
    "\n",
    "        for i in range(2, x):\n",
    "\n",
    "            if x % i == 0:\n",
    "                break       # burada biter ise cikti None olur\n",
    "        \n",
    "        else:    \n",
    "            return x\n",
    "            \n",
    "    else:\n",
    "        return f\"girdiğiniz sayı {x}. 1 den büyük olmalıdır\"\n"
   ]
  },
  {
   "cell_type": "code",
   "execution_count": 13,
   "metadata": {},
   "outputs": [],
   "source": [
    "find_prime_number4(40)"
   ]
  },
  {
   "cell_type": "code",
   "execution_count": null,
   "metadata": {},
   "outputs": [],
   "source": [
    "# verilen araliktaki asal sayilari bulur ve yazdirir\n",
    "prime_numbers = []\n",
    "\n",
    "for i in range(1,500):\n",
    "    if find_prime_number4(i) != None: # number(4) fonks da cikti None degil ise demek yani asaldir\n",
    "        prime_numbers.append(i)\n",
    "\n",
    "prime_numbers"
   ]
  },
  {
   "cell_type": "markdown",
   "metadata": {},
   "source": [
    "## Positional and Keyword Arguments"
   ]
  },
  {
   "cell_type": "code",
   "execution_count": 16,
   "metadata": {},
   "outputs": [],
   "source": [
    "# parametre siralamasina arguman verilirken dikkat edilmelidir\n",
    "\n",
    "def my_name(first_name, last_name):     \n",
    "\n",
    "    print(f\"My name is {first_name} {last_name}\")"
   ]
  },
  {
   "cell_type": "code",
   "execution_count": 17,
   "metadata": {},
   "outputs": [
    {
     "name": "stdout",
     "output_type": "stream",
     "text": [
      "My name is Sedat ASLAN\n"
     ]
    }
   ],
   "source": [
    "my_name(\"Sedat\", \"ASLAN\")"
   ]
  },
  {
   "cell_type": "code",
   "execution_count": 18,
   "metadata": {},
   "outputs": [
    {
     "name": "stdout",
     "output_type": "stream",
     "text": [
      "My name is ASLAN Sedat\n"
     ]
    }
   ],
   "source": [
    "my_name(\"ASLAN\", \"Sedat\")"
   ]
  },
  {
   "cell_type": "code",
   "execution_count": 19,
   "metadata": {},
   "outputs": [
    {
     "name": "stdout",
     "output_type": "stream",
     "text": [
      "My name is Sedat ASLAN\n"
     ]
    }
   ],
   "source": [
    "my_name(last_name=\"ASLAN\", first_name=\"Sedat\")  # parametreleri assign ederek verirsek yerlerini degistirsekte hata olusmaz"
   ]
  },
  {
   "cell_type": "code",
   "execution_count": 20,
   "metadata": {},
   "outputs": [],
   "source": [
    "# belirli bir parametreye defaul olarak dondurecegi bir deger assign edilebilir\n",
    "# (default deger olur -> farkli bir deger girilmez ise bunu kullanir)\n",
    "\n",
    "def your_name(first_name, last_name = \"Erdal\"):     \n",
    "\n",
    "    print(f\"Your name is {first_name} {last_name}\")"
   ]
  },
  {
   "cell_type": "code",
   "execution_count": 21,
   "metadata": {},
   "outputs": [
    {
     "name": "stdout",
     "output_type": "stream",
     "text": [
      "Your name is Betül Erdal\n"
     ]
    }
   ],
   "source": [
    "your_name(\"Betül\")"
   ]
  },
  {
   "cell_type": "code",
   "execution_count": 22,
   "metadata": {},
   "outputs": [
    {
     "name": "stdout",
     "output_type": "stream",
     "text": [
      "Your name is Fulya Çelebi\n"
     ]
    }
   ],
   "source": [
    "your_name(\"Fulya\", \"Çelebi\")    # default degere yeniden deger atamasi da yapilabilir"
   ]
  },
  {
   "cell_type": "code",
   "execution_count": 23,
   "metadata": {},
   "outputs": [
    {
     "name": "stdout",
     "output_type": "stream",
     "text": [
      "Your name is Selahattin Erdal\n"
     ]
    }
   ],
   "source": [
    "your_name(\"Selahattin\")"
   ]
  },
  {
   "cell_type": "code",
   "execution_count": 24,
   "metadata": {},
   "outputs": [
    {
     "ename": "SyntaxError",
     "evalue": "positional argument follows keyword argument (1673891807.py, line 1)",
     "output_type": "error",
     "traceback": [
      "\u001b[1;36m  Cell \u001b[1;32mIn[24], line 1\u001b[1;36m\u001b[0m\n\u001b[1;33m    your_name(last_name= \"yıldız\", \"murat\") # önce positional olanlar\u001b[0m\n\u001b[1;37m                                          ^\u001b[0m\n\u001b[1;31mSyntaxError\u001b[0m\u001b[1;31m:\u001b[0m positional argument follows keyword argument\n"
     ]
    }
   ],
   "source": [
    "# önce positional olanlar; yani herhangi bir deger atanmamis parametrelerin konumuna gore yazilmasi zorunludur, \n",
    "# en son, degeri atanmis parametreler yazilmali\n",
    "\n",
    "your_name(last_name= \"yıldız\", \"murat\") "
   ]
  },
  {
   "cell_type": "code",
   "execution_count": 28,
   "metadata": {},
   "outputs": [],
   "source": [
    "def your_name_2(first_name, last_name, second_name = \"Ali\"):        # default degeri atanmis paramt en sondadir\n",
    "\n",
    "    print(f\"Your name is {first_name} {second_name} {last_name}\")"
   ]
  },
  {
   "cell_type": "code",
   "execution_count": 29,
   "metadata": {},
   "outputs": [
    {
     "name": "stdout",
     "output_type": "stream",
     "text": [
      "Your name is muhammet Ali akil\n"
     ]
    }
   ],
   "source": [
    "your_name_2(\"muhammet\", \"akil\") # second_name default degeri \"Ali\""
   ]
  },
  {
   "cell_type": "code",
   "execution_count": 30,
   "metadata": {},
   "outputs": [
    {
     "name": "stdout",
     "output_type": "stream",
     "text": [
      "Your name is muhammet veli akil\n"
     ]
    }
   ],
   "source": [
    "your_name_2(\"muhammet\", \"akil\", \"veli\")"
   ]
  },
  {
   "cell_type": "code",
   "execution_count": 31,
   "metadata": {},
   "outputs": [],
   "source": [
    "def tek_sayılar(a, b, c, d, e):     # bes adet eleman alabililir\n",
    "\n",
    "    tek_sayılar = []\n",
    "\n",
    "    for i in a,b,c,d,e:\n",
    "\n",
    "        if i % 2:\n",
    "            tek_sayılar.append(i)\n",
    "    return tek_sayılar"
   ]
  },
  {
   "cell_type": "code",
   "execution_count": 32,
   "metadata": {},
   "outputs": [
    {
     "data": {
      "text/plain": [
       "[75, 45, 15]"
      ]
     },
     "execution_count": 32,
     "metadata": {},
     "output_type": "execute_result"
    }
   ],
   "source": [
    "tek_sayılar(4,75,45,26,15)"
   ]
  },
  {
   "cell_type": "code",
   "execution_count": 33,
   "metadata": {},
   "outputs": [
    {
     "ename": "TypeError",
     "evalue": "tek_sayılar() missing 2 required positional arguments: 'd' and 'e'",
     "output_type": "error",
     "traceback": [
      "\u001b[1;31m---------------------------------------------------------------------------\u001b[0m",
      "\u001b[1;31mTypeError\u001b[0m                                 Traceback (most recent call last)",
      "Cell \u001b[1;32mIn[33], line 1\u001b[0m\n\u001b[1;32m----> 1\u001b[0m \u001b[43mtek_sayılar\u001b[49m\u001b[43m(\u001b[49m\u001b[38;5;241;43m4\u001b[39;49m\u001b[43m,\u001b[49m\u001b[38;5;241;43m75\u001b[39;49m\u001b[43m,\u001b[49m\u001b[38;5;241;43m45\u001b[39;49m\u001b[43m)\u001b[49m\n",
      "\u001b[1;31mTypeError\u001b[0m: tek_sayılar() missing 2 required positional arguments: 'd' and 'e'"
     ]
    }
   ],
   "source": [
    "tek_sayılar(4,75,45)    # method parametre sayisi kadar arguman verilmelidir, ne eksik ne fazla"
   ]
  },
  {
   "cell_type": "code",
   "execution_count": 34,
   "metadata": {},
   "outputs": [
    {
     "ename": "TypeError",
     "evalue": "tek_sayılar() missing 3 required positional arguments: 'c', 'd', and 'e'",
     "output_type": "error",
     "traceback": [
      "\u001b[1;31m---------------------------------------------------------------------------\u001b[0m",
      "\u001b[1;31mTypeError\u001b[0m                                 Traceback (most recent call last)",
      "Cell \u001b[1;32mIn[34], line 1\u001b[0m\n\u001b[1;32m----> 1\u001b[0m \u001b[43mtek_sayılar\u001b[49m\u001b[43m(\u001b[49m\u001b[38;5;241;43m4\u001b[39;49m\u001b[43m,\u001b[49m\u001b[38;5;241;43m15\u001b[39;49m\u001b[43m)\u001b[49m\n",
      "\u001b[1;31mTypeError\u001b[0m: tek_sayılar() missing 3 required positional arguments: 'c', 'd', and 'e'"
     ]
    }
   ],
   "source": [
    "tek_sayılar(4,15)"
   ]
  },
  {
   "cell_type": "markdown",
   "metadata": {},
   "source": [
    "## Arbitrary Number of Arguments(* args, **kwargs)"
   ]
  },
  {
   "cell_type": "markdown",
   "metadata": {},
   "source": [
    "#*args:  # (* parametre); parametre sayisi limitini ortadan kaldirir\n",
    "\n",
    "#ve verilen arguman(lar)i List olarak ele alir-return eder"
   ]
  },
  {
   "cell_type": "code",
   "execution_count": 37,
   "metadata": {},
   "outputs": [],
   "source": [
    "def tek_sayılar_2(* sayılar):       # (* parametre); parametre sayisi limitini ortadan kaldirir\n",
    "\n",
    "    odds = []\n",
    "\n",
    "    for i in sayılar:\n",
    "\n",
    "        if i % 2:\n",
    "            odds.append(i)\n",
    "            \n",
    "    return odds"
   ]
  },
  {
   "cell_type": "code",
   "execution_count": 38,
   "metadata": {},
   "outputs": [
    {
     "data": {
      "text/plain": [
       "[3, 35, 99, 43, 11, 3]"
      ]
     },
     "execution_count": 38,
     "metadata": {},
     "output_type": "execute_result"
    }
   ],
   "source": [
    "tek_sayılar_2(3,64,35,99,43,11,22,3,2,12,2) # method parametresi olarak istedigimiz kadar arguman verelibiliriz "
   ]
  },
  {
   "cell_type": "code",
   "execution_count": 39,
   "metadata": {},
   "outputs": [
    {
     "name": "stdout",
     "output_type": "stream",
     "text": [
      "\n"
     ]
    }
   ],
   "source": [
    "print()     # print; default parametresi de (*value) olarak atandigi icin her turlu calisiyor"
   ]
  },
  {
   "cell_type": "code",
   "execution_count": 40,
   "metadata": {},
   "outputs": [],
   "source": [
    "# verilen sayilardan tek ise karesini; cift ise 2 katini alan algoritmayi yaziniz\n",
    "\n",
    "def tek_çift(* sayılar):\n",
    "\n",
    "    result = []\n",
    "    for i in sayılar:\n",
    "        if i % 2 == 0:\n",
    "            result.append(i * 2)\n",
    "        else:\n",
    "            result.append(i ** 2)\n",
    "    \n",
    "    return result"
   ]
  },
  {
   "cell_type": "code",
   "execution_count": 41,
   "metadata": {},
   "outputs": [
    {
     "data": {
      "text/plain": [
       "[9, 112, 8, 4, 12, 8, 44, 196, 25, 88, 64]"
      ]
     },
     "execution_count": 41,
     "metadata": {},
     "output_type": "execute_result"
    }
   ],
   "source": [
    "tek_çift(3,56,4,2,6,4,22,98,5,44,32)"
   ]
  },
  {
   "cell_type": "code",
   "execution_count": 45,
   "metadata": {},
   "outputs": [],
   "source": [
    "def tek_cift_2(* sayilar):\n",
    "    \n",
    "    return [i*2 if i%2==0 else i**2 for i in sayilar]"
   ]
  },
  {
   "cell_type": "code",
   "execution_count": 46,
   "metadata": {},
   "outputs": [
    {
     "data": {
      "text/plain": [
       "[9, 8, 2809, 4, 268, 4, 25]"
      ]
     },
     "execution_count": 46,
     "metadata": {},
     "output_type": "execute_result"
    }
   ],
   "source": [
    "tek_cift_2(3,4,53,2,134,2,5)"
   ]
  },
  {
   "cell_type": "code",
   "execution_count": 48,
   "metadata": {},
   "outputs": [
    {
     "ename": "TypeError",
     "evalue": "unsupported operand type(s) for %: 'range' and 'int'",
     "output_type": "error",
     "traceback": [
      "\u001b[1;31m---------------------------------------------------------------------------\u001b[0m",
      "\u001b[1;31mTypeError\u001b[0m                                 Traceback (most recent call last)",
      "Cell \u001b[1;32mIn[48], line 1\u001b[0m\n\u001b[1;32m----> 1\u001b[0m \u001b[43mtek_cift_2\u001b[49m\u001b[43m(\u001b[49m\u001b[38;5;28;43mrange\u001b[39;49m\u001b[43m(\u001b[49m\u001b[38;5;241;43m1\u001b[39;49m\u001b[43m,\u001b[49m\u001b[38;5;241;43m10\u001b[39;49m\u001b[43m)\u001b[49m\u001b[43m)\u001b[49m\n",
      "Cell \u001b[1;32mIn[45], line 3\u001b[0m, in \u001b[0;36mtek_cift_2\u001b[1;34m(*sayilar)\u001b[0m\n\u001b[0;32m      1\u001b[0m \u001b[38;5;28;01mdef\u001b[39;00m \u001b[38;5;21mtek_cift_2\u001b[39m(\u001b[38;5;241m*\u001b[39m sayilar):\n\u001b[1;32m----> 3\u001b[0m     \u001b[38;5;28;01mreturn\u001b[39;00m \u001b[43m[\u001b[49m\u001b[43mi\u001b[49m\u001b[38;5;241;43m*\u001b[39;49m\u001b[38;5;241;43m2\u001b[39;49m\u001b[43m \u001b[49m\u001b[38;5;28;43;01mif\u001b[39;49;00m\u001b[43m \u001b[49m\u001b[43mi\u001b[49m\u001b[38;5;241;43m%\u001b[39;49m\u001b[38;5;241;43m2\u001b[39;49m\u001b[38;5;241;43m==\u001b[39;49m\u001b[38;5;241;43m0\u001b[39;49m\u001b[43m \u001b[49m\u001b[38;5;28;43;01melse\u001b[39;49;00m\u001b[43m \u001b[49m\u001b[43mi\u001b[49m\u001b[38;5;241;43m*\u001b[39;49m\u001b[38;5;241;43m*\u001b[39;49m\u001b[38;5;241;43m2\u001b[39;49m\u001b[43m \u001b[49m\u001b[38;5;28;43;01mfor\u001b[39;49;00m\u001b[43m \u001b[49m\u001b[43mi\u001b[49m\u001b[43m \u001b[49m\u001b[38;5;129;43;01min\u001b[39;49;00m\u001b[43m \u001b[49m\u001b[43msayilar\u001b[49m\u001b[43m]\u001b[49m\n",
      "Cell \u001b[1;32mIn[45], line 3\u001b[0m, in \u001b[0;36m<listcomp>\u001b[1;34m(.0)\u001b[0m\n\u001b[0;32m      1\u001b[0m \u001b[38;5;28;01mdef\u001b[39;00m \u001b[38;5;21mtek_cift_2\u001b[39m(\u001b[38;5;241m*\u001b[39m sayilar):\n\u001b[1;32m----> 3\u001b[0m     \u001b[38;5;28;01mreturn\u001b[39;00m [i\u001b[38;5;241m*\u001b[39m\u001b[38;5;241m2\u001b[39m \u001b[38;5;28;01mif\u001b[39;00m \u001b[43mi\u001b[49m\u001b[38;5;241;43m%\u001b[39;49m\u001b[38;5;241;43m2\u001b[39;49m\u001b[38;5;241m==\u001b[39m\u001b[38;5;241m0\u001b[39m \u001b[38;5;28;01melse\u001b[39;00m i\u001b[38;5;241m*\u001b[39m\u001b[38;5;241m*\u001b[39m\u001b[38;5;241m2\u001b[39m \u001b[38;5;28;01mfor\u001b[39;00m i \u001b[38;5;129;01min\u001b[39;00m sayilar]\n",
      "\u001b[1;31mTypeError\u001b[0m: unsupported operand type(s) for %: 'range' and 'int'"
     ]
    }
   ],
   "source": [
    "tek_cift_2(range(1,10))"
   ]
  },
  {
   "cell_type": "code",
   "execution_count": 49,
   "metadata": {},
   "outputs": [
    {
     "data": {
      "text/plain": [
       "[1, 4, 9, 8, 25, 12, 49, 16, 81]"
      ]
     },
     "execution_count": 49,
     "metadata": {},
     "output_type": "execute_result"
    }
   ],
   "source": [
    "tek_cift_2(* range(1,10))   # yildiz vermek zorundayiz ayni data type olustrumasi icin--> range ile sayilari uretir ve *args olarak bu yapiyi algilar"
   ]
  },
  {
   "cell_type": "code",
   "execution_count": 51,
   "metadata": {},
   "outputs": [
    {
     "name": "stdout",
     "output_type": "stream",
     "text": [
      "d u y g u\n"
     ]
    }
   ],
   "source": [
    "print(* \"duygu\") # *args yapisinda dondurur"
   ]
  },
  {
   "cell_type": "markdown",
   "metadata": {},
   "source": [
    "## **kwargs"
   ]
  },
  {
   "cell_type": "code",
   "execution_count": null,
   "metadata": {},
   "outputs": [],
   "source": [
    "# **kwargs larin, *args lardan farki dict yapida olmasidir"
   ]
  },
  {
   "cell_type": "code",
   "execution_count": 52,
   "metadata": {},
   "outputs": [
    {
     "data": {
      "text/plain": [
       "{'name1': 'seyda', 'name2': 'medine', 'name3': 'orkun'}"
      ]
     },
     "execution_count": 52,
     "metadata": {},
     "output_type": "execute_result"
    }
   ],
   "source": [
    "dict_1 = {\"name1\": \"seyda\", \"name2\": \"medine\", \"name3\": \"orkun\"}\n",
    "dict_1"
   ]
  },
  {
   "cell_type": "code",
   "execution_count": 55,
   "metadata": {},
   "outputs": [],
   "source": [
    "def kwargs_function(** kwargs):\n",
    "    \n",
    "    for i,j in kwargs.items():\n",
    "        print(f\"key: {i}, value: {j}\")"
   ]
  },
  {
   "cell_type": "code",
   "execution_count": 56,
   "metadata": {},
   "outputs": [
    {
     "name": "stdout",
     "output_type": "stream",
     "text": [
      "key: name4, value: Oguz\n",
      "key: name5, value: Murat\n"
     ]
    }
   ],
   "source": [
    "kwargs_function(name4 = \"Oguz\", name5 = \"Murat\")"
   ]
  },
  {
   "cell_type": "code",
   "execution_count": 57,
   "metadata": {},
   "outputs": [
    {
     "ename": "TypeError",
     "evalue": "kwargs_function() takes 0 positional arguments but 1 was given",
     "output_type": "error",
     "traceback": [
      "\u001b[1;31m---------------------------------------------------------------------------\u001b[0m",
      "\u001b[1;31mTypeError\u001b[0m                                 Traceback (most recent call last)",
      "Cell \u001b[1;32mIn[57], line 1\u001b[0m\n\u001b[1;32m----> 1\u001b[0m \u001b[43mkwargs_function\u001b[49m\u001b[43m(\u001b[49m\u001b[43mdict_1\u001b[49m\u001b[43m)\u001b[49m\n",
      "\u001b[1;31mTypeError\u001b[0m: kwargs_function() takes 0 positional arguments but 1 was given"
     ]
    }
   ],
   "source": [
    "kwargs_function(dict_1)"
   ]
  },
  {
   "cell_type": "code",
   "execution_count": 58,
   "metadata": {},
   "outputs": [
    {
     "name": "stdout",
     "output_type": "stream",
     "text": [
      "key: name1, value: seyda\n",
      "key: name2, value: medine\n",
      "key: name3, value: orkun\n"
     ]
    }
   ],
   "source": [
    "kwargs_function(** dict_1)  # dict oldugunu algilamasi icin ** kwargs yapisini belirtmemiz gerekiyor"
   ]
  },
  {
   "cell_type": "code",
   "execution_count": null,
   "metadata": {},
   "outputs": [],
   "source": [
    "# ODEV:\n",
    "# Anne, baba ve çocuktan oluşan çekirdek ailenin Süper aile olup olmadığını bulan kodu yazın. \n",
    "    # isimleri kullanıcıdan isteyin. (Çocuğun ismindeki sessiz harflerin hepsi, anne ve babanın isimlerinde var ise bu aile süper ailedir.\n",
    "    # (Not: anne ve baba isminden en az bir tane olmalı.). örn1: baba adı = \"Halil\", anne adı= \"Merve\", çocuk adı= \"Veli\" >> Süper aile. \n",
    "    # (\"v\" anneden, \"l\" babadan) örn2: baba adı = \"Murat\", anne adı= \"Songül\", çocuk adı= \"Mert\" >> Süper aile değil. Anneden harf yok. "
   ]
  },
  {
   "cell_type": "code",
   "execution_count": 4,
   "metadata": {},
   "outputs": [],
   "source": [
    "def super_family(mom_name, dad_name, child_name):\n",
    "       \n",
    "    mom_name = set(mom_name.lower())\n",
    "    dad_name = set(dad_name.lower())\n",
    "    child_name = set(child_name.lower())\n",
    "    slience_letters = set(\"bcdfghjklmnprstvyz\")\n",
    "    \n",
    "    child_sl = child_name & slience_letters\n",
    "    \n",
    "    if (child_sl & mom_name) and (child_sl & dad_name) and child_sl.issubset(mom_name | dad_name):\n",
    "        print(\"You have a super Family name\")\n",
    "        \n",
    "    else:\n",
    "        print(\"Sorry, You do not have a super Family name\")    "
   ]
  },
  {
   "cell_type": "code",
   "execution_count": 7,
   "metadata": {},
   "outputs": [
    {
     "name": "stdout",
     "output_type": "stream",
     "text": [
      "You have a super Family name\n"
     ]
    }
   ],
   "source": [
    "super_family(\"Sussan\",\"Steve\",\"Seven\")"
   ]
  },
  {
   "cell_type": "code",
   "execution_count": 8,
   "metadata": {},
   "outputs": [
    {
     "name": "stdout",
     "output_type": "stream",
     "text": [
      "Sorry, You do not have a super Family name\n"
     ]
    }
   ],
   "source": [
    "super_family(\"Heidi\",\"Steve\",\"Selen\")"
   ]
  },
  {
   "cell_type": "code",
   "execution_count": 10,
   "metadata": {},
   "outputs": [
    {
     "name": "stdout",
     "output_type": "stream",
     "text": [
      "çocuğa isim bile koyamadınız\n"
     ]
    }
   ],
   "source": [
    "# Hocanin cozumu -1\n",
    "\n",
    "baba = input(\"baba için isim girin\").lower()\n",
    "anne = input(\"anne için isim girin\").lower()\n",
    "cocuk = input(\"çocuk isim girin\").lower()\n",
    "\n",
    "cocuk_sessiz_harfler = \"\"\n",
    "\n",
    "for i in cocuk:\n",
    "    if i not in \"aeiıuüoö\":\n",
    "        cocuk_sessiz_harfler += i\n",
    "\n",
    "if len(set(anne) & set(cocuk_sessiz_harfler)) > 0 and len(set(baba) & set(cocuk_sessiz_harfler)) > 0 and set(cocuk_sessiz_harfler).issubset(set(anne) | set(baba)):\n",
    "    print(\"bu aile süper ailedir\")\n",
    "    \n",
    "else:\n",
    "    print(\"çocuğa isim bile koyamadınız\")\n"
   ]
  },
  {
   "cell_type": "code",
   "execution_count": 9,
   "metadata": {},
   "outputs": [],
   "source": [
    "# Hocanin cozumu -2\n",
    "\n",
    "def super_aile(anne,baba,cocuk):\n",
    "\n",
    "    anne = anne.lower()\n",
    "    baba = baba.lower()\n",
    "    cocuk = cocuk.lower()\n",
    "\n",
    "    cocuk_sessiz_harfler = \"\"\n",
    "\n",
    "    for i in cocuk:\n",
    "        if i not in \"aeiıuüoö\":\n",
    "            cocuk_sessiz_harfler += i\n",
    "\n",
    "    if len(set(anne) & set(cocuk_sessiz_harfler)) > 0 and len(set(baba) & set(cocuk_sessiz_harfler)) > 0 and set(cocuk_sessiz_harfler).issubset(set(anne) | set(baba)):\n",
    "        print(\"bu aile süper ailedir\")\n",
    "        \n",
    "    else:\n",
    "        print(\"çocuğa isim bile koyamadınız\")\n"
   ]
  },
  {
   "cell_type": "code",
   "execution_count": 12,
   "metadata": {},
   "outputs": [
    {
     "name": "stdout",
     "output_type": "stream",
     "text": [
      "çocuğa isim bile koyamadınız\n"
     ]
    }
   ],
   "source": [
    "super_aile(\"Ahmet\", \"Elif\", \"Feli\")"
   ]
  },
  {
   "cell_type": "code",
   "execution_count": null,
   "metadata": {},
   "outputs": [],
   "source": []
  },
  {
   "cell_type": "code",
   "execution_count": null,
   "metadata": {},
   "outputs": [],
   "source": []
  },
  {
   "cell_type": "code",
   "execution_count": null,
   "metadata": {},
   "outputs": [],
   "source": []
  }
 ],
 "metadata": {
  "kernelspec": {
   "display_name": "Python 3",
   "language": "python",
   "name": "python3"
  },
  "language_info": {
   "codemirror_mode": {
    "name": "ipython",
    "version": 3
   },
   "file_extension": ".py",
   "mimetype": "text/x-python",
   "name": "python",
   "nbconvert_exporter": "python",
   "pygments_lexer": "ipython3",
   "version": "3.11.4"
  }
 },
 "nbformat": 4,
 "nbformat_minor": 2
}
