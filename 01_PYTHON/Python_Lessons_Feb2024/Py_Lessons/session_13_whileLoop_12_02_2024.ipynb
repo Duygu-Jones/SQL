{
 "cells": [
  {
   "cell_type": "markdown",
   "metadata": {},
   "source": [
    "# LOOPS"
   ]
  },
  {
   "cell_type": "markdown",
   "metadata": {},
   "source": [
    "# 1.while"
   ]
  },
  {
   "cell_type": "code",
   "execution_count": null,
   "metadata": {},
   "outputs": [],
   "source": [
    "while 10 > 4:           #çalıştırma sonsuz döngü. yada sen bilirsin. istersen çalıştır\n",
    "    print(\"bu döngü sonsuza kadar çalışır\")"
   ]
  },
  {
   "cell_type": "code",
   "execution_count": 10,
   "metadata": {},
   "outputs": [
    {
     "name": "stdout",
     "output_type": "stream",
     "text": [
      "bu döngü koşul sağlandıkçe çıktı verir.\n",
      "bu döngü koşul sağlandıkçe çıktı verir.\n",
      "bu döngü koşul sağlandıkçe çıktı verir.\n",
      "bu döngü koşul sağlandıkçe çıktı verir.\n",
      "bu döngü koşul sağlandıkçe çıktı verir.\n",
      "bu döngü koşul sağlandıkçe çıktı verir.\n"
     ]
    }
   ],
   "source": [
    "x = 4\n",
    "\n",
    "while 10 > x:\n",
    "    print(\"bu döngü koşul sağlandıkçe çıktı verir.\")\n",
    "    x = x + 1\n"
   ]
  },
  {
   "cell_type": "code",
   "execution_count": 12,
   "metadata": {},
   "outputs": [
    {
     "name": "stdout",
     "output_type": "stream",
     "text": [
      "1\n",
      "2\n",
      "3\n",
      "4\n",
      "5\n",
      "6\n",
      "7\n",
      "8\n",
      "9\n"
     ]
    }
   ],
   "source": [
    "x = 1\n",
    "\n",
    "while x < 10:\n",
    "    print(x)\n",
    "    x = x + 1"
   ]
  },
  {
   "cell_type": "code",
   "execution_count": null,
   "metadata": {},
   "outputs": [],
   "source": [
    "x = 1\n",
    "\n",
    "while x < 10:\n",
    "    print(x)\n",
    "\n",
    "x = x + 1       # artis yon işlemi döngü içinde olmadığı için sonsuza gider."
   ]
  },
  {
   "cell_type": "code",
   "execution_count": 14,
   "metadata": {},
   "outputs": [
    {
     "name": "stdout",
     "output_type": "stream",
     "text": [
      "2\n",
      "3\n",
      "4\n",
      "5\n",
      "6\n",
      "7\n",
      "8\n",
      "9\n",
      "10\n"
     ]
    }
   ],
   "source": [
    "x = 1\n",
    "\n",
    "while x < 10:\n",
    "    x = x + 1\n",
    "    print(x)"
   ]
  },
  {
   "cell_type": "code",
   "execution_count": 15,
   "metadata": {},
   "outputs": [],
   "source": [
    "while False:\n",
    "    print(\"sanki çıktı vermeyecek gbi\")"
   ]
  },
  {
   "cell_type": "code",
   "execution_count": 16,
   "metadata": {},
   "outputs": [],
   "source": [
    "while \"\":\n",
    "    print(\"bu da çıktı vermez\")"
   ]
  },
  {
   "cell_type": "code",
   "execution_count": null,
   "metadata": {},
   "outputs": [],
   "source": [
    "while True: # çalıştırma sonsuz döngü\n",
    "    print(\"Bu kod her türlü çıktı verir. \")"
   ]
  },
  {
   "cell_type": "code",
   "execution_count": null,
   "metadata": {},
   "outputs": [],
   "source": [
    "x=1\n",
    "while True:\n",
    "    print(\"sonsuza kadar gider\")\n",
    "    x +=1"
   ]
  },
  {
   "cell_type": "code",
   "execution_count": 1,
   "metadata": {},
   "outputs": [
    {
     "name": "stdout",
     "output_type": "stream",
     "text": [
      "While condition False olana kadar calisir\n"
     ]
    }
   ],
   "source": [
    "y=True\n",
    "while y:\n",
    "    print(\"While condition False olana kadar calisir\")\n",
    "    y=False"
   ]
  },
  {
   "cell_type": "code",
   "execution_count": null,
   "metadata": {},
   "outputs": [],
   "source": [
    "#calistirma\n",
    "y=True\n",
    "while y:\n",
    "    print(\"While condition False olana kadar calisir\")\n",
    "    \n",
    "y=False         #bu dongu sonsuza gider, dongu disina cikamadigi icin false goremez"
   ]
  },
  {
   "cell_type": "code",
   "execution_count": 3,
   "metadata": {},
   "outputs": [
    {
     "name": "stdout",
     "output_type": "stream",
     "text": [
      "deneme: 1\n",
      "deneme: 2\n",
      "deneme: 3\n",
      "Dongu bitti, (x !<= 3)\n"
     ]
    }
   ],
   "source": [
    "x=1\n",
    "\n",
    "while x<= 3:\n",
    "    print(f\"deneme: {x}\")   #--> icine \"f\" string eklenerek {} ile degiskeni string olark yazabilirz\n",
    "    x += 1\n",
    "    \n",
    "print(\"Dongu bitti, (x !<= 3)\")    "
   ]
  },
  {
   "cell_type": "code",
   "execution_count": 6,
   "metadata": {},
   "outputs": [
    {
     "name": "stdout",
     "output_type": "stream",
     "text": [
      "x= 1, x**2= 1\n",
      "x= 2, x**2= 4\n",
      "x= 3, x**2= 9\n",
      "x= 4, x**2= 16\n",
      "x= 5, x**2= 25\n"
     ]
    }
   ],
   "source": [
    "x=1\n",
    "\n",
    "while x <= 5:\n",
    "    x**2\n",
    "    print(f\"x= {x}, x**2= {x**2}\")\n",
    "    x+=1  "
   ]
  },
  {
   "cell_type": "code",
   "execution_count": 8,
   "metadata": {},
   "outputs": [
    {
     "name": "stdout",
     "output_type": "stream",
     "text": [
      "89 --> yanlis tahmin, tekrar dene\n"
     ]
    }
   ],
   "source": [
    "x= int(input(\"kilo tahmini; 10'luk degerer giriniz\"))\n",
    "\n",
    "while x<90:\n",
    "    print(f\"{x} --> yanlis tahmin, tekrar dene\")\n",
    "    x= int(input(\"kilo tahmini; 10'luk degerer giriniz\"))"
   ]
  },
  {
   "cell_type": "code",
   "execution_count": 10,
   "metadata": {},
   "outputs": [
    {
     "name": "stdout",
     "output_type": "stream",
     "text": [
      "Girdiğiniz sayı : 50. Tahminini arttır\n",
      "Girdiğiniz sayı : 60. Tahminini azalt\n",
      "Girdiğiniz sayı : 75. Tahminini azalt\n",
      "Girdiğiniz sayı : 55. Doğru bildiniz. Tebrikler. \n"
     ]
    }
   ],
   "source": [
    "y = True\n",
    "aklımdaki_sayı = 55\n",
    "while y:\n",
    "    tahmin = int(input(\"1 ile 100 arasında bir sayı tahmin edin.\"))\n",
    "    \n",
    "    if aklımdaki_sayı < tahmin:\n",
    "        print(f\"Girdiğiniz sayı : {tahmin}. Tahminini azalt\")\n",
    "    elif aklımdaki_sayı > tahmin:\n",
    "        print(f\"Girdiğiniz sayı : {tahmin}. Tahminini arttır\")\n",
    "    else:\n",
    "        print(f\"Girdiğiniz sayı : {tahmin}. Doğru bildiniz. Tebrikler. \")\n",
    "        y = False\n",
    "    "
   ]
  },
  {
   "cell_type": "code",
   "execution_count": null,
   "metadata": {},
   "outputs": [],
   "source": [
    "x=0\n",
    "sayilar_listesi = [1,3,4,6,5,7]\n",
    "while x < len(sayilar_listesi):\n",
    "    print((sayilar_listesi[x]**2))\n",
    "    x+=1"
   ]
  },
  {
   "cell_type": "code",
   "execution_count": 13,
   "metadata": {},
   "outputs": [
    {
     "name": "stdout",
     "output_type": "stream",
     "text": [
      "[1, 9, 16, 36, 25, 49]\n"
     ]
    }
   ],
   "source": [
    "#listenin elemankarinin karesini bir liste icinde donduren while dongusunu yazin\n",
    "\n",
    "num_list = [1,3,4,6,5,7]\n",
    "\n",
    "square_list =[]     # bos sepet listesi\n",
    "i=0                 # index 0 dan baslar\n",
    "\n",
    "while i < len(num_list):                    # i < numList eleman sayisi(len) oldugu surece calistir\n",
    "    square_list.append(num_list[i]**2)      #bos listeye numList'in tum indexlerini ekle dedik\n",
    "    i +=1                                   # i yi artirarak donguyu devam ettir\n",
    "    \n",
    "print(square_list)                          # dongu disinda elde ettigimiz square listi yazdirdik"
   ]
  },
  {
   "cell_type": "code",
   "execution_count": 16,
   "metadata": {},
   "outputs": [
    {
     "name": "stdout",
     "output_type": "stream",
     "text": [
      "[16, 36]\n"
     ]
    }
   ],
   "source": [
    "num_list = [1,3,4,6,5,7]\n",
    "\n",
    "square_list =[]     \n",
    "i=0\n",
    "\n",
    "while i < len(num_list): \n",
    "    \n",
    "    if num_list[i] % 2 == 0:\n",
    "        square_list.append(num_list[i]**2)\n",
    "        \n",
    "    i+=1                                   #numList indexini artirarak donguyu devam ettirir, While icinde, if disindadir     \n",
    "    \n",
    "print(square_list)                       "
   ]
  },
  {
   "cell_type": "code",
   "execution_count": 1,
   "metadata": {},
   "outputs": [
    {
     "name": "stdout",
     "output_type": "stream",
     "text": [
      "[1, 25, 12, 49, 24, 28, 225, 36, 361, 64, 625]\n"
     ]
    }
   ],
   "source": [
    "#odev: listesinin tek elemanlarının karesini, \n",
    "#       çift elemanlarının 2 katını liste halinde döndüren while döngüsünü yazın\n",
    "\n",
    "list1 = [1,5,6,7,12,14,15,18,19,32,25] \n",
    "resultList =[]\n",
    "\n",
    "i=0\n",
    "\n",
    "while i< len(list1):\n",
    "    \n",
    "    if list1[i] % 2 ==0:\n",
    "        resultList.append(list1[i] * 2)\n",
    "    else:\n",
    "        resultList.append(list1[i] ** 2)\n",
    "    i+=1 \n",
    "\n",
    "print(resultList)   "
   ]
  },
  {
   "cell_type": "code",
   "execution_count": null,
   "metadata": {},
   "outputs": [],
   "source": [
    "sayılar_listesi = [1,5,6,7,12,14,15,18,19,32,25] \n",
    "\n",
    "x = 0\n",
    "\n",
    "result = []\n",
    "\n",
    "while x < len(sayılar_listesi):\n",
    "\n",
    "    if sayılar_listesi[x] % 2:\n",
    "        result.append(sayılar_listesi[x] ** 2)\n",
    "\n",
    "    else:\n",
    "        result.append(sayılar_listesi[x] * 2)\n",
    "\n",
    "    x += 1\n",
    "\n",
    "print(result)"
   ]
  },
  {
   "cell_type": "code",
   "execution_count": 1,
   "metadata": {},
   "outputs": [
    {
     "data": {
      "text/plain": [
       "1"
      ]
     },
     "execution_count": 1,
     "metadata": {},
     "output_type": "execute_result"
    }
   ],
   "source": [
    "5 % 2"
   ]
  },
  {
   "cell_type": "code",
   "execution_count": 2,
   "metadata": {},
   "outputs": [
    {
     "data": {
      "text/plain": [
       "0"
      ]
     },
     "execution_count": 2,
     "metadata": {},
     "output_type": "execute_result"
    }
   ],
   "source": [
    "6 % 2"
   ]
  },
  {
   "cell_type": "code",
   "execution_count": 3,
   "metadata": {},
   "outputs": [
    {
     "name": "stdout",
     "output_type": "stream",
     "text": [
      "bu kod çıktı verir\n"
     ]
    }
   ],
   "source": [
    "if 5 % 2:\n",
    "    print(\"bu kod çıktı verir\")"
   ]
  },
  {
   "cell_type": "code",
   "execution_count": 4,
   "metadata": {},
   "outputs": [],
   "source": [
    "if 6 % 2:\n",
    "    print(\"bu kod çıktı vermez\")"
   ]
  },
  {
   "cell_type": "code",
   "execution_count": null,
   "metadata": {},
   "outputs": [],
   "source": [
    "sayılar_listesi = [1,5,6,7,12,14,15,18,19,32,25] \n",
    "\n",
    "x = 0\n",
    "\n",
    "result = []\n",
    "\n",
    "while x < len(sayılar_listesi):\n",
    "\n",
    "    if sayılar_listesi[x] % 2 == 1:\n",
    "        result.append(sayılar_listesi[x] ** 2)\n",
    "\n",
    "    else:\n",
    "        result.append(sayılar_listesi[x] * 2)\n",
    "\n",
    "    x += 1\n",
    "\n",
    "print(result)"
   ]
  }
 ],
 "metadata": {
  "kernelspec": {
   "display_name": "base",
   "language": "python",
   "name": "python3"
  },
  "language_info": {
   "codemirror_mode": {
    "name": "ipython",
    "version": 3
   },
   "file_extension": ".py",
   "mimetype": "text/x-python",
   "name": "python",
   "nbconvert_exporter": "python",
   "pygments_lexer": "ipython3",
   "version": "3.11.4"
  }
 },
 "nbformat": 4,
 "nbformat_minor": 2
}
